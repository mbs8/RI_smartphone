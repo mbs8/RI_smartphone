{
 "cells": [
  {
   "cell_type": "code",
   "execution_count": 68,
   "metadata": {},
   "outputs": [
    {
     "name": "stdout",
     "output_type": "stream",
     "text": [
      "The autoreload extension is already loaded. To reload it, use:\n",
      "  %reload_ext autoreload\n"
     ]
    }
   ],
   "source": [
    "%load_ext autoreload\n",
    "%autoreload 2\n",
    "\n",
    "import requests\n",
    "import sys\n",
    "from bs4 import BeautifulSoup\n",
    "from tqdm import tqdm_notebook as tqdm\n",
    "import time\n",
    "import numpy as np\n",
    "import pandas as pd\n",
    "import nltk   \n",
    "import unicodedata\n",
    "from html.parser import HTMLParser\n",
    "import re\n",
    "from tqdm import tqdm\n",
    "import glob\n",
    "from utils import *\n",
    "import pathlib\n",
    "from sklearn.pipeline import Pipeline\n",
    "from sklearn.naive_bayes import MultinomialNB\n",
    "from sklearn.model_selection import train_test_split\n",
    "from sklearn.feature_extraction.text import CountVectorizer\n",
    "from sklearn.feature_extraction.text import TfidfTransformer\n",
    "import requests\n",
    "from lxml import etree\n",
    "import re\n",
    "\n",
    "agent = { 'User-Agent': 'Mozilla/5.0 (Windows NT 6.1; WOW64; rv:50.0) Gecko/20100101 Firefox/50.0',\n",
    "          'Accept-Language': 'pt-BR'}\n",
    "\n",
    "latin_dict = \\\n",
    "            {'\\\\u00e1':'a', '\\\\u00e0':'a', '\\\\u00e2':'a', '\\\\u00e3':'a', '\\\\u00e4':'a', '\\\\u00c1':'A', '\\\\u00c0':'A', \n",
    "             '\\\\u00c2':'A', '\\\\u00c3':'A', '\\\\u00c4':'A', '\\\\u00e9':'e', '\\\\u00e8':'e', '\\\\u00ea':'e', '\\\\u00ea':'e', \n",
    "             '\\\\u00c9':'E', '\\\\u00c8':'E', '\\\\u00ca':'E', '\\\\u00cb':'E', '\\\\u00ed':'i', '\\\\u00ec':'i', '\\\\u00ee':'i', \n",
    "             '\\\\u00ef':'i', '\\\\u00cd':'I', '\\\\u00cc':'I', '\\\\u00ce':'I', '\\\\u00cf':'I', '\\\\u00f3':'o', '\\\\u00f2':'o', \n",
    "             '\\\\u00f4':'o', '\\\\u00f5':'o', '\\\\u00f6':'o', '\\\\u00d3':'O', '\\\\u00d2':'O', '\\\\u00d4':'O', '\\\\u00d5':'O', \n",
    "             '\\\\u00d6':'O', '\\\\u00fa':'u', '\\\\u00f9':'u', '\\\\u00fb':'u', '\\\\u00fc':'u', '\\\\u00da':'U', '\\\\u00d9':'U', \n",
    "             '\\\\u00db':'U', '\\\\u00e7':'c', '\\\\u00c7':'C', '\\\\u00f1':'n', '\\\\u00d1':'N', '\\\\u0026':'E', '\\\\u0027':'\\'',\n",
    "             'á':'a', 'à':'a', 'â':'a', 'ã':'a', 'ä':'a', 'Á':'A', 'À':'A', 'Â':'A', 'Ã':'A', 'Ä':'A', 'é':'e', 'è':'e', \n",
    "             'ê':'e', 'ê':'e', 'É':'E', 'È':'E', 'Ê':'E', 'Ë':'E', 'í':'i', 'ì':'i', 'î':'i', 'ï':'i', 'Í':'I', 'Ì':'I', \n",
    "             'Î':'I', 'Ï':'I', 'ó':'o', 'ò':'o', 'ô':'o', 'õ':'o', 'ö':'o', 'Ó':'O', 'Ò':'O', 'Ô':'O', 'Õ':'O', 'Ö':'O', \n",
    "             'ú':'u', 'ù':'u', 'û':'u', 'ü':'u', 'Ú':'U', 'Ù':'U', 'Û':'U', 'ç':'c', 'Ç':'C', 'ñ':'n', 'Ñ':'N', '&':'E'}"
   ]
  },
  {
   "cell_type": "markdown",
   "metadata": {},
   "source": [
    "# Generic Functions"
   ]
  },
  {
   "cell_type": "code",
   "execution_count": 4,
   "metadata": {},
   "outputs": [],
   "source": [
    "def levenshtein(word1, word2):\n",
    "    \"\"\"\n",
    "    https://medium.com/@yash_agarwal2/soundex-and-levenshtein-distance-in-python-8b4b56542e9e\n",
    "    https://en.wikipedia.org/wiki/Levenshtein_distance\n",
    "    :param word1:\n",
    "    :param word2:\n",
    "    :return:\n",
    "    \"\"\"\n",
    "    word2 = word2.lower()\n",
    "    word1 = word1.lower()\n",
    "    matrix = [[0 for x in range(len(word2) + 1)] for x in range(len(word1) + 1)]\n",
    "\n",
    "    for x in range(len(word1) + 1):\n",
    "        matrix[x][0] = x\n",
    "    for y in range(len(word2) + 1):\n",
    "        matrix[0][y] = y\n",
    "\n",
    "    for x in range(1, len(word1) + 1):\n",
    "        for y in range(1, len(word2) + 1):\n",
    "            if word1[x - 1] == word2[y - 1]:\n",
    "                matrix[x][y] = min(\n",
    "                    matrix[x - 1][y] + 1,\n",
    "                    matrix[x - 1][y - 1],\n",
    "                    matrix[x][y - 1] + 1\n",
    "                )\n",
    "            else:\n",
    "                matrix[x][y] = min(\n",
    "                    matrix[x - 1][y] + 1,\n",
    "                    matrix[x - 1][y - 1] + 1,\n",
    "                    matrix[x][y - 1] + 1\n",
    "                )\n",
    "\n",
    "    return matrix[len(word1)][len(word2)]\n",
    "\n",
    "def nomr_l(word1, word2):\n",
    "    return levenshtein(word1, word2) / max(len(word1), len(word2))\n",
    "\n",
    "def html_to_np(table):\n",
    "    result = []\n",
    "    all_rows = table.find_all('tr')\n",
    "    for row in all_rows:\n",
    "        result.append([])\n",
    "        all_cols = row.find_all('td')\n",
    "        for col in all_cols:\n",
    "            col_text = [s.strip(' ') for s in col.find_all(text=True)]\n",
    "            col_text  = ''.join(col_text) # it should not change anything\n",
    "            result[-1].append(col_text)\n",
    "    return np.array(result)\n",
    "\n",
    "\n",
    "def np_to_dict(table, fields_dict):\n",
    "    new_dict = fields_dict.copy()\n",
    "    for cols in table:\n",
    "        if len(cols) != 2:\n",
    "            continue\n",
    "        for key in fields_dict.keys():\n",
    "            if nomr_l(key, cols[0]) <= 0.25:\n",
    "                new_dict[key] = cols[1].replace(\"\\n\",'')\n",
    "            #print(nomr_l(key, cols[0]), key, cols[0])\n",
    "    return new_dict"
   ]
  },
  {
   "cell_type": "markdown",
   "metadata": {},
   "source": [
    "## Amazon"
   ]
  },
  {
   "cell_type": "code",
   "execution_count": 66,
   "metadata": {},
   "outputs": [],
   "source": [
    "def get_fields_amazon(html_page):\n",
    "    fields_amazon = {\n",
    "            'Preço': '',\n",
    "            'Sistema operacional': '',\n",
    "            'RAM': '',\n",
    "            'Capacidade de armazenamento digital': '',\n",
    "            'Modelo': '',\n",
    "            'Cor': '',  \n",
    "            'Tamanho da tela':'',\n",
    "            'Avaliações de clientes': ''\n",
    "           }\n",
    "    \n",
    "    parser = etree.HTMLParser()\n",
    "    XPATH_TABLE1 = \"\"\"//*[@id=\"prodDetails\"]/div[2]/div[1]/div/div[2]/div/div/table/tbody/tr\"\"\"\n",
    "    XPATH_TABLE2 = \"\"\"//*[@id=\"prodDetails\"]/div[2]/div[2]/div/div[2]/div/div/table/tbody/tr\"\"\"\n",
    "    XPATH_AVAL = \"\"\"//*[@id=\"prodDetails\"]/div[2]/div[2]/div/div[2]/div/div/table/tbody/tr[10]/td[2]/span/span[3]/a/text()\"\"\"\n",
    "    PRICE = \"\"\"//*[@id=\"price\"]/table/tr/td/span[1]/text()\"\"\"\n",
    "    tree = etree.parse(html_page, parser)\n",
    "    RAW_TABLE1 = tree.xpath(XPATH_TABLE1)\n",
    "    RAW_TABLE2 = tree.xpath(XPATH_TABLE2)\n",
    "    RAW_AVAL = tree.xpath(XPATH_AVAL)\n",
    "    RAW_PRICE = tree.xpath(PRICE)\n",
    "    \n",
    "    try:\n",
    "        fields_amazon['Preço'] = RAW_PRICE[0]\n",
    "    except:\n",
    "        pass\n",
    "    \n",
    "    try:\n",
    "        fields_amazon = parse_table_amazon(fields_amazon, RAW_TABLE1)\n",
    "        fields_amazon = parse_table_amazon(fields_amazon, RAW_TABLE2)\n",
    "    except:\n",
    "        pass\n",
    "    \n",
    "    try:\n",
    "        fields_amazon['Avaliações de clientes'] = RAW_AVAL[0].strip()\n",
    "    except:\n",
    "        pass\n",
    "                \n",
    "    return fields_amazon\n",
    "\n",
    "def parse_table_amazon(fields, table):\n",
    "    try:\n",
    "        for row in table:\n",
    "            for key in fields:\n",
    "                att = row[0].text.replace(\" \", \"\")\n",
    "                loss = nomr_l(key, att)\n",
    "                if(loss < 0.3):\n",
    "                    value = row[1].text\n",
    "                    fields[key] = value\n",
    "    except:\n",
    "        pass\n",
    "    \n",
    "    return fields"
   ]
  },
  {
   "cell_type": "code",
   "execution_count": 67,
   "metadata": {},
   "outputs": [
    {
     "data": {
      "text/plain": [
       "{'Preço': 'R$1.039,90',\n",
       " 'Sistema operacional': 'Android 8.1 Oreo',\n",
       " 'RAM': '4 GB',\n",
       " 'Capacidade de armazenamento digital': '256 GB',\n",
       " 'Modelo': 'M1808D2TGN-64',\n",
       " 'Cor': 'Preto',\n",
       " 'Tamanho da tela': '6.26 polegadas',\n",
       " 'Avaliações de clientes': '988 avaliações de clientes'}"
      ]
     },
     "execution_count": 67,
     "metadata": {},
     "output_type": "execute_result"
    }
   ],
   "source": [
    "# testing\n",
    "# get_fields_amazon('./amazon.html')"
   ]
  },
  {
   "cell_type": "markdown",
   "metadata": {},
   "source": [
    "## Magazine Luiza"
   ]
  },
  {
   "cell_type": "code",
   "execution_count": 46,
   "metadata": {},
   "outputs": [],
   "source": [
    "def get_fields_luiza(html_page):\n",
    "\n",
    "    fields_luiza = {\n",
    "            'Preço': '',\n",
    "            'Sistema operacional': '',\n",
    "            'Memória RAM': '',\n",
    "            'Memória': '',\n",
    "            'Modelo': '',\n",
    "            'Cor': '',  \n",
    "            'Tamanho da tela':'',\n",
    "            'Avaliações de clientes': '',\n",
    "            'Marca' : ''\n",
    "           }\n",
    "    \n",
    "    parser = etree.HTMLParser()\n",
    "    XPATH_TABLE1 = \"\"\"//*[@id=\"anchor-description\"]/div/table[1]/tr/td/table/tr\"\"\"\n",
    "    XPATH_TABLE2 = \"\"\"//*[@id=\"anchor-description\"]/div/table[2]/tr/td/table/tr\"\"\"\n",
    "    PRICE = \"\"\"/html/body/div[3]/div[5]/div[1]/div[4]/div[2]/div[4]/div/div/div/span\"\"\"\n",
    "    tree = etree.parse(html_page, parser)\n",
    "    RAW_TABLE1 = tree.xpath(XPATH_TABLE1)\n",
    "    RAW_TABLE2 = tree.xpath(XPATH_TABLE2)\n",
    "    RAW_PRICE = tree.xpath(PRICE)\n",
    "    \n",
    "    if(len(RAW_PRICE) >= 2):\n",
    "        fields_luiza[\"Preço\"] = \"{} {}\".format(RAW_PRICE[0].text, RAW_PRICE[1].text) \n",
    "    \n",
    "    \n",
    "    fields_luiza = parse_table_luiza(fields_luiza, RAW_TABLE1)\n",
    "    fields_luiza = parse_table_luiza(fields_luiza, RAW_TABLE2)\n",
    "                \n",
    "    return fields_luiza\n",
    "\n",
    "def parse_table_luiza(fields, table):\n",
    "    try:\n",
    "        for row in table:\n",
    "            for key in fields:\n",
    "                att = row[0].text.replace(\" \", \"\")\n",
    "                loss = nomr_l(key, att)\n",
    "                if(loss < 0.3):\n",
    "                    value = row[1].text\n",
    "                    fields[key] = value\n",
    "    except:\n",
    "        pass\n",
    "    return fields"
   ]
  },
  {
   "cell_type": "code",
   "execution_count": 47,
   "metadata": {},
   "outputs": [
    {
     "data": {
      "text/plain": [
       "{'Preço': 'R$ 4.999,00',\n",
       " 'Sistema operacional': '  Android  ',\n",
       " 'Memória RAM': '  8GB  ',\n",
       " 'Memória': '  128GB  ',\n",
       " 'Modelo': '  Galaxy S10  ',\n",
       " 'Cor': '  Azul  ',\n",
       " 'Tamanho da tela': '  6.1 polegadas  ',\n",
       " 'Avaliações de clientes': '',\n",
       " 'Marca': '  Samsung  '}"
      ]
     },
     "execution_count": 47,
     "metadata": {},
     "output_type": "execute_result"
    }
   ],
   "source": [
    "# testing\n",
    "# get_fields_luiza('./luiza.html')"
   ]
  },
  {
   "cell_type": "markdown",
   "metadata": {},
   "source": [
    "# IByte"
   ]
  },
  {
   "cell_type": "code",
   "execution_count": 42,
   "metadata": {},
   "outputs": [],
   "source": [
    "def get_fields_ibyte(html_page):\n",
    "    fields_ibyte = {\n",
    "            'Preço': '',\n",
    "            'Sistema operacional': '',\n",
    "            'Memória RAM(GB)': '',\n",
    "            'Memória Total Interna (GB)': '',\n",
    "            'Modelo': '',\n",
    "            'Cor': '',  \n",
    "            'Tamanho (Tela Principal)':'',\n",
    "            'Avaliações de clientes': '',\n",
    "            'Marca' : ''\n",
    "           }\n",
    "    \n",
    "    parser = etree.HTMLParser()\n",
    "    XPATH_DD = \"\"\"//*[@id=\"descricao\"]/table/tbody/tr\"\"\"\n",
    "    PRICE = \"\"\"//*[@id=\"product_addtocart_form\"]/div[3]/div[1]/div/div/p[2]\"\"\"\n",
    "    tree = etree.parse(html_page, parser)\n",
    "    RAW_DD = tree.xpath(XPATH_DD)\n",
    "    RAW_PRICE = tree.xpath(PRICE)\n",
    "    \n",
    "    try:\n",
    "        fields_ibyte['Preço'] = RAW_PRICE[0][1].text.replace(\"\\n\", \"\").replace(\" \", \"\")\n",
    "    except:\n",
    "        pass\n",
    "    \n",
    "    try:\n",
    "        for row in RAW_DD:\n",
    "            if(len(row) == 3):\n",
    "                att = row[1][0].text\n",
    "                value  = row[2].text\n",
    "                for key in fields_ibyte.keys():\n",
    "                    loss = nomr_l(key, att)\n",
    "                    if loss < 0.2:\n",
    "                        fields_ibyte[key] = value\n",
    "    except:\n",
    "        pass\n",
    "\n",
    "    return fields_ibyte"
   ]
  },
  {
   "cell_type": "code",
   "execution_count": 43,
   "metadata": {},
   "outputs": [
    {
     "data": {
      "text/plain": [
       "{'Preço': 'R$2.999,00',\n",
       " 'Sistema operacional': 'Android',\n",
       " 'Memória RAM(GB)': '4 GB',\n",
       " 'Memória Total Interna (GB)': '128 GB*',\n",
       " 'Modelo': '',\n",
       " 'Cor': '',\n",
       " 'Tamanho (Tela Principal)': '146.5mm (5.8\" retângulo cheio) / 143.3mm (5.6\" cantos arredondados)',\n",
       " 'Avaliações de clientes': '',\n",
       " 'Marca': ''}"
      ]
     },
     "execution_count": 43,
     "metadata": {},
     "output_type": "execute_result"
    }
   ],
   "source": [
    "# testing\n",
    "# get_fields_ibyte('./ibyte.html')"
   ]
  },
  {
   "cell_type": "markdown",
   "metadata": {},
   "source": [
    "# Kabum"
   ]
  },
  {
   "cell_type": "code",
   "execution_count": 40,
   "metadata": {},
   "outputs": [],
   "source": [
    "def get_fields_kabum(html_page):\n",
    "    fields_kabum = {\n",
    "            'Preço': '',\n",
    "            'Sistema operacional': '',\n",
    "            'Memória RAM': '',\n",
    "            'Memória Interna total compartilhada': '',\n",
    "            'Modelo': '',\n",
    "            'Cor': '',  \n",
    "            'Tamanho do Display':'',\n",
    "            'Avaliações de clientes': '',\n",
    "            'Marca' : ''\n",
    "           }\n",
    "    \n",
    "    parser = etree.HTMLParser()\n",
    "    XPATH_DD = \"\"\"//*[@id=\"pag-detalhes\"]/div/div[6]/div[2]/p\"\"\"\n",
    "    PRICE = \"\"\"//*[@id=\"pag-detalhes\"]/div/div[2]/div[2]/div[2]/div[1]/span/span/span/strong\"\"\"\n",
    "    AVAL = \"\"\"//*[@id=\"pag-detalhes\"]/div/div[2]/div[1]/div[1]/div[1]/div[2]/table\"\"\"\n",
    "    tree = etree.parse(html_page, parser)\n",
    "    RAW_DD = tree.xpath(XPATH_DD)\n",
    "    RAW_PRICE = tree.xpath(PRICE)\n",
    "    RAW_AVAL = tree.xpath(AVAL)\n",
    "    \n",
    "    try:\n",
    "        fields_kabum['Avaliações de clientes'] = RAW_AVAL[0][0][0].text.split(\"(\")[1].split(\")\")[0]\n",
    "    except:\n",
    "        pass\n",
    "    \n",
    "    try:\n",
    "        fields_kabum['Preço'] = RAW_PRICE[0].text\n",
    "    except:\n",
    "        pass\n",
    "    try:\n",
    "        \n",
    "        for p in RAW_DD:\n",
    "            if(p.text != None):\n",
    "                info = p.text.split(\":\")\n",
    "                if len(info) == 2:\n",
    "                    attrib, value = info\n",
    "                    for key in fields_kabum.keys():\n",
    "                        loss = nomr_l(key, attrib)\n",
    "                        if loss < 0.4:\n",
    "                            fields_kabum[key] = value\n",
    "    except:\n",
    "        pass\n",
    "    \n",
    "    return fields_kabum"
   ]
  },
  {
   "cell_type": "code",
   "execution_count": 41,
   "metadata": {},
   "outputs": [
    {
     "data": {
      "text/plain": [
       "{'Preço': 'R$ 674,10 ',\n",
       " 'Sistema operacional': ' Android 9.0',\n",
       " 'Memória RAM': ' 2GB',\n",
       " 'Memória Interna total compartilhada': ' 32GB*',\n",
       " 'Modelo': ' SM-A105M/32DL',\n",
       " 'Cor': '',\n",
       " 'Tamanho do Display': ' 6.2\"*',\n",
       " 'Avaliações de clientes': '10',\n",
       " 'Marca': ' Samsung'}"
      ]
     },
     "execution_count": 41,
     "metadata": {},
     "output_type": "execute_result"
    }
   ],
   "source": [
    "# testing\n",
    "# get_fields_kabum('./kabum.html')"
   ]
  },
  {
   "cell_type": "markdown",
   "metadata": {},
   "source": [
    "# Avenida"
   ]
  },
  {
   "cell_type": "code",
   "execution_count": 25,
   "metadata": {},
   "outputs": [],
   "source": [
    "def get_fields_avenida(html_page):\n",
    "    fields_avenida = {'Preço': '',\n",
    "        'Sistema operacional': '',\n",
    "        'Memória RAM': '',\n",
    "        'Memória Interna': '',\n",
    "        'Modelo': '',\n",
    "        'Cor': '',  \n",
    "        'Tamanho do Display':'',\n",
    "        'Avaliações de clientes': '',\n",
    "        'Marca' : ''\n",
    "       }\n",
    "\n",
    "    parser = etree.HTMLParser()\n",
    "    XPATH_DD = \"\"\"//*[@id=\"caracteristicas\"]/table\"\"\"\n",
    "    PRICE = \"\"\"//*[@id=\"product-content\"]/div[2]/div[1]/div[2]/div/div[3]/div/p/em/strong\"\"\"\n",
    "    tree = etree.parse(html_page, parser)\n",
    "    RAW_DD = tree.xpath(XPATH_DD)\n",
    "    RAW_DD = RAW_DD[0]\n",
    "    RAW_PRICE = tree.xpath(PRICE)\n",
    "    RAW_PRICE = RAW_PRICE\n",
    "    \n",
    "    try:\n",
    "        fields_avenida['Preço'] = RAW_PRICE[1].text\n",
    "    except:\n",
    "        pass\n",
    "    try:\n",
    "        for key in fields_avenida.keys():\n",
    "            for element in RAW_DD:\n",
    "                loss = nomr_l(element[0].text, key)\n",
    "                if loss < 0.4:\n",
    "                    fields_avenida[key] = element[1].text\n",
    "    except:\n",
    "        pass\n",
    "\n",
    "    return fields_avenida"
   ]
  },
  {
   "cell_type": "code",
   "execution_count": 163,
   "metadata": {},
   "outputs": [
    {
     "data": {
      "text/plain": [
       "{'Preço': 'R$ 699,99',\n",
       " 'Sistema operacional': '',\n",
       " 'Memória RAM': '1GB',\n",
       " 'Memória Interna': '8GB',\n",
       " 'Modelo': 'Redmi Go',\n",
       " 'Cor': 'Preto',\n",
       " 'Tamanho do Display': '5\"',\n",
       " 'Avaliações de clientes': '',\n",
       " 'Marca': 'Xiaomi'}"
      ]
     },
     "execution_count": 163,
     "metadata": {},
     "output_type": "execute_result"
    }
   ],
   "source": [
    "# testing\n",
    "# get_fields_avenida('./avenida.html')"
   ]
  },
  {
   "cell_type": "markdown",
   "metadata": {},
   "source": [
    "## Cissamagazine"
   ]
  },
  {
   "cell_type": "code",
   "execution_count": 33,
   "metadata": {},
   "outputs": [],
   "source": [
    "def get_fields_cissamagazine(html_page):\n",
    "    fields_cissamagazine = {\n",
    "            'Preço': '',\n",
    "            'Sistema operacional': '',\n",
    "            'Memória RAM': '',\n",
    "            'Memória Interna': '',\n",
    "            'Modelo': '',\n",
    "            'Cor': '',  \n",
    "            'Tamanho da tela':'',\n",
    "            'Avaliações de clientes': '',\n",
    "            'Marca' : ''\n",
    "           }\n",
    "\n",
    "    parser = etree.HTMLParser()\n",
    "    XPATH_DD = r\"\"\"//*[@id=\"caracteristicas\"]/div[2]/div/dl/span/dd/text()\"\"\"\n",
    "    XPATH_DT = r\"\"\"//*[@id=\"caracteristicas\"]/div[2]/div/dl/span/dt/text()\"\"\"\n",
    "    PRICE = \"\"\"//*[@id=\"content-price-product\"]/div[1]/div[2]/div/span[1]/span[1]/text()\"\"\"\n",
    "    tree = etree.parse(html_page, parser)\n",
    "    RAW_DD = tree.xpath(XPATH_DD)\n",
    "    RAW_DT = tree.xpath(XPATH_DT)\n",
    "    RAW_PRICE = tree.xpath(PRICE)\n",
    "    \n",
    "    for p in RAW_PRICE:\n",
    "        if len(p):\n",
    "            price = (re.findall(\"R\\$ \\d*.\\d{1,5}\\,\\d{1,3}\", str(p)))\n",
    "            if len(price):\n",
    "                fields_cissamagazine[\"Preço\"] = price[0]\n",
    "\n",
    "\n",
    "    try:\n",
    "        for p in zip(RAW_DT, RAW_DD):\n",
    "            for key in fields_cissamagazine.keys():\n",
    "                loss = nomr_l(p[0], key)\n",
    "                if loss < 0.2:\n",
    "                    fields_cissamagazine[key] = p[1]\n",
    "    except:\n",
    "        pass\n",
    "\n",
    "    return fields_cissamagazine"
   ]
  },
  {
   "cell_type": "code",
   "execution_count": 25,
   "metadata": {},
   "outputs": [
    {
     "data": {
      "text/plain": [
       "{'Preço': 'R$ 1.838,50',\n",
       " 'Sistema operacional': '',\n",
       " 'Memória RAM': '6 GB',\n",
       " 'Memória Interna': '128 GB',\n",
       " 'Modelo': ' Wi-Fi 802.11 a/b/g/n/ac; ',\n",
       " 'Cor': '',\n",
       " 'Tamanho da tela': '6.39\"',\n",
       " 'Avaliações de clientes': '',\n",
       " 'Marca': 'Bluetooth 5.0; '}"
      ]
     },
     "execution_count": 25,
     "metadata": {},
     "output_type": "execute_result"
    }
   ],
   "source": [
    "# testing\n",
    "# get_fields_cissamagazine('./cissamagazine.html')"
   ]
  },
  {
   "cell_type": "markdown",
   "metadata": {},
   "source": [
    "## Colombo"
   ]
  },
  {
   "cell_type": "code",
   "execution_count": 34,
   "metadata": {},
   "outputs": [],
   "source": [
    "# html_page = string with the path to the html page\n",
    "def get_fields_colombo(html_page):\n",
    "    fields_colombo = {\n",
    "        'Preço': '',\n",
    "        'Sistema operacional': '',\n",
    "        'Memória RAM': '',\n",
    "        'Memória Interna': '',\n",
    "        'Modelo': '',\n",
    "        'Cor': '',  \n",
    "        'Resolução da tela':'',\n",
    "        'Avaliações de clientes': '',\n",
    "        'Marca' : ''\n",
    "       }\n",
    "    \n",
    "    parser = etree.HTMLParser()\n",
    "    XPATH_DD = r\"\"\"//*[@id=\"produto-caracteristicas\"]/div/div[2]/div/div/span/text()\"\"\"\n",
    "    PRICE = \"\"\"//*[@id=\"dados-produto-disponivel\"]/div[2]/span[2]/span/text()\"\"\"\n",
    "    tree = etree.parse(html_page, parser)\n",
    "    RAW_DD = tree.xpath(XPATH_DD)\n",
    "    RAW_PRICE = tree.xpath(PRICE)\n",
    "    \n",
    "    for idx, p in enumerate(RAW_PRICE):\n",
    "        p = p.strip()\n",
    "        fd = re.findall(\"\\d*.\\d{1,5}\\,\\d{1,3}\", str(p))\n",
    "        if len(fd):\n",
    "            fields_colombo[\"Preço\"] = \"R$ \" + fd[0]\n",
    "\n",
    "    try:\n",
    "        \n",
    "        for idx, p in enumerate(RAW_DD):\n",
    "            p = p.strip()\n",
    "            if idx % 2 == 0:\n",
    "                for key in fields_colombo.keys():\n",
    "                    loss = nomr_l(p, key)\n",
    "\n",
    "                    if loss <= 0.25:\n",
    "                        fields_colombo[key] = RAW_DD[idx+1].strip().split('\\n')[0]\n",
    "    except:\n",
    "        pass\n",
    "                    \n",
    "    return fields_colombo"
   ]
  },
  {
   "cell_type": "code",
   "execution_count": 35,
   "metadata": {},
   "outputs": [
    {
     "data": {
      "text/plain": [
       "{'Preço': 'R$ 858,00',\n",
       " 'Sistema operacional': 'Android 7.0',\n",
       " 'Memória RAM': '2 GB',\n",
       " 'Memória Interna': '32 GB',\n",
       " 'Modelo': 'ZenFone Max M1',\n",
       " 'Cor': 'Preto',\n",
       " 'Resolução da tela': '1280 x 720',\n",
       " 'Avaliações de clientes': '',\n",
       " 'Marca': ''}"
      ]
     },
     "execution_count": 35,
     "metadata": {},
     "output_type": "execute_result"
    }
   ],
   "source": [
    "# testing\n",
    "# get_fields_colombo('./colombo.html')"
   ]
  },
  {
   "cell_type": "markdown",
   "metadata": {},
   "source": [
    "# Ricardo Eletro"
   ]
  },
  {
   "cell_type": "code",
   "execution_count": 36,
   "metadata": {},
   "outputs": [],
   "source": [
    "def get_fields_ricardo(html_page):\n",
    "    fields_ricardo = {\n",
    "            'Preço': '',\n",
    "            'Sistema operacional': '',\n",
    "            'Memória RAM': '',\n",
    "            'Armazenamento Interno': '',\n",
    "            'Modelo': '',\n",
    "            'Cor': '',  \n",
    "            'Resolução da tela':'',\n",
    "            'Avaliações de clientes': '',\n",
    "            'Marca' : ''\n",
    "           }\n",
    "\n",
    "\n",
    "    parser = etree.HTMLParser()\n",
    "    XPATH_DD = r\"\"\"//*[@id=\"aba-caracteristicas\"]/div[1]/table[1]\"\"\"\n",
    "    PRICE = r\"\"\"//*[@id=\"ProdutoDetalhesPrecoComprarAgoraPrecoDePreco\"]/text()\"\"\"\n",
    "    tree = etree.parse(html_page, parser)\n",
    "    RAW_DD = tree.xpath(XPATH_DD)\n",
    "    RAW_PRICE = tree.xpath(PRICE)\n",
    "    \n",
    "    for p in RAW_PRICE:\n",
    "        fields_ricardo[\"Preço\"] = \"R$ \"+p\n",
    "    try:\n",
    "        \n",
    "        for idx, p in enumerate(RAW_DD):\n",
    "            tr = p.findall(\"tr\")\n",
    "            for y in range(len(tr)):\n",
    "                propesed_key, propesed_value = tr[y][0], tr[y][1]\n",
    "                for key in fields_ricardo.keys():\n",
    "\n",
    "                    loss = nomr_l(propesed_key.text, key)\n",
    "                    if loss <= 0.35:\n",
    "                        fields_ricardo[key] = propesed_value.text\n",
    "    except:\n",
    "        pass\n",
    "    return fields_ricardo"
   ]
  },
  {
   "cell_type": "code",
   "execution_count": 39,
   "metadata": {},
   "outputs": [
    {
     "data": {
      "text/plain": [
       "{'Preço': 'R$ 735,42',\n",
       " 'Sistema operacional': 'ANDROID 8.1 ',\n",
       " 'Memória RAM': '2 GB ',\n",
       " 'Armazenamento Interno': '16 GB ',\n",
       " 'Modelo': '',\n",
       " 'Cor': 'Preto ',\n",
       " 'Resolução da tela': 'HD+ (1440X720) ',\n",
       " 'Avaliações de clientes': '',\n",
       " 'Marca': ''}"
      ]
     },
     "execution_count": 39,
     "metadata": {},
     "output_type": "execute_result"
    }
   ],
   "source": [
    "# testing\n",
    "# get_fields_ricardo('./ricardoeletro.html')"
   ]
  }
 ],
 "metadata": {
  "kernelspec": {
   "display_name": "Python 3",
   "language": "python",
   "name": "python3"
  },
  "language_info": {
   "codemirror_mode": {
    "name": "ipython",
    "version": 3
   },
   "file_extension": ".py",
   "mimetype": "text/x-python",
   "name": "python",
   "nbconvert_exporter": "python",
   "pygments_lexer": "ipython3",
   "version": "3.7.4"
  }
 },
 "nbformat": 4,
 "nbformat_minor": 4
}
