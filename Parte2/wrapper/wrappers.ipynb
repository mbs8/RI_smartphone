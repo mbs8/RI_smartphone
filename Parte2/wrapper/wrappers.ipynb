{
 "cells": [
  {
   "cell_type": "code",
   "execution_count": 1,
   "metadata": {},
   "outputs": [
    {
     "ename": "ModuleNotFoundError",
     "evalue": "No module named 'sklearn'",
     "output_type": "error",
     "traceback": [
      "\u001b[0;31m---------------------------------------------------------------------------\u001b[0m",
      "\u001b[0;31mModuleNotFoundError\u001b[0m                       Traceback (most recent call last)",
      "\u001b[0;32m<ipython-input-1-ec7638d5a58b>\u001b[0m in \u001b[0;36m<module>\u001b[0;34m\u001b[0m\n\u001b[1;32m     16\u001b[0m \u001b[0;32mfrom\u001b[0m \u001b[0mtqdm\u001b[0m \u001b[0;32mimport\u001b[0m \u001b[0mtqdm\u001b[0m\u001b[0;34m\u001b[0m\u001b[0;34m\u001b[0m\u001b[0m\n\u001b[1;32m     17\u001b[0m \u001b[0;32mimport\u001b[0m \u001b[0mglob\u001b[0m\u001b[0;34m\u001b[0m\u001b[0;34m\u001b[0m\u001b[0m\n\u001b[0;32m---> 18\u001b[0;31m \u001b[0;32mfrom\u001b[0m \u001b[0mutils\u001b[0m \u001b[0;32mimport\u001b[0m \u001b[0;34m*\u001b[0m\u001b[0;34m\u001b[0m\u001b[0;34m\u001b[0m\u001b[0m\n\u001b[0m\u001b[1;32m     19\u001b[0m \u001b[0;32mimport\u001b[0m \u001b[0mpathlib\u001b[0m\u001b[0;34m\u001b[0m\u001b[0;34m\u001b[0m\u001b[0m\n\u001b[1;32m     20\u001b[0m \u001b[0;32mfrom\u001b[0m \u001b[0msklearn\u001b[0m\u001b[0;34m.\u001b[0m\u001b[0mpipeline\u001b[0m \u001b[0;32mimport\u001b[0m \u001b[0mPipeline\u001b[0m\u001b[0;34m\u001b[0m\u001b[0;34m\u001b[0m\u001b[0m\n",
      "\u001b[0;32m~/Documents/Git/Faculdade/IF962 - Recuperação da informação/RI_smartphone/Parte2/wrapper/utils.py\u001b[0m in \u001b[0;36m<module>\u001b[0;34m\u001b[0m\n\u001b[1;32m      4\u001b[0m \u001b[0;32mimport\u001b[0m \u001b[0mpathlib\u001b[0m\u001b[0;34m\u001b[0m\u001b[0;34m\u001b[0m\u001b[0m\n\u001b[1;32m      5\u001b[0m \u001b[0;32mfrom\u001b[0m \u001b[0mbs4\u001b[0m \u001b[0;32mimport\u001b[0m \u001b[0mBeautifulSoup\u001b[0m\u001b[0;34m\u001b[0m\u001b[0;34m\u001b[0m\u001b[0m\n\u001b[0;32m----> 6\u001b[0;31m \u001b[0;32mfrom\u001b[0m \u001b[0msklearn\u001b[0m\u001b[0;34m.\u001b[0m\u001b[0mfeature_extraction\u001b[0m\u001b[0;34m.\u001b[0m\u001b[0mtext\u001b[0m \u001b[0;32mimport\u001b[0m \u001b[0mCountVectorizer\u001b[0m\u001b[0;34m\u001b[0m\u001b[0;34m\u001b[0m\u001b[0m\n\u001b[0m\u001b[1;32m      7\u001b[0m \u001b[0;32mfrom\u001b[0m \u001b[0msklearn\u001b[0m\u001b[0;34m.\u001b[0m\u001b[0mfeature_extraction\u001b[0m\u001b[0;34m.\u001b[0m\u001b[0mtext\u001b[0m \u001b[0;32mimport\u001b[0m \u001b[0mTfidfTransformer\u001b[0m\u001b[0;34m\u001b[0m\u001b[0;34m\u001b[0m\u001b[0m\n\u001b[1;32m      8\u001b[0m \u001b[0;32mfrom\u001b[0m \u001b[0msklearn\u001b[0m\u001b[0;34m.\u001b[0m\u001b[0mpreprocessing\u001b[0m \u001b[0;32mimport\u001b[0m \u001b[0mMinMaxScaler\u001b[0m\u001b[0;34m\u001b[0m\u001b[0;34m\u001b[0m\u001b[0m\n",
      "\u001b[0;31mModuleNotFoundError\u001b[0m: No module named 'sklearn'"
     ]
    }
   ],
   "source": [
    "%load_ext autoreload\n",
    "%autoreload 2\n",
    "\n",
    "import requests\n",
    "import sys\n",
    "sys.path.append('..')\n",
    "from bs4 import BeautifulSoup\n",
    "from tqdm import tqdm_notebook as tqdm\n",
    "import time\n",
    "import numpy as np\n",
    "import pandas as pd\n",
    "import nltk   \n",
    "import unicodedata\n",
    "from html.parser import HTMLParser\n",
    "import re\n",
    "from tqdm import tqdm\n",
    "import glob\n",
    "from utils import *\n",
    "import pathlib\n",
    "from sklearn.pipeline import Pipeline\n",
    "from sklearn.naive_bayes import MultinomialNB\n",
    "from sklearn.model_selection import train_test_split\n",
    "from sklearn.feature_extraction.text import CountVectorizer\n",
    "from sklearn.feature_extraction.text import TfidfTransformer\n",
    "import requests\n",
    "\n",
    "agent = { 'User-Agent': 'Mozilla/5.0 (Windows NT 6.1; WOW64; rv:50.0) Gecko/20100101 Firefox/50.0',\n",
    "          'Accept-Language': 'pt-BR'}"
   ]
  },
  {
   "cell_type": "code",
   "execution_count": 3,
   "metadata": {},
   "outputs": [],
   "source": [
    "\n",
    "#url = r\"https://www.amazon.com.br/Smartphone-Xiaomi-64GB-Piano-Black/dp/B07QH823FV/ref=pd_sbs_107_5/138-4765066-9703910?_encoding=UTF8&pd_rd_i=B07QH823FV&pd_rd_r=307fed63-71d8-4c9e-aacc-82a0ddc80cd9&pd_rd_w=x0jYi&pd_rd_wg=88HJ1&pf_rd_p=80c6065d-57d3-41bf-b15e-ee01dd80424f&pf_rd_r=7N8T5AJWRZ6VPNQTB88Z&psc=1&refRID=7N8T5AJWRZ6VPNQTB88Z\"\n"
   ]
  },
  {
   "cell_type": "markdown",
   "metadata": {},
   "source": [
    "# Generic Functions"
   ]
  },
  {
   "cell_type": "code",
   "execution_count": 85,
   "metadata": {},
   "outputs": [],
   "source": [
    "def levenshtein(word1, word2):\n",
    "    \"\"\"\n",
    "    https://medium.com/@yash_agarwal2/soundex-and-levenshtein-distance-in-python-8b4b56542e9e\n",
    "    https://en.wikipedia.org/wiki/Levenshtein_distance\n",
    "    :param word1:\n",
    "    :param word2:\n",
    "    :return:\n",
    "    \"\"\"\n",
    "    word2 = word2.lower()\n",
    "    word1 = word1.lower()\n",
    "    matrix = [[0 for x in range(len(word2) + 1)] for x in range(len(word1) + 1)]\n",
    "\n",
    "    for x in range(len(word1) + 1):\n",
    "        matrix[x][0] = x\n",
    "    for y in range(len(word2) + 1):\n",
    "        matrix[0][y] = y\n",
    "\n",
    "    for x in range(1, len(word1) + 1):\n",
    "        for y in range(1, len(word2) + 1):\n",
    "            if word1[x - 1] == word2[y - 1]:\n",
    "                matrix[x][y] = min(\n",
    "                    matrix[x - 1][y] + 1,\n",
    "                    matrix[x - 1][y - 1],\n",
    "                    matrix[x][y - 1] + 1\n",
    "                )\n",
    "            else:\n",
    "                matrix[x][y] = min(\n",
    "                    matrix[x - 1][y] + 1,\n",
    "                    matrix[x - 1][y - 1] + 1,\n",
    "                    matrix[x][y - 1] + 1\n",
    "                )\n",
    "\n",
    "    return matrix[len(word1)][len(word2)]\n",
    "\n",
    "def nomr_l(word1, word2):\n",
    "    return levenshtein(word1, word2) / max(len(word1), len(word2))\n",
    "\n",
    "def html_to_np(table):\n",
    "    result = []\n",
    "    all_rows = table.find_all('tr')\n",
    "    for row in all_rows:\n",
    "        result.append([])\n",
    "        all_cols = row.find_all('td')\n",
    "        for col in all_cols:\n",
    "            col_text = [s.strip(' ') for s in col.find_all(text=True)]\n",
    "            col_text  = ''.join(col_text) # it should not change anything\n",
    "            result[-1].append(col_text)\n",
    "    return np.array(result)\n",
    "\n",
    "\n",
    "def np_to_dict(table, fields_dict):\n",
    "    new_dict = fields_dict.copy()\n",
    "    for cols in table:\n",
    "        if len(cols) != 2:\n",
    "            continue\n",
    "        for key in fields_dict.keys():\n",
    "            if nomr_l(key, cols[0]) <= 0.25:\n",
    "                new_dict[key] = cols[1].replace(\"\\n\",'')\n",
    "            #print(nomr_l(key, cols[0]), key, cols[0])\n",
    "    return new_dict"
   ]
  },
  {
   "cell_type": "markdown",
   "metadata": {},
   "source": [
    "## Amazom"
   ]
  },
  {
   "cell_type": "code",
   "execution_count": 86,
   "metadata": {},
   "outputs": [],
   "source": [
    "fields_amazom = {'Preço': '',\n",
    "        'Sistema operacional': '',\n",
    "        'RAM': '',\n",
    "        'Capacidade de armazenamento digital': '',\n",
    "        'Modelo': '',\n",
    "        'Cor': '',  \n",
    "        'Tamanho da tela':'',\n",
    "        'Avaliações de clientes': ''\n",
    "       }\n",
    "\n",
    "url = r\"https://www.amazon.com.br/Smartphone-Xiaomi-64GB-Piano-Black/dp/B07QH823FV/ref=pd_sbs_107_5/138-4765066-9703910?_encoding=UTF8&pd_rd_i=B07QH823FV&pd_rd_r=307fed63-71d8-4c9e-aacc-82a0ddc80cd9&pd_rd_w=x0jYi&pd_rd_wg=88HJ1&pf_rd_p=80c6065d-57d3-41bf-b15e-ee01dd80424f&pf_rd_r=7N8T5AJWRZ6VPNQTB88Z&psc=1&refRID=7N8T5AJWRZ6VPNQTB88Z\"\n",
    "\n",
    "code        = requests.get(url, headers=agent)\n",
    "plain       = code.text\n",
    "s           = BeautifulSoup(plain, \"html.parser\")"
   ]
  },
  {
   "cell_type": "code",
   "execution_count": 87,
   "metadata": {},
   "outputs": [
    {
     "data": {
      "text/plain": [
       "{'Preço': 'R$1.998,00',\n",
       " 'Sistema operacional': 'android',\n",
       " 'RAM': '6',\n",
       " 'Capacidade de armazenamento digital': '6 GB',\n",
       " 'Modelo': 'MZB7606EU',\n",
       " 'Cor': 'Preto',\n",
       " 'Tamanho da tela': '5.97 polegadas',\n",
       " 'Avaliações de clientes': '4.7 de 5 estrelas      109 avaliações de clientes'}"
      ]
     },
     "execution_count": 87,
     "metadata": {},
     "output_type": "execute_result"
    }
   ],
   "source": [
    "tb = html_to_np(s)\n",
    "np_to_dict(tb, fields_amazom)"
   ]
  },
  {
   "cell_type": "markdown",
   "metadata": {},
   "source": [
    "## Magazine Luiza"
   ]
  },
  {
   "cell_type": "code",
   "execution_count": 115,
   "metadata": {},
   "outputs": [],
   "source": [
    "fields_luiza = {'Preço': '',\n",
    "        'Sistema operacional': '',\n",
    "        'Memória RAM': '',\n",
    "        'Armazenamento interno': '',\n",
    "        'Modelo': '',\n",
    "        'Cor': '',  \n",
    "        'Tamanho da tela':'',\n",
    "        'Avaliações de clientes': '',\n",
    "        'Marca' : ''\n",
    "       }\n",
    "\n",
    "def np_to_dict(table, fields_dict):\n",
    "    new_dict = fields_dict.copy()\n",
    "    for cols in table:\n",
    "        if len(cols) < 2:\n",
    "            continue\n",
    "        for key in fields_dict.keys():\n",
    "            if nomr_l(key, cols[0]) <= 0.25:\n",
    "                new_dict[key] = cols[1].replace(\"\\n\",'')\n",
    "            #print(nomr_l(key, cols[0]), key, cols[0])\n",
    "    return new_dict"
   ]
  },
  {
   "cell_type": "code",
   "execution_count": 122,
   "metadata": {},
   "outputs": [],
   "source": [
    "url = r\"https://www.magazineluiza.com.br/smartphone-motorola-g7-play-32gb-indigo-4g-2gb-ram-tela-57-cam-13mp-cam-selfie-8mp/p/155549300/te/mtgp/\"\n",
    "code        = requests.get(url, headers=agent)\n",
    "plain       = code.text\n",
    "s           = BeautifulSoup(plain, \"html.parser\")"
   ]
  },
  {
   "cell_type": "code",
   "execution_count": 123,
   "metadata": {},
   "outputs": [
    {
     "data": {
      "text/plain": [
       "{'Preço': '',\n",
       " 'Sistema operacional': 'Android Pie',\n",
       " 'Memória RAM': '2GB',\n",
       " 'Armazenamento interno': '32GB (A memória disponível para uso do consumidor pode sofrer variações, conforme sistema operacional, aplicativos e/ou outros fatores)',\n",
       " 'Modelo': 'G7 Play',\n",
       " 'Cor': 'Indigo',\n",
       " 'Tamanho da tela': '5,7\"',\n",
       " 'Avaliações de clientes': '',\n",
       " 'Marca': 'Motorola'}"
      ]
     },
     "execution_count": 123,
     "metadata": {},
     "output_type": "execute_result"
    }
   ],
   "source": [
    "tb = html_to_np(s)\n",
    "np_to_dict(tb, fields_luiza)"
   ]
  },
  {
   "cell_type": "markdown",
   "metadata": {},
   "source": [
    "# IByte"
   ]
  },
  {
   "cell_type": "code",
   "execution_count": 164,
   "metadata": {},
   "outputs": [],
   "source": [
    "url = r\"https://www.ibyte.com.br/smartphone-samsung-galaxy-j8-64gb-tela-6-octa-core-1-8ghz-4g-16mp-f1-7-5mp-f1-9-dual-cam-preto.html\"\n",
    "code        = requests.get(url, headers=agent)\n",
    "plain       = code.text\n",
    "s           = BeautifulSoup(plain, \"html.parser\")"
   ]
  },
  {
   "cell_type": "code",
   "execution_count": 147,
   "metadata": {},
   "outputs": [],
   "source": [
    "fields_ibyte = {'Preço': '',\n",
    "        'Sistema operacional': '',\n",
    "        'Memória RAM': '',\n",
    "        'Memória Interna': '',\n",
    "        'Modelo': '',\n",
    "        'Cor': '',  \n",
    "        'Tamanho do Display':'',\n",
    "        'Avaliações de clientes': '',\n",
    "        'Marca' : ''\n",
    "       }\n",
    "\n",
    "def np_to_dict(table, fields_dict):\n",
    "    new_dict = fields_dict.copy()\n",
    "    for cols in table:\n",
    "        if len(cols) < 3:\n",
    "            continue\n",
    "        for key in fields_dict.keys():\n",
    "            if nomr_l(key, cols[1]) <= 0.25:\n",
    "                new_dict[key] = cols[2].replace(\"\\n\",'')\n",
    "            #print(nomr_l(key, cols[0]), key, cols[0])\n",
    "    return new_dict"
   ]
  },
  {
   "cell_type": "code",
   "execution_count": 148,
   "metadata": {},
   "outputs": [
    {
     "data": {
      "text/plain": [
       "{'Preço': '',\n",
       " 'Sistema operacional': 'Android',\n",
       " 'Memória RAM': '4GB',\n",
       " 'Memória Interna': '64GB',\n",
       " 'Modelo': 'SM-J810M/64DL',\n",
       " 'Cor': 'Preto',\n",
       " 'Tamanho do Display': '6\"',\n",
       " 'Avaliações de clientes': '',\n",
       " 'Marca': 'Samsung'}"
      ]
     },
     "execution_count": 148,
     "metadata": {},
     "output_type": "execute_result"
    }
   ],
   "source": [
    "tb = html_to_np(s)\n",
    "np_to_dict(tb, fields_ibyte)"
   ]
  },
  {
   "cell_type": "markdown",
   "metadata": {},
   "source": [
    "# Kabum"
   ]
  },
  {
   "cell_type": "code",
   "execution_count": 196,
   "metadata": {},
   "outputs": [],
   "source": [
    "url = r\"https://www.kabum.com.br/produto/101342/smartphone-samsung-galaxy-a10-32gb-13mp-tela-6-2-preto-sm-a105m-32dl\"\n",
    "code        = requests.get(url, headers=agent)\n",
    "plain       = code.text\n",
    "s           = BeautifulSoup(plain, \"html.parser\")"
   ]
  },
  {
   "cell_type": "code",
   "execution_count": 351,
   "metadata": {},
   "outputs": [],
   "source": [
    "fields_kabum = {'Preço': '',\n",
    "        'Sistema operacional': '',\n",
    "        'Memória RAM': '',\n",
    "        'Memória Interna': '',\n",
    "        'Modelo': '',\n",
    "        'Cor': '',  \n",
    "        'Tamanho do Display':'',\n",
    "        'Avaliações de clientes': '',\n",
    "        'Marca' : ''\n",
    "       }\n",
    "\n",
    "def np_to_dict(table, fields_dict):\n",
    "    new_dict = fields_dict.copy()\n",
    "    for cols in table:\n",
    "        if len(cols) < 2:\n",
    "            continue\n",
    "        for key in fields_dict.keys():\n",
    "            if nomr_l(key, cols[0]) <= 0.25:\n",
    "                new_dict[key] = cols[1].replace(\"\\n\",'')\n",
    "            #print(nomr_l(key, cols[0]), key, cols[0])\n",
    "    return new_dict"
   ]
  },
  {
   "cell_type": "code",
   "execution_count": 352,
   "metadata": {},
   "outputs": [],
   "source": [
    "price_roi = s.find_all(\"div\", attrs={\"class\":\"preco_normal\"},text=True)\n",
    "if len(price_roi):\n",
    "    price = re.findall(\"R\\$ \\d{1,5}\\,\\d{1,3}\", str(price_roi[0]))\n",
    "    if len(price): \n",
    "        fields_kabum[\"Preço\"] = price[0]"
   ]
  },
  {
   "cell_type": "code",
   "execution_count": 414,
   "metadata": {},
   "outputs": [],
   "source": [
    "from lxml import etree\n",
    "import re\n",
    "parser = etree.HTMLParser()\n",
    "\n",
    "XPATH_MODEL = r\"\"\"//*[@id=\"pag-detalhes\"]/div/div[6]/div[2]/p/text()\"\"\"\n",
    "\n",
    "tree = etree.parse('kabum.html', parser)\n",
    "\n",
    "RAW_MODEL = tree.xpath(XPATH_MODEL)"
   ]
  },
  {
   "cell_type": "code",
   "execution_count": 426,
   "metadata": {},
   "outputs": [
    {
     "data": {
      "text/plain": [
       "{'Preço': 'R$ 749,00',\n",
       " 'Sistema operacional': '',\n",
       " 'Memória RAM': ' 2GB',\n",
       " 'Memória Interna': ' 32GB*',\n",
       " 'Modelo': ' SM-A105M/32DL',\n",
       " 'Cor': ' 16 Milhões',\n",
       " 'Tamanho do Display': ' 6.2\"*',\n",
       " 'Avaliações de clientes': '',\n",
       " 'Marca': ' Samsung'}"
      ]
     },
     "execution_count": 426,
     "metadata": {},
     "output_type": "execute_result"
    }
   ],
   "source": [
    "for p in RAW_MODEL:\n",
    "    if(len(p)):\n",
    "        for key in fields_kabum:\n",
    "            if key in p:\n",
    "                fields_kabum[key] = (p.split(':')[1])\n",
    "fields_kabum"
   ]
  },
  {
   "cell_type": "markdown",
   "metadata": {},
   "source": [
    "# Avenida"
   ]
  },
  {
   "cell_type": "code",
   "execution_count": 475,
   "metadata": {},
   "outputs": [],
   "source": [
    "fields_avenida = {'Preço': '',\n",
    "        'Sistema operacional': '',\n",
    "        'Memória RAM': '',\n",
    "        'Memória Interna': '',\n",
    "        'Modelo': '',\n",
    "        'Cor': '',  \n",
    "        'Tamanho do Display':'',\n",
    "        'Avaliações de clientes': '',\n",
    "        'Marca' : ''\n",
    "       }\n",
    "\n",
    "parser = etree.HTMLParser()\n",
    "XPATH_MODEL = r\"\"\"//*[@id=\"caracteristicas\"]/table/tbody/tr[3]\"\"\"\n",
    "tree = etree.parse('avenida.html', parser)\n",
    "\n",
    "RAW_MODEL = tree.xpath(XPATH_MODEL)"
   ]
  },
  {
   "cell_type": "code",
   "execution_count": 476,
   "metadata": {},
   "outputs": [],
   "source": [
    "for p in RAW_MODEL:\n",
    "    print(p)\n",
    "for p in RAW_MODEL:\n",
    "    if(len(p)):\n",
    "        for key in fields_avenida:\n",
    "            if key in p:\n",
    "                fields_avenida[key] = (p.split(':')[1])\n",
    "#fields_avenida"
   ]
  },
  {
   "cell_type": "markdown",
   "metadata": {},
   "source": [
    "## Cissamagazine"
   ]
  },
  {
   "cell_type": "code",
   "execution_count": 561,
   "metadata": {},
   "outputs": [],
   "source": [
    "fields_cissamagazine = {'Preço': '',\n",
    "        'Sistema operacional': '',\n",
    "        'Memória RAM': '',\n",
    "        'Memória Interna': '',\n",
    "        'Modelo': '',\n",
    "        'Cor': '',  \n",
    "        'Tamanho da tela':'',\n",
    "        'Avaliações de clientes': '',\n",
    "        'Marca' : ''\n",
    "       }\n",
    "\n",
    "\n",
    "parser = etree.HTMLParser()\n",
    "XPATH_DD = r\"\"\"//*[@id=\"caracteristicas\"]/div[2]/div/dl/span/dd/text()\"\"\"\n",
    "XPATH_DT = r\"\"\"//*[@id=\"caracteristicas\"]/div[2]/div/dl/span/dt/text()\"\"\"\n",
    "PRICE = \"\"\"//*[@id=\"content-price-product\"]/div[1]/div[2]/div/span[1]/span[1]/text()\"\"\"\n",
    "\n",
    "tree = etree.parse('./cissamagazine.html', parser)\n",
    "\n",
    "RAW_DD = tree.xpath(XPATH_DD)\n",
    "RAW_DT = tree.xpath(XPATH_DT)\n",
    "RAW_PRICE = tree.xpath(PRICE)\n",
    "latin_dict = \\\n",
    "        {'\\\\u00e1':'a', '\\\\u00e0':'a', '\\\\u00e2':'a', '\\\\u00e3':'a', '\\\\u00e4':'a', '\\\\u00c1':'A', '\\\\u00c0':'A', \n",
    "         '\\\\u00c2':'A', '\\\\u00c3':'A', '\\\\u00c4':'A', '\\\\u00e9':'e', '\\\\u00e8':'e', '\\\\u00ea':'e', '\\\\u00ea':'e', \n",
    "         '\\\\u00c9':'E', '\\\\u00c8':'E', '\\\\u00ca':'E', '\\\\u00cb':'E', '\\\\u00ed':'i', '\\\\u00ec':'i', '\\\\u00ee':'i', \n",
    "         '\\\\u00ef':'i', '\\\\u00cd':'I', '\\\\u00cc':'I', '\\\\u00ce':'I', '\\\\u00cf':'I', '\\\\u00f3':'o', '\\\\u00f2':'o', \n",
    "         '\\\\u00f4':'o', '\\\\u00f5':'o', '\\\\u00f6':'o', '\\\\u00d3':'O', '\\\\u00d2':'O', '\\\\u00d4':'O', '\\\\u00d5':'O', \n",
    "         '\\\\u00d6':'O', '\\\\u00fa':'u', '\\\\u00f9':'u', '\\\\u00fb':'u', '\\\\u00fc':'u', '\\\\u00da':'U', '\\\\u00d9':'U', \n",
    "         '\\\\u00db':'U', '\\\\u00e7':'c', '\\\\u00c7':'C', '\\\\u00f1':'n', '\\\\u00d1':'N', '\\\\u0026':'E', '\\\\u0027':'\\'',\n",
    "         'á':'a', 'à':'a', 'â':'a', 'ã':'a', 'ä':'a', 'Á':'A', 'À':'A', 'Â':'A', 'Ã':'A', 'Ä':'A', 'é':'e', 'è':'e', \n",
    "         'ê':'e', 'ê':'e', 'É':'E', 'È':'E', 'Ê':'E', 'Ë':'E', 'í':'i', 'ì':'i', 'î':'i', 'ï':'i', 'Í':'I', 'Ì':'I', \n",
    "         'Î':'I', 'Ï':'I', 'ó':'o', 'ò':'o', 'ô':'o', 'õ':'o', 'ö':'o', 'Ó':'O', 'Ò':'O', 'Ô':'O', 'Õ':'O', 'Ö':'O', \n",
    "         'ú':'u', 'ù':'u', 'û':'u', 'ü':'u', 'Ú':'U', 'Ù':'U', 'Û':'U', 'ç':'c', 'Ç':'C', 'ñ':'n', 'Ñ':'N', '&':'E'}\n",
    "\n"
   ]
  },
  {
   "cell_type": "code",
   "execution_count": 562,
   "metadata": {},
   "outputs": [
    {
     "data": {
      "text/plain": [
       "{'Preço': 'R$ 1.838,50',\n",
       " 'Sistema operacional': '',\n",
       " 'Memória RAM': '6 GB',\n",
       " 'Memória Interna': '128 GB',\n",
       " 'Modelo': ' Wi-Fi 802.11 a/b/g/n/ac; ',\n",
       " 'Cor': '',\n",
       " 'Tamanho da tela': '6.39\"',\n",
       " 'Avaliações de clientes': '',\n",
       " 'Marca': 'Bluetooth 5.0; '}"
      ]
     },
     "execution_count": 562,
     "metadata": {},
     "output_type": "execute_result"
    }
   ],
   "source": [
    "for p in RAW_PRICE:\n",
    "    if len(p):\n",
    "        price = (re.findall(\"R\\$ \\d*.\\d{1,5}\\,\\d{1,3}\", str(p)))\n",
    "        if len(price):\n",
    "            fields_cissamagazine[\"Preço\"] = price[0]\n",
    "        \n",
    "\n",
    "for p in zip(RAW_DT, RAW_DD):\n",
    "    for key in fields_cissamagazine.keys():\n",
    "        loss = nomr_l(p[0], key)\n",
    "        if loss < 0.2:\n",
    "            fields_cissamagazine[key] = p[1]\n",
    "    \n",
    "fields_cissamagazine\n",
    "\n"
   ]
  },
  {
   "cell_type": "markdown",
   "metadata": {},
   "source": [
    "\n",
    "## Colombo"
   ]
  },
  {
   "cell_type": "code",
   "execution_count": 614,
   "metadata": {},
   "outputs": [],
   "source": [
    "fields_colombo = {'Preço': '',\n",
    "        'Sistema operacional': '',\n",
    "        'Memória RAM': '',\n",
    "        'Memória Interna': '',\n",
    "        'Modelo': '',\n",
    "        'Cor': '',  \n",
    "        'Resolução da tela':'',\n",
    "        'Avaliações de clientes': '',\n",
    "        'Marca' : ''\n",
    "       }\n",
    "\n",
    "\n",
    "parser = etree.HTMLParser()\n",
    "XPATH_DD = r\"\"\"//*[@id=\"produto-caracteristicas\"]/div/div[2]/div/div/span/text()\"\"\"\n",
    "\n",
    "PRICE = \"\"\"//*[@id=\"dados-produto-disponivel\"]/div[2]/span[2]/span/text()\"\"\"\n",
    "\n",
    "tree = etree.parse('./colombo.html', parser)\n",
    "\n",
    "RAW_DD = tree.xpath(XPATH_DD)\n",
    "RAW_PRICE = tree.xpath(PRICE)\n"
   ]
  },
  {
   "cell_type": "code",
   "execution_count": 615,
   "metadata": {},
   "outputs": [
    {
     "data": {
      "text/plain": [
       "{'Preço': 'R$ 858,00',\n",
       " 'Sistema operacional': 'Android 7.0',\n",
       " 'Memória RAM': '2 GB',\n",
       " 'Memória Interna': '32 GB',\n",
       " 'Modelo': 'ZenFone Max M1',\n",
       " 'Cor': 'Preto',\n",
       " 'Resolução da tela': '1280 x 720',\n",
       " 'Avaliações de clientes': '',\n",
       " 'Marca': ''}"
      ]
     },
     "execution_count": 615,
     "metadata": {},
     "output_type": "execute_result"
    }
   ],
   "source": [
    "for idx, p in enumerate(RAW_PRICE):\n",
    "    p = p.strip()\n",
    "    fd = re.findall(\"\\d*.\\d{1,5}\\,\\d{1,3}\", str(p))\n",
    "    if len(fd):\n",
    "        fields_colombo[\"Preço\"] = \"R$ \" + fd[0]\n",
    "\n",
    "for idx, p in enumerate(RAW_DD):\n",
    "    p = p.strip()\n",
    "    if idx % 2 == 0:\n",
    "        for key in fields_colombo.keys():\n",
    "            loss = nomr_l(p, key)\n",
    "\n",
    "            if loss <= 0.25:\n",
    "                fields_colombo[key] = RAW_DD[idx+1].strip().split('\\n')[0]\n",
    "fields_colombo"
   ]
  },
  {
   "cell_type": "markdown",
   "metadata": {},
   "source": [
    "# Ricardo Eletro"
   ]
  },
  {
   "cell_type": "code",
   "execution_count": 777,
   "metadata": {},
   "outputs": [],
   "source": [
    "fields_ricardo = {'Preço': '',\n",
    "        'Sistema operacional': '',\n",
    "        'Memória RAM': '',\n",
    "        'Armazenamento Interno': '',\n",
    "        'Modelo': '',\n",
    "        'Cor': '',  \n",
    "        'Resolução da tela':'',\n",
    "        'Avaliações de clientes': '',\n",
    "        'Marca' : ''\n",
    "       }\n",
    "\n",
    "\n",
    "parser = etree.HTMLParser()\n",
    "XPATH_DD = r\"\"\"//*[@id=\"aba-caracteristicas\"]/div[1]/table[1]\"\"\"\n",
    "PRICE = r\"\"\"//*[@id=\"ProdutoDetalhesPrecoComprarAgoraPrecoDePreco\"]/text()\"\"\"\n",
    "tree = etree.parse('./ricardoeletro.html', parser)\n",
    "\n",
    "RAW_DD = tree.xpath(XPATH_DD)\n",
    "RAW_PRICE = tree.xpath(PRICE)\n"
   ]
  },
  {
   "cell_type": "code",
   "execution_count": 778,
   "metadata": {},
   "outputs": [
    {
     "data": {
      "text/plain": [
       "{'Preço': 'R$ 735,42',\n",
       " 'Sistema operacional': 'ANDROID 8.1 ',\n",
       " 'Memória RAM': '2 GB ',\n",
       " 'Armazenamento Interno': '16 GB ',\n",
       " 'Modelo': '',\n",
       " 'Cor': 'Preto ',\n",
       " 'Resolução da tela': 'HD+ (1440X720) ',\n",
       " 'Avaliações de clientes': '',\n",
       " 'Marca': ''}"
      ]
     },
     "execution_count": 778,
     "metadata": {},
     "output_type": "execute_result"
    }
   ],
   "source": [
    "for p in RAW_PRICE:\n",
    "    fields_ricardo[\"Preço\"] = \"R$ \"+p\n",
    "\n",
    "for idx, p in enumerate(RAW_DD):\n",
    "    tr = p.findall(\"tr\")\n",
    "    for y in range(len(tr)):\n",
    "        propesed_key, propesed_value = tr[y][0], tr[y][1]\n",
    "        for key in fields_ricardo.keys():\n",
    "\n",
    "            loss = nomr_l(propesed_key.text, key)\n",
    "            if loss <= 0.35:\n",
    "                fields_ricardo[key] = propesed_value.text\n",
    "\n",
    "fields_ricardo    "
   ]
  },
  {
   "cell_type": "code",
   "execution_count": null,
   "metadata": {},
   "outputs": [],
   "source": []
  }
 ],
 "metadata": {
  "kernelspec": {
   "display_name": "Python 3",
   "language": "python",
   "name": "python3"
  },
  "language_info": {
   "codemirror_mode": {
    "name": "ipython",
    "version": 3
   },
   "file_extension": ".py",
   "mimetype": "text/x-python",
   "name": "python",
   "nbconvert_exporter": "python",
   "pygments_lexer": "ipython3",
   "version": "3.7.4"
  }
 },
 "nbformat": 4,
 "nbformat_minor": 4
}
