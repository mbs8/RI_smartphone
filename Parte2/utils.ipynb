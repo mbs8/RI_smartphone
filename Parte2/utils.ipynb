{
 "cells": [
  {
   "cell_type": "code",
   "execution_count": 89,
   "metadata": {},
   "outputs": [],
   "source": [
    "import threading\n",
    "import requests\n",
    "import validators\n",
    "import time\n",
    "import os\n",
    "import pandas as pd\n",
    "import logging\n",
    "from tqdm.notebook import tqdm as tqdm\n",
    "\n",
    "# Coloca a lista de itens dentro da variável links (apaga esse comentário depois)\n",
    "links = []\n",
    "downloaded_pages = 0\n",
    "threads_number = 10\n",
    "PAGE_NAME = \"{}.html\"\n",
    "PAGES_DIRECTORY = \"pages/\"\n",
    "header = {'User-Agent': 'Mozilla/5.0 (Macintosh; Intel Mac OS X 10_14_5) AppleWebKit/605.1.15 (KHTML, like Gecko) Safari/605.1.15'}\n",
    "\n",
    "#to control concurrent executions\n",
    "lock = threading.Lock()"
   ]
  },
  {
   "cell_type": "markdown",
   "metadata": {},
   "source": [
    "# Download pages from links using threads"
   ]
  },
  {
   "cell_type": "code",
   "execution_count": 90,
   "metadata": {},
   "outputs": [
    {
     "name": "stdout",
     "output_type": "stream",
     "text": [
      "Done downloading\n"
     ]
    }
   ],
   "source": [
    "#save files to a directory\n",
    "# ex: save_file(\"string or content to save\", \"firstDir/secondDir\", \"file_name.txt\", \"a\")\n",
    "def save_file(content, directory, file_name, mode=\"w\"):\n",
    "    file_name = file_name\n",
    "    if not os.path.exists(directory):\n",
    "        os.makedirs(directory)\n",
    "    with open(os.path.join(directory, file_name), mode) as handle:\n",
    "        handle.write(content)\n",
    "\n",
    "def download_pages_from_links():\n",
    "    global downloaded_pages\n",
    "\n",
    "    while(downloaded_pages < len(links)):\n",
    "        with lock:\n",
    "            current_page = downloaded_pages\n",
    "            downloaded_pages += 1\n",
    "        try:\n",
    "            req = requests.get(links[current_page], headers=header)\n",
    "            if(req.status_code == 200):\n",
    "                save_file(req.text, PAGES_DIRECTORY, PAGE_NAME.format(current_page))\n",
    "            else:\n",
    "                print(\"error: {} - {}\".format(links[current_page], req.status_code))\n",
    "                \n",
    "        except:\n",
    "            print(\"error: \" + links[current_page])"
   ]
  },
  {
   "cell_type": "code",
   "execution_count": null,
   "metadata": {},
   "outputs": [],
   "source": [
    "# Creates threads and calls the method\n",
    "threads = []\n",
    "downloaded_pages = 0\n",
    "for num in range(0, threads_number):\n",
    "    thread = threading.Thread(target=download_pages_from_links, args=())\n",
    "    threads.append(thread)\n",
    "    thread.start()\n",
    "for thread in threads:\n",
    "    thread.join()\n",
    "print(\"Done downloading\")"
   ]
  },
  {
   "cell_type": "code",
   "execution_count": null,
   "metadata": {},
   "outputs": [],
   "source": []
  }
 ],
 "metadata": {
  "kernelspec": {
   "display_name": "Python 3",
   "language": "python",
   "name": "python3"
  },
  "language_info": {
   "codemirror_mode": {
    "name": "ipython",
    "version": 3
   },
   "file_extension": ".py",
   "mimetype": "text/x-python",
   "name": "python",
   "nbconvert_exporter": "python",
   "pygments_lexer": "ipython3",
   "version": "3.7.4"
  }
 },
 "nbformat": 4,
 "nbformat_minor": 2
}
