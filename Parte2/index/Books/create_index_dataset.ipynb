{
 "cells": [
  {
   "cell_type": "code",
   "execution_count": 32,
   "metadata": {},
   "outputs": [],
   "source": [
    "import pathlib\n",
    "import pandas as pd\n",
    "import numpy as np\n",
    "from bs4 import BeautifulSoup\n",
    "import requests\n",
    "import threading\n",
    "import multiprocessing as mp\n",
    "import time \n",
    "from tqdm import tqdm_notebook as tqdm\n",
    "import glob\n",
    "header = {'User-Agent': 'Mozilla/5.0 (Macintosh; Intel Mac OS X 10_14_5) AppleWebKit/605.1.15 (KHTML, like Gecko) Safari/605.1.15'}\n",
    "data_file = '../../data/html_to_download.csv'\n",
    "save_url = '../../data/'\n",
    "LOCK = threading.Lock()"
   ]
  },
  {
   "cell_type": "code",
   "execution_count": 2,
   "metadata": {},
   "outputs": [],
   "source": [
    "df = pd.read_csv(data_file)\n",
    "stores = np.unique(df.store)\n",
    "\n",
    "to_download = [(df[df.store==store].url).values for store in stores]"
   ]
  },
  {
   "cell_type": "code",
   "execution_count": 45,
   "metadata": {},
   "outputs": [
    {
     "ename": "NameError",
     "evalue": "name 'store' is not defined",
     "output_type": "error",
     "traceback": [
      "\u001b[0;31m---------------------------------------------------------------------------\u001b[0m",
      "\u001b[0;31mNameError\u001b[0m                                 Traceback (most recent call last)",
      "\u001b[0;32m<ipython-input-45-d735af727b9c>\u001b[0m in \u001b[0;36m<module>\u001b[0;34m\u001b[0m\n\u001b[0;32m----> 1\u001b[0;31m \u001b[0mpathlib\u001b[0m\u001b[0;34m.\u001b[0m\u001b[0mPath\u001b[0m\u001b[0;34m(\u001b[0m\u001b[0;34mf\"{save_url}/{store}/{idx}.html\"\u001b[0m\u001b[0;34m)\u001b[0m\u001b[0;34m.\u001b[0m\u001b[0mexists\u001b[0m\u001b[0;34m(\u001b[0m\u001b[0;34m)\u001b[0m\u001b[0;34m\u001b[0m\u001b[0;34m\u001b[0m\u001b[0m\n\u001b[0m",
      "\u001b[0;31mNameError\u001b[0m: name 'store' is not defined"
     ]
    }
   ],
   "source": []
  },
  {
   "cell_type": "code",
   "execution_count": 53,
   "metadata": {},
   "outputs": [],
   "source": [
    "def get_pages(stores_links, store):\n",
    "    pathlib.Path(save_url+store).mkdir(parents=True,exist_ok=True)\n",
    "    \n",
    "    invalid_pages = []\n",
    "    for idx, link in enumerate(stores_links):\n",
    "        if pathlib.Path(f\"{save_url}/{store}/{idx}.html\").exists():\n",
    "            continue\n",
    "        req = requests.get(link, headers=header)\n",
    "\n",
    "        if(req.status_code == 200):    \n",
    "            soup = BeautifulSoup(req.text)\n",
    "            with open(f\"{save_url}/{store}/{idx}.html\", \"w\", encoding='utf-8') as file:\n",
    "                file.write(str(soup))\n",
    "        else:\n",
    "            invalid_pages.append(link)\n",
    "        \n",
    "        time.sleep(0.5  + np.random.rand()*2)\n",
    "            \n",
    "    return invalid_pages"
   ]
  },
  {
   "cell_type": "code",
   "execution_count": 54,
   "metadata": {},
   "outputs": [
    {
     "name": "stdout",
     "output_type": "stream",
     "text": [
      "Starts crawler on: 0\n",
      "Starts crawler on: 1\n",
      "Starts crawler on: 2\n",
      "Starts crawler on: 3\n",
      "Starts crawler on: 4\n",
      "Starts crawler on: 5\n",
      "Starts crawler on: 6\n",
      "Starts crawler on: 7\n",
      "Starts crawler on: 8\n",
      "Starts crawler on: 9\n"
     ]
    },
    {
     "data": {
      "application/vnd.jupyter.widget-view+json": {
       "model_id": "841d7029d4a242e0860bb42f683617f7",
       "version_major": 2,
       "version_minor": 0
      },
      "text/plain": [
       "HBox(children=(IntProgress(value=0, max=10), HTML(value='')))"
      ]
     },
     "metadata": {},
     "output_type": "display_data"
    },
    {
     "name": "stdout",
     "output_type": "stream",
     "text": [
      "finished thread: t0\n",
      "finished thread: t1\n",
      "finished thread: t2\n",
      "finished thread: t3\n",
      "finished thread: t4\n",
      "finished thread: t5\n",
      "finished thread: t6\n",
      "finished thread: t7\n",
      "finished thread: t8\n",
      "finished thread: t9\n"
     ]
    }
   ],
   "source": [
    "threads = []\n",
    "for idx in range(len(stores)):\n",
    "    thread = threading.Thread(target=get_pages, args=(to_download[idx], stores[idx]), name=f't{idx}')\n",
    "    thread.start()\n",
    "    time.sleep(0.2)\n",
    "    threads.append(thread)\n",
    "    print(\"Starts crawler on: {}\".format(idx))\n",
    "    \n",
    "for thread in tqdm(threads):\n",
    "    thread.join()\n",
    "    print(\"finished thread: {}\".format(thread.name))"
   ]
  },
  {
   "cell_type": "code",
   "execution_count": 60,
   "metadata": {},
   "outputs": [
    {
     "name": "stdout",
     "output_type": "stream",
     "text": [
      "amazon 117 117\n",
      "avenida 9 24\n",
      "cissamagazine 18 18\n",
      "colombo 20 20\n",
      "havan 7 85\n",
      "ibyte 42 49\n",
      "kabum 82 87\n",
      "magazineluiza 24 24\n",
      "ricardoeletro 83 89\n",
      "taqi 32 32\n"
     ]
    }
   ],
   "source": [
    "for idx, store in enumerate(stores):\n",
    "    print(store, len(glob.glob(save_url+f'/{stores[idx]}/*')), len(to_download[idx]))\n"
   ]
  },
  {
   "cell_type": "code",
   "execution_count": 56,
   "metadata": {},
   "outputs": [],
   "source": [
    "havan_list = ['https://www.havan.com.br/celular-smartphone-moto-one-action-64gb-6-34-motorola-azul-denim/p',\n",
    "              'https://www.havan.com.br/celular-iphone-7-single-chip-32-gb-4-7-apple-prata/p',\n",
    "              'https://www.havan.com.br/celular-smartphone-k12-dual-chip-5-7-lg-platinum/p',\n",
    "              'https://www.havan.com.br/celular-smartphone-zenfone-max-pro-m1-64gb-asus-prata/p',\n",
    "              'https://www.havan.com.br/celular-smartphone-moto-one-action-64gb-6-34-motorola-azul-denim/p',\n",
    "              'https://www.havan.com.br/celular-smartphone-moto-e6-plus-6-1-32gb-motorola-cinza/p',\n",
    "              'https://www.havan.com.br/celular-smartphone-galaxy-note10-6-8-256gb-samsung-prata/p']"
   ]
  },
  {
   "cell_type": "code",
   "execution_count": 58,
   "metadata": {},
   "outputs": [
    {
     "data": {
      "text/plain": [
       "[]"
      ]
     },
     "execution_count": 58,
     "metadata": {},
     "output_type": "execute_result"
    }
   ],
   "source": [
    "get_pages(havan_list, 'havan')"
   ]
  }
 ],
 "metadata": {
  "kernelspec": {
   "display_name": "dl",
   "language": "python",
   "name": "myenv"
  },
  "language_info": {
   "codemirror_mode": {
    "name": "ipython",
    "version": 3
   },
   "file_extension": ".py",
   "mimetype": "text/x-python",
   "name": "python",
   "nbconvert_exporter": "python",
   "pygments_lexer": "ipython3",
   "version": "3.7.4"
  }
 },
 "nbformat": 4,
 "nbformat_minor": 2
}
