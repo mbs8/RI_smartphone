{
 "cells": [
  {
   "cell_type": "code",
   "execution_count": 81,
   "metadata": {},
   "outputs": [],
   "source": [
    "import time\n",
    "import pathlib\n",
    "import sys\n",
    "import os\n",
    "import json\n",
    "from operator import itemgetter\n",
    "from tqdm import tqdm_notebook as tqdm\n",
    "from IPython.display import clear_output\n",
    "from warp import *\n",
    "\n",
    "# Some global variables to use all way in the code\n",
    "stop_words = [\"a\", \"o\", \"ao\", \"de\", \"da\", \"do\", \"um\", \"uma\", \"uns\", \"pra\", \"para\", \"por\", \"com\", \"gb\"]\n",
    "INVERTED_INDEX_PATH = \"../../index/Books/inverted_index.json\""
   ]
  },
  {
   "cell_type": "markdown",
   "metadata": {},
   "source": [
    "## Auxiliar Functions"
   ]
  },
  {
   "cell_type": "code",
   "execution_count": 85,
   "metadata": {},
   "outputs": [],
   "source": [
    "def load_json_file(path_to_file):\n",
    "    \"\"\"\n",
    "    Loads a json file and return the dictionary.\n",
    "    \n",
    "    Parameters:\n",
    "    path_to_file(str): Path to the json file\n",
    "    \n",
    "    Returns:\n",
    "    dictionary: Contains the information that is stored in the json file as a dictionary\n",
    "    \"\"\"\n",
    "    inverted_index = {}\n",
    "    with open(INVERTED_INDEX_PATH) as json_file:\n",
    "        inverted_index = json.load(json_file)\n",
    "    return inverted_index\n",
    "\n",
    "def rank_docs(docs_scores):\n",
    "    \"\"\"\n",
    "    Ranks the docs based on the frequecy of the terms in the docs\n",
    "    \n",
    "    Parameters:\n",
    "    docs_scores(dictionary<int, int>): Dictionary with the keys as \n",
    "    \n",
    "    Returns:\n",
    "    list: A list sorted in descending order from the document with the highest term frequency to the lowest\n",
    "    \"\"\"\n",
    "    return sorted(docs_scores.items(), key=itemgetter(1), reverse=True)\n",
    "    "
   ]
  },
  {
   "cell_type": "markdown",
   "metadata": {},
   "source": [
    "## Search using a single string"
   ]
  },
  {
   "cell_type": "code",
   "execution_count": 86,
   "metadata": {},
   "outputs": [],
   "source": [
    "def search_by_keywords():\n",
    "    QUERY = input(\"Digite o smartphone ou características do smartphone que deseja pesquisar: \")\n",
    "    QUERY = QUERY.lower().split(\" \")\n",
    "\n",
    "    # filter stop words and loads json file\n",
    "    QUERY = [word for word in QUERY if (word not in stop_words)]\n",
    "    inverted_index = load_json_file(INVERTED_INDEX_PATH)\n",
    "    \n",
    "    # dictionary to the save the score of each page\n",
    "    docs_scores = {}\n",
    "    \n",
    "    # adds the scores to each page ID (term-at-a-time)\n",
    "    for word in QUERY:\n",
    "        if word in inverted_index:\n",
    "            #print(\"------{}------\".format(word))\n",
    "            #print(inverted_index[word])\n",
    "            for doc_sc in inverted_index[word]:\n",
    "                if doc_sc[0] in docs_scores:\n",
    "                    docs_scores[doc_sc[0]] += doc_sc[1] \n",
    "                else:                    \n",
    "                    docs_scores[doc_sc[0]]  = doc_sc[1]         \n",
    "                    \n",
    "    # free memory unused\n",
    "    inverted_index = []\n",
    "    \n",
    "    print(rank_docs(docs_scores))"
   ]
  },
  {
   "cell_type": "code",
   "execution_count": 87,
   "metadata": {
    "scrolled": false
   },
   "outputs": [
    {
     "name": "stdout",
     "output_type": "stream",
     "text": [
      "Digite o smartphone ou características do smartphone que deseja pesquisar: iphone 32gb\n",
      "[(397, 37), (180, 22), (367, 22), (372, 22), (377, 22), (384, 22), (385, 22), (390, 22), (159, 21), (166, 21), (105, 20), (121, 20), (130, 20), (177, 20), (178, 20), (360, 20), (361, 20), (368, 20), (379, 20), (387, 20), (162, 19), (338, 19), (369, 18), (371, 18), (375, 18), (378, 18), (383, 18), (386, 18), (391, 18), (407, 18), (414, 18), (421, 18), (433, 18), (164, 17), (350, 17), (366, 17), (381, 17), (388, 17), (393, 17), (395, 17), (402, 17), (428, 17), (101, 16), (122, 16), (123, 16), (129, 16), (131, 16), (134, 16), (139, 16), (146, 16), (148, 16), (151, 16), (153, 16), (156, 16), (158, 16), (175, 16), (358, 16), (392, 16), (417, 16), (430, 16), (102, 15), (103, 15), (106, 15), (107, 15), (108, 15), (111, 15), (112, 15), (115, 15), (117, 15), (119, 15), (125, 15), (126, 15), (133, 15), (135, 15), (136, 15), (138, 15), (140, 15), (141, 15), (142, 15), (145, 15), (147, 15), (150, 15), (152, 15), (154, 15), (165, 15), (168, 15), (172, 15), (173, 15), (179, 15), (182, 15), (329, 15), (362, 15), (376, 15), (114, 14), (137, 14), (170, 14), (174, 14), (348, 14), (351, 14), (353, 14), (357, 14), (363, 14), (370, 14), (374, 14), (380, 14), (382, 14), (65, 13), (104, 13), (109, 13), (110, 13), (113, 13), (116, 13), (118, 13), (120, 13), (124, 13), (127, 13), (128, 13), (132, 13), (143, 13), (144, 13), (149, 13), (155, 13), (157, 13), (160, 13), (161, 13), (163, 13), (167, 13), (171, 13), (176, 13), (181, 13), (327, 13), (328, 13), (330, 13), (334, 13), (336, 13), (337, 13), (340, 13), (341, 13), (342, 13), (347, 13), (349, 13), (352, 13), (396, 13), (406, 13), (408, 13), (409, 13), (411, 13), (413, 13), (420, 13), (262, 12), (266, 12), (296, 12), (302, 12), (399, 12), (405, 12), (426, 12), (37, 11), (365, 11), (373, 11), (398, 11), (403, 11), (416, 11), (419, 11), (423, 11), (427, 11), (432, 11), (400, 10), (410, 9), (422, 9), (429, 9), (75, 8), (333, 8), (335, 8), (339, 8), (343, 8), (364, 8), (389, 8), (394, 8), (425, 8), (6, 7), (212, 7), (248, 7), (280, 7), (284, 7), (287, 7), (288, 7), (304, 7), (305, 7), (316, 7), (325, 7), (355, 7), (356, 7), (415, 7), (418, 7), (424, 7), (431, 7), (228, 6), (249, 6), (264, 6), (277, 6), (285, 6), (301, 6), (359, 6), (23, 5), (216, 5), (230, 5), (235, 5), (241, 5), (245, 5), (256, 5), (282, 5), (286, 5), (218, 4), (221, 4), (225, 4), (250, 4), (253, 4), (258, 4), (292, 4), (299, 4), (401, 4), (404, 4), (412, 4), (227, 4), (312, 4), (26, 3), (223, 3), (236, 3), (331, 3), (344, 3), (346, 3), (199, 3), (206, 2), (213, 2), (222, 2), (252, 2), (260, 2), (290, 2), (291, 2), (332, 2), (345, 2), (354, 2), (42, 2), (56, 2), (83, 2), (85, 2), (99, 2), (322, 2), (203, 1), (205, 1), (209, 1), (210, 1), (211, 1), (214, 1), (215, 1), (217, 1), (219, 1), (224, 1), (229, 1), (231, 1), (233, 1), (237, 1), (238, 1), (251, 1), (257, 1), (261, 1), (263, 1), (265, 1), (268, 1), (269, 1), (270, 1), (272, 1), (274, 1), (275, 1), (278, 1), (279, 1), (281, 1), (293, 1), (294, 1), (295, 1), (297, 1), (298, 1), (303, 1), (307, 1), (309, 1), (311, 1), (315, 1), (317, 1), (319, 1), (4, 1), (10, 1), (16, 1), (17, 1), (19, 1), (21, 1), (27, 1), (29, 1), (34, 1), (38, 1), (41, 1), (43, 1), (44, 1), (55, 1), (61, 1), (64, 1), (66, 1), (67, 1), (78, 1), (84, 1), (86, 1), (87, 1), (88, 1), (89, 1), (90, 1), (91, 1), (92, 1), (93, 1), (94, 1), (95, 1), (96, 1), (97, 1), (98, 1), (100, 1), (267, 1), (321, 1)]\n"
     ]
    }
   ],
   "source": [
    "search_by_keywords()"
   ]
  },
  {
   "cell_type": "markdown",
   "metadata": {},
   "source": [
    "## Search using attributes and values"
   ]
  },
  {
   "cell_type": "code",
   "execution_count": 76,
   "metadata": {},
   "outputs": [],
   "source": [
    "def search_by_attributes():\n",
    "    PRODUCT = {\n",
    "        \"price\" :\"\",\n",
    "        \"model\" :\"\",\n",
    "        \"ram\"   :\"\", \n",
    "        \"hd\"    :\"\", \n",
    "        \"screen\":\"\"\n",
    "    } \n",
    "\n",
    "    PRODUCT[\"price\"]  = input(\"Insira a faixa de preço do smartphone (Ex: R$1000,00 - R$2000,00): \")\n",
    "    PRODUCT[\"model\"]  = input(\"Insira o modelo do smartphone: \")\n",
    "    PRODUCT[\"ram\"]    = input(\"Informe a faixa de RAM do smartphone (Ex: 4GB - 8GB: \")\n",
    "    PRODUCT[\"hd\"]     = input(\"Insira a faixa de capacidade de armazenamento desejada (Ex: 32GB - 64GB): \")\n",
    "    PRODUCT[\"screen\"] = input(\"\"\"Informe o menor e maior tamanho de tela (Ex: 4,7\" - 5,2\": \"\"\")"
   ]
  },
  {
   "cell_type": "markdown",
   "metadata": {},
   "source": [
    "## User's Menu"
   ]
  },
  {
   "cell_type": "code",
   "execution_count": 35,
   "metadata": {},
   "outputs": [
    {
     "name": "stdout",
     "output_type": "stream",
     "text": [
      "1 - Para fazer uma busca através de palavras chaves\n",
      "2 - Para uma busca através de atributos específicos\n",
      "3 - Para limpar a tela\n",
      "0 - Para sair\n",
      "0\n"
     ]
    }
   ],
   "source": [
    "CMD = -1;\n",
    "while(CMD != 0):\n",
    "    print(\"1 - Para fazer uma busca através de palavras chaves\")\n",
    "    print(\"2 - Para uma busca através de atributos específicos\")\n",
    "    print(\"3 - Para limpar a tela\")\n",
    "    print(\"0 - Para sair\")\n",
    "    CMD = int(input())\n",
    "    \n",
    "    if(CMD == 0):\n",
    "        pass\n",
    "    elif(CMD == 1):\n",
    "        search_by_keywords()\n",
    "    elif(CMD == 2):\n",
    "        search_by_attributes()\n",
    "    elif(CMD == 3):\n",
    "        clear_output()\n",
    "    else:\n",
    "        print(\"Comando inválido\")"
   ]
  }
 ],
 "metadata": {
  "kernelspec": {
   "display_name": "Python 3",
   "language": "python",
   "name": "python3"
  },
  "language_info": {
   "codemirror_mode": {
    "name": "ipython",
    "version": 3
   },
   "file_extension": ".py",
   "mimetype": "text/x-python",
   "name": "python",
   "nbconvert_exporter": "python",
   "pygments_lexer": "ipython3",
   "version": "3.7.4"
  }
 },
 "nbformat": 4,
 "nbformat_minor": 2
}
