{
 "cells": [
  {
   "cell_type": "code",
   "execution_count": null,
   "metadata": {},
   "outputs": [],
   "source": [
    "import requests\n",
    "from bs4 import BeautifulSoup\n",
    "import tqdm\n",
    "import time\n",
    "import numpy as np\n",
    "import pandas as pd\n",
    "import nltk   \n",
    "import unicodedata"
   ]
  },
  {
   "cell_type": "code",
   "execution_count": null,
   "metadata": {},
   "outputs": [],
   "source": [
    "def to_ascii(string):\n",
    "    latin_dict = \\\n",
    "        {'\\\\u00e1':'a', '\\\\u00e0':'a', '\\\\u00e2':'a', '\\\\u00e3':'a', '\\\\u00e4':'a', '\\\\u00c1':'A', '\\\\u00c0':'A', \n",
    "         '\\\\u00c2':'A', '\\\\u00c3':'A', '\\\\u00c4':'A', '\\\\u00e9':'e', '\\\\u00e8':'e', '\\\\u00ea':'e', '\\\\u00ea':'e', \n",
    "         '\\\\u00c9':'E', '\\\\u00c8':'E', '\\\\u00ca':'E', '\\\\u00cb':'E', '\\\\u00ed':'i', '\\\\u00ec':'i', '\\\\u00ee':'i', \n",
    "         '\\\\u00ef':'i', '\\\\u00cd':'I', '\\\\u00cc':'I', '\\\\u00ce':'I', '\\\\u00cf':'I', '\\\\u00f3':'o', '\\\\u00f2':'o', \n",
    "         '\\\\u00f4':'o', '\\\\u00f5':'o', '\\\\u00f6':'o', '\\\\u00d3':'O', '\\\\u00d2':'O', '\\\\u00d4':'O', '\\\\u00d5':'O', \n",
    "         '\\\\u00d6':'O', '\\\\u00fa':'u', '\\\\u00f9':'u', '\\\\u00fb':'u', '\\\\u00fc':'u', '\\\\u00da':'U', '\\\\u00d9':'U', \n",
    "         '\\\\u00db':'U', '\\\\u00e7':'c', '\\\\u00c7':'C', '\\\\u00f1':'n', '\\\\u00d1':'N', '\\\\u0026':'E', '\\\\u0027':'\\''}\n",
    "    for key in latin_dict:\n",
    "        string = string.replace(key, latin_dict[key])\n",
    "    return string\n",
    "\n",
    "def html_to_np(table):\n",
    "    result = []\n",
    "    all_rows = table.find_all('tr')\n",
    "    for row in all_rows:\n",
    "        result.append([])\n",
    "        all_cols = row.find_all('td')\n",
    "        for col in all_cols:\n",
    "            col_text = [s for s in col.find_all(text=True)]\n",
    "            col_text  = ''.join(col_text) # it should not change anything\n",
    "            result[-1].append(col_text)\n",
    "    return np.array(result)"
   ]
  },
  {
   "cell_type": "code",
   "execution_count": null,
   "metadata": {},
   "outputs": [],
   "source": [
    "saved_links = pd.read_csv('ricardoeletro.csv')\n",
    "true_links = np.array(saved_links[saved_links['label']==1]['url'])\n",
    "saved_links.tail()"
   ]
  },
  {
   "cell_type": "code",
   "execution_count": null,
   "metadata": {},
   "outputs": [],
   "source": [
    "url  = true_links[0]\n",
    "code = requests.get(url)\n",
    "plain = code.text\n",
    "#plain = (unicodedata.normalize('NFD', plain).encode('ascii', 'ignore'))\n",
    "s = BeautifulSoup(plain, \"html.parser\")\n",
    "plain = to_ascii(s.decode())\n",
    "s = BeautifulSoup(plain, \"html.parser\")"
   ]
  },
  {
   "cell_type": "code",
   "execution_count": null,
   "metadata": {},
   "outputs": [],
   "source": [
    "table = s.find_all(\"table\")[0]\n",
    "table = max(s.find_all(\"table\"),key=len)\n",
    "\n",
    "\n",
    "np_table = (html_to_np(table))\n",
    "np_table"
   ]
  },
  {
   "cell_type": "code",
   "execution_count": null,
   "metadata": {},
   "outputs": [],
   "source": [
    "all_text = '\\n'.join(s.findAll(text=True))"
   ]
  },
  {
   "cell_type": "code",
   "execution_count": null,
   "metadata": {},
   "outputs": [],
   "source": [
    "print(all_text)\n"
   ]
  }
 ],
 "metadata": {
  "kernelspec": {
   "display_name": "dl",
   "language": "python",
   "name": "dl"
  },
  "language_info": {
   "codemirror_mode": {
    "name": "ipython",
    "version": 3
   },
   "file_extension": ".py",
   "mimetype": "text/x-python",
   "name": "python",
   "nbconvert_exporter": "python",
   "pygments_lexer": "ipython3",
   "version": "3.6.7"
  }
 },
 "nbformat": 4,
 "nbformat_minor": 2
}
