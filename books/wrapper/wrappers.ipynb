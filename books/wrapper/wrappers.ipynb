{
 "cells": [
  {
   "cell_type": "code",
   "execution_count": 12,
   "metadata": {},
   "outputs": [
    {
     "name": "stdout",
     "output_type": "stream",
     "text": [
      "The autoreload extension is already loaded. To reload it, use:\n",
      "  %reload_ext autoreload\n"
     ]
    }
   ],
   "source": [
    "%load_ext autoreload\n",
    "%autoreload 2\n",
    "\n",
    "import requests\n",
    "from bs4 import BeautifulSoup\n",
    "from tqdm import tqdm_notebook as tqdm\n",
    "import time\n",
    "import numpy as np\n",
    "import pandas as pd\n",
    "import nltk   \n",
    "import unicodedata\n",
    "from html.parser import HTMLParser\n",
    "import re\n",
    "from tqdm import tqdm\n",
    "import glob\n",
    "from utils import *\n",
    "import pathlib\n",
    "from sklearn.pipeline import Pipeline\n",
    "from sklearn.naive_bayes import MultinomialNB\n",
    "from sklearn.model_selection import train_test_split\n",
    "from sklearn.feature_extraction.text import CountVectorizer\n",
    "from sklearn.feature_extraction.text import TfidfTransformer\n",
    "import requests\n",
    "\n",
    "store_list    = [\"ricardoeletro\", \"magazineluiza\"]\n",
    "\n",
    "dataset_pages = f\"data/heuristic_pages/*/*\"\n",
    "dataset_links = f\"data/heusristic_links/heusristic_links/*\"\n",
    "\n",
    "agent = { 'User-Agent': 'Mozilla/5.0 (Windows NT 6.1; WOW64; rv:50.0) Gecko/20100101 Firefox/50.0',\n",
    "          'Accept-Language': 'pt-BR'}"
   ]
  },
  {
   "cell_type": "code",
   "execution_count": 138,
   "metadata": {},
   "outputs": [],
   "source": [
    "\n",
    "url = r\"https://www.amazon.com.br/Smartphone-Xiaomi-64GB-Piano-Black/dp/B07QH823FV/ref=pd_sbs_107_5/138-4765066-9703910?_encoding=UTF8&pd_rd_i=B07QH823FV&pd_rd_r=307fed63-71d8-4c9e-aacc-82a0ddc80cd9&pd_rd_w=x0jYi&pd_rd_wg=88HJ1&pf_rd_p=80c6065d-57d3-41bf-b15e-ee01dd80424f&pf_rd_r=7N8T5AJWRZ6VPNQTB88Z&psc=1&refRID=7N8T5AJWRZ6VPNQTB88Z\"\n",
    "code        = requests.get(url, headers=agent)\n",
    "plain       = code.text\n",
    "s           = BeautifulSoup(plain, \"html.parser\")"
   ]
  },
  {
   "cell_type": "code",
   "execution_count": 141,
   "metadata": {},
   "outputs": [],
   "source": [
    "def levenshtein(word1, word2):\n",
    "    \"\"\"\n",
    "    https://medium.com/@yash_agarwal2/soundex-and-levenshtein-distance-in-python-8b4b56542e9e\n",
    "    https://en.wikipedia.org/wiki/Levenshtein_distance\n",
    "    :param word1:\n",
    "    :param word2:\n",
    "    :return:\n",
    "    \"\"\"\n",
    "    word2 = word2.lower()\n",
    "    word1 = word1.lower()\n",
    "    matrix = [[0 for x in range(len(word2) + 1)] for x in range(len(word1) + 1)]\n",
    "\n",
    "    for x in range(len(word1) + 1):\n",
    "        matrix[x][0] = x\n",
    "    for y in range(len(word2) + 1):\n",
    "        matrix[0][y] = y\n",
    "\n",
    "    for x in range(1, len(word1) + 1):\n",
    "        for y in range(1, len(word2) + 1):\n",
    "            if word1[x - 1] == word2[y - 1]:\n",
    "                matrix[x][y] = min(\n",
    "                    matrix[x - 1][y] + 1,\n",
    "                    matrix[x - 1][y - 1],\n",
    "                    matrix[x][y - 1] + 1\n",
    "                )\n",
    "            else:\n",
    "                matrix[x][y] = min(\n",
    "                    matrix[x - 1][y] + 1,\n",
    "                    matrix[x - 1][y - 1] + 1,\n",
    "                    matrix[x][y - 1] + 1\n",
    "                )\n",
    "\n",
    "    return matrix[len(word1)][len(word2)]\n",
    "\n",
    "def nomr_l(word1, word2):\n",
    "    return levenshtein(word1, word2) / max(len(word1), len(word2))\n",
    "\n",
    "def html_to_np(table):\n",
    "    result = []\n",
    "    all_rows = table.find_all('tr')\n",
    "    for row in all_rows:\n",
    "        result.append([])\n",
    "        all_cols = row.find_all('td')\n",
    "        for col in all_cols:\n",
    "            col_text = [s for s in col.find_all(text=True)]\n",
    "            col_text  = ''.join(col_text) # it should not change anything\n",
    "            result[-1].append(col_text)\n",
    "    return np.array(result)\n",
    "\n",
    "\n",
    "def np_to_dict(table, fields_dict):\n",
    "    for cols in table:\n",
    "        if len(cols) != 2:\n",
    "            continue\n",
    "        for key in fields_dict.keys():\n",
    "            if nomr_l(key, cols[0]) <= 0.2:\n",
    "                fields_dict[key] = cols[1].replace(\"\\n\",'')\n",
    "    return fields_dict\n",
    "\n",
    "\n",
    "            \n",
    "fields_amazom = {'Preço': '',\n",
    "        'Sistema operacional': '',\n",
    "        'RAM': '',\n",
    "        'Capacidade de armazenamento digital': '',\n",
    "        'Modelo': '',\n",
    "        'Cor': '',  \n",
    "        'Tamanho da tela':'',\n",
    "        'Avaliações de clientes': ''\n",
    "       }"
   ]
  },
  {
   "cell_type": "code",
   "execution_count": 142,
   "metadata": {},
   "outputs": [
    {
     "data": {
      "text/plain": [
       "{'Preço': 'R$1.998,00',\n",
       " 'Sistema operacional': 'android',\n",
       " 'RAM': '6',\n",
       " 'Capacidade de armazenamento digital': '6 GB',\n",
       " 'Modelo': 'MZB7606EU',\n",
       " 'Cor': 'Preto',\n",
       " 'Tamanho da tela': '5.97 polegadas',\n",
       " 'Avaliações de clientes': '4.7 de 5 estrelas      109 avaliações de clientes    '}"
      ]
     },
     "execution_count": 142,
     "metadata": {},
     "output_type": "execute_result"
    }
   ],
   "source": [
    "tb = html_to_np(s)\n",
    "np_to_dict(tb, fields_amazom)"
   ]
  },
  {
   "cell_type": "code",
   "execution_count": null,
   "metadata": {},
   "outputs": [],
   "source": []
  }
 ],
 "metadata": {
  "kernelspec": {
   "display_name": "dl",
   "language": "python",
   "name": "myenv"
  },
  "language_info": {
   "codemirror_mode": {
    "name": "ipython",
    "version": 3
   },
   "file_extension": ".py",
   "mimetype": "text/x-python",
   "name": "python",
   "nbconvert_exporter": "python",
   "pygments_lexer": "ipython3",
   "version": "3.7.4"
  }
 },
 "nbformat": 4,
 "nbformat_minor": 4
}
