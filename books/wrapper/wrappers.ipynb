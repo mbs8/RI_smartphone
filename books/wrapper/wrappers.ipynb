{
 "cells": [
  {
   "cell_type": "code",
   "execution_count": 8,
   "metadata": {},
   "outputs": [
    {
     "name": "stdout",
     "output_type": "stream",
     "text": [
      "The autoreload extension is already loaded. To reload it, use:\n",
      "  %reload_ext autoreload\n"
     ]
    }
   ],
   "source": [
    "%load_ext autoreload\n",
    "%autoreload 2\n",
    "\n",
    "import requests\n",
    "import sys\n",
    "sys.path.append('..')\n",
    "from bs4 import BeautifulSoup\n",
    "from tqdm import tqdm_notebook as tqdm\n",
    "import time\n",
    "import numpy as np\n",
    "import pandas as pd\n",
    "import nltk   \n",
    "import unicodedata\n",
    "from html.parser import HTMLParser\n",
    "import re\n",
    "from tqdm import tqdm\n",
    "import glob\n",
    "from utils import *\n",
    "import pathlib\n",
    "from sklearn.pipeline import Pipeline\n",
    "from sklearn.naive_bayes import MultinomialNB\n",
    "from sklearn.model_selection import train_test_split\n",
    "from sklearn.feature_extraction.text import CountVectorizer\n",
    "from sklearn.feature_extraction.text import TfidfTransformer\n",
    "import requests\n",
    "\n",
    "agent = { 'User-Agent': 'Mozilla/5.0 (Windows NT 6.1; WOW64; rv:50.0) Gecko/20100101 Firefox/50.0',\n",
    "          'Accept-Language': 'pt-BR'}"
   ]
  },
  {
   "cell_type": "code",
   "execution_count": 14,
   "metadata": {},
   "outputs": [],
   "source": [
    "\n",
    "#url = r\"https://www.amazon.com.br/Smartphone-Xiaomi-64GB-Piano-Black/dp/B07QH823FV/ref=pd_sbs_107_5/138-4765066-9703910?_encoding=UTF8&pd_rd_i=B07QH823FV&pd_rd_r=307fed63-71d8-4c9e-aacc-82a0ddc80cd9&pd_rd_w=x0jYi&pd_rd_wg=88HJ1&pf_rd_p=80c6065d-57d3-41bf-b15e-ee01dd80424f&pf_rd_r=7N8T5AJWRZ6VPNQTB88Z&psc=1&refRID=7N8T5AJWRZ6VPNQTB88Z\"\n"
   ]
  },
  {
   "cell_type": "markdown",
   "metadata": {},
   "source": [
    "# Generic Functions"
   ]
  },
  {
   "cell_type": "code",
   "execution_count": 85,
   "metadata": {},
   "outputs": [],
   "source": [
    "def levenshtein(word1, word2):\n",
    "    \"\"\"\n",
    "    https://medium.com/@yash_agarwal2/soundex-and-levenshtein-distance-in-python-8b4b56542e9e\n",
    "    https://en.wikipedia.org/wiki/Levenshtein_distance\n",
    "    :param word1:\n",
    "    :param word2:\n",
    "    :return:\n",
    "    \"\"\"\n",
    "    word2 = word2.lower()\n",
    "    word1 = word1.lower()\n",
    "    matrix = [[0 for x in range(len(word2) + 1)] for x in range(len(word1) + 1)]\n",
    "\n",
    "    for x in range(len(word1) + 1):\n",
    "        matrix[x][0] = x\n",
    "    for y in range(len(word2) + 1):\n",
    "        matrix[0][y] = y\n",
    "\n",
    "    for x in range(1, len(word1) + 1):\n",
    "        for y in range(1, len(word2) + 1):\n",
    "            if word1[x - 1] == word2[y - 1]:\n",
    "                matrix[x][y] = min(\n",
    "                    matrix[x - 1][y] + 1,\n",
    "                    matrix[x - 1][y - 1],\n",
    "                    matrix[x][y - 1] + 1\n",
    "                )\n",
    "            else:\n",
    "                matrix[x][y] = min(\n",
    "                    matrix[x - 1][y] + 1,\n",
    "                    matrix[x - 1][y - 1] + 1,\n",
    "                    matrix[x][y - 1] + 1\n",
    "                )\n",
    "\n",
    "    return matrix[len(word1)][len(word2)]\n",
    "\n",
    "def nomr_l(word1, word2):\n",
    "    return levenshtein(word1, word2) / max(len(word1), len(word2))\n",
    "\n",
    "def html_to_np(table):\n",
    "    result = []\n",
    "    all_rows = table.find_all('tr')\n",
    "    for row in all_rows:\n",
    "        result.append([])\n",
    "        all_cols = row.find_all('td')\n",
    "        for col in all_cols:\n",
    "            col_text = [s.strip(' ') for s in col.find_all(text=True)]\n",
    "            col_text  = ''.join(col_text) # it should not change anything\n",
    "            result[-1].append(col_text)\n",
    "    return np.array(result)\n",
    "\n",
    "\n",
    "def np_to_dict(table, fields_dict):\n",
    "    new_dict = fields_dict.copy()\n",
    "    for cols in table:\n",
    "        if len(cols) != 2:\n",
    "            continue\n",
    "        for key in fields_dict.keys():\n",
    "            if nomr_l(key, cols[0]) <= 0.25:\n",
    "                new_dict[key] = cols[1].replace(\"\\n\",'')\n",
    "            #print(nomr_l(key, cols[0]), key, cols[0])\n",
    "    return new_dict"
   ]
  },
  {
   "cell_type": "markdown",
   "metadata": {},
   "source": [
    "## Amazom"
   ]
  },
  {
   "cell_type": "code",
   "execution_count": 86,
   "metadata": {},
   "outputs": [],
   "source": [
    "fields_amazom = {'Preço': '',\n",
    "        'Sistema operacional': '',\n",
    "        'RAM': '',\n",
    "        'Capacidade de armazenamento digital': '',\n",
    "        'Modelo': '',\n",
    "        'Cor': '',  \n",
    "        'Tamanho da tela':'',\n",
    "        'Avaliações de clientes': ''\n",
    "       }\n",
    "\n",
    "url = r\"https://www.amazon.com.br/Smartphone-Xiaomi-64GB-Piano-Black/dp/B07QH823FV/ref=pd_sbs_107_5/138-4765066-9703910?_encoding=UTF8&pd_rd_i=B07QH823FV&pd_rd_r=307fed63-71d8-4c9e-aacc-82a0ddc80cd9&pd_rd_w=x0jYi&pd_rd_wg=88HJ1&pf_rd_p=80c6065d-57d3-41bf-b15e-ee01dd80424f&pf_rd_r=7N8T5AJWRZ6VPNQTB88Z&psc=1&refRID=7N8T5AJWRZ6VPNQTB88Z\"\n",
    "\n",
    "code        = requests.get(url, headers=agent)\n",
    "plain       = code.text\n",
    "s           = BeautifulSoup(plain, \"html.parser\")"
   ]
  },
  {
   "cell_type": "code",
   "execution_count": 87,
   "metadata": {},
   "outputs": [
    {
     "data": {
      "text/plain": [
       "{'Preço': 'R$1.998,00',\n",
       " 'Sistema operacional': 'android',\n",
       " 'RAM': '6',\n",
       " 'Capacidade de armazenamento digital': '6 GB',\n",
       " 'Modelo': 'MZB7606EU',\n",
       " 'Cor': 'Preto',\n",
       " 'Tamanho da tela': '5.97 polegadas',\n",
       " 'Avaliações de clientes': '4.7 de 5 estrelas      109 avaliações de clientes'}"
      ]
     },
     "execution_count": 87,
     "metadata": {},
     "output_type": "execute_result"
    }
   ],
   "source": [
    "tb = html_to_np(s)\n",
    "np_to_dict(tb, fields_amazom)"
   ]
  },
  {
   "cell_type": "markdown",
   "metadata": {},
   "source": [
    "## Magazine Luiza"
   ]
  },
  {
   "cell_type": "code",
   "execution_count": 115,
   "metadata": {},
   "outputs": [],
   "source": [
    "fields_luiza = {'Preço': '',\n",
    "        'Sistema operacional': '',\n",
    "        'Memória RAM': '',\n",
    "        'Armazenamento interno': '',\n",
    "        'Modelo': '',\n",
    "        'Cor': '',  \n",
    "        'Tamanho da tela':'',\n",
    "        'Avaliações de clientes': '',\n",
    "        'Marca' : ''\n",
    "       }\n",
    "\n",
    "def np_to_dict(table, fields_dict):\n",
    "    new_dict = fields_dict.copy()\n",
    "    for cols in table:\n",
    "        if len(cols) < 2:\n",
    "            continue\n",
    "        for key in fields_dict.keys():\n",
    "            if nomr_l(key, cols[0]) <= 0.25:\n",
    "                new_dict[key] = cols[1].replace(\"\\n\",'')\n",
    "            #print(nomr_l(key, cols[0]), key, cols[0])\n",
    "    return new_dict"
   ]
  },
  {
   "cell_type": "code",
   "execution_count": 122,
   "metadata": {},
   "outputs": [],
   "source": [
    "url = r\"https://www.magazineluiza.com.br/smartphone-motorola-g7-play-32gb-indigo-4g-2gb-ram-tela-57-cam-13mp-cam-selfie-8mp/p/155549300/te/mtgp/\"\n",
    "code        = requests.get(url, headers=agent)\n",
    "plain       = code.text\n",
    "s           = BeautifulSoup(plain, \"html.parser\")"
   ]
  },
  {
   "cell_type": "code",
   "execution_count": 123,
   "metadata": {},
   "outputs": [
    {
     "data": {
      "text/plain": [
       "{'Preço': '',\n",
       " 'Sistema operacional': 'Android Pie',\n",
       " 'Memória RAM': '2GB',\n",
       " 'Armazenamento interno': '32GB (A memória disponível para uso do consumidor pode sofrer variações, conforme sistema operacional, aplicativos e/ou outros fatores)',\n",
       " 'Modelo': 'G7 Play',\n",
       " 'Cor': 'Indigo',\n",
       " 'Tamanho da tela': '5,7\"',\n",
       " 'Avaliações de clientes': '',\n",
       " 'Marca': 'Motorola'}"
      ]
     },
     "execution_count": 123,
     "metadata": {},
     "output_type": "execute_result"
    }
   ],
   "source": [
    "tb = html_to_np(s)\n",
    "np_to_dict(tb, fields_luiza)"
   ]
  },
  {
   "cell_type": "markdown",
   "metadata": {},
   "source": [
    "# IByte"
   ]
  },
  {
   "cell_type": "code",
   "execution_count": 164,
   "metadata": {},
   "outputs": [],
   "source": [
    "url = r\"https://www.ibyte.com.br/smartphone-samsung-galaxy-j8-64gb-tela-6-octa-core-1-8ghz-4g-16mp-f1-7-5mp-f1-9-dual-cam-preto.html\"\n",
    "code        = requests.get(url, headers=agent)\n",
    "plain       = code.text\n",
    "s           = BeautifulSoup(plain, \"html.parser\")"
   ]
  },
  {
   "cell_type": "code",
   "execution_count": 147,
   "metadata": {},
   "outputs": [],
   "source": [
    "fields_ibyte = {'Preço': '',\n",
    "        'Sistema operacional': '',\n",
    "        'Memória RAM': '',\n",
    "        'Memória Interna': '',\n",
    "        'Modelo': '',\n",
    "        'Cor': '',  \n",
    "        'Tamanho do Display':'',\n",
    "        'Avaliações de clientes': '',\n",
    "        'Marca' : ''\n",
    "       }\n",
    "\n",
    "def np_to_dict(table, fields_dict):\n",
    "    new_dict = fields_dict.copy()\n",
    "    for cols in table:\n",
    "        if len(cols) < 3:\n",
    "            continue\n",
    "        for key in fields_dict.keys():\n",
    "            if nomr_l(key, cols[1]) <= 0.25:\n",
    "                new_dict[key] = cols[2].replace(\"\\n\",'')\n",
    "            #print(nomr_l(key, cols[0]), key, cols[0])\n",
    "    return new_dict"
   ]
  },
  {
   "cell_type": "code",
   "execution_count": 148,
   "metadata": {},
   "outputs": [
    {
     "data": {
      "text/plain": [
       "{'Preço': '',\n",
       " 'Sistema operacional': 'Android',\n",
       " 'Memória RAM': '4GB',\n",
       " 'Memória Interna': '64GB',\n",
       " 'Modelo': 'SM-J810M/64DL',\n",
       " 'Cor': 'Preto',\n",
       " 'Tamanho do Display': '6\"',\n",
       " 'Avaliações de clientes': '',\n",
       " 'Marca': 'Samsung'}"
      ]
     },
     "execution_count": 148,
     "metadata": {},
     "output_type": "execute_result"
    }
   ],
   "source": [
    "tb = html_to_np(s)\n",
    "np_to_dict(tb, fields_ibyte)"
   ]
  },
  {
   "cell_type": "markdown",
   "metadata": {},
   "source": [
    "# Kabum"
   ]
  },
  {
   "cell_type": "code",
   "execution_count": 196,
   "metadata": {},
   "outputs": [],
   "source": [
    "url = r\"https://www.kabum.com.br/produto/101342/smartphone-samsung-galaxy-a10-32gb-13mp-tela-6-2-preto-sm-a105m-32dl\"\n",
    "code        = requests.get(url, headers=agent)\n",
    "plain       = code.text\n",
    "s           = BeautifulSoup(plain, \"html.parser\")"
   ]
  },
  {
   "cell_type": "code",
   "execution_count": 351,
   "metadata": {},
   "outputs": [],
   "source": [
    "fields_kabum = {'Preço': '',\n",
    "        'Sistema operacional': '',\n",
    "        'Memória RAM': '',\n",
    "        'Memória Interna': '',\n",
    "        'Modelo': '',\n",
    "        'Cor': '',  \n",
    "        'Tamanho do Display':'',\n",
    "        'Avaliações de clientes': '',\n",
    "        'Marca' : ''\n",
    "       }\n",
    "\n",
    "def np_to_dict(table, fields_dict):\n",
    "    new_dict = fields_dict.copy()\n",
    "    for cols in table:\n",
    "        if len(cols) < 2:\n",
    "            continue\n",
    "        for key in fields_dict.keys():\n",
    "            if nomr_l(key, cols[0]) <= 0.25:\n",
    "                new_dict[key] = cols[1].replace(\"\\n\",'')\n",
    "            #print(nomr_l(key, cols[0]), key, cols[0])\n",
    "    return new_dict"
   ]
  },
  {
   "cell_type": "code",
   "execution_count": 352,
   "metadata": {},
   "outputs": [],
   "source": [
    "price_roi = s.find_all(\"div\", attrs={\"class\":\"preco_normal\"},text=True)\n",
    "if len(price_roi):\n",
    "    price = re.findall(\"R\\$ \\d{1,5}\\,\\d{1,3}\", str(price_roi[0]))\n",
    "    if len(price): \n",
    "        fields_kabum[\"Preço\"] = price[0]"
   ]
  },
  {
   "cell_type": "code",
   "execution_count": 414,
   "metadata": {},
   "outputs": [],
   "source": [
    "from lxml import etree\n",
    "import re\n",
    "parser = etree.HTMLParser()\n",
    "\n",
    "XPATH_MODEL = r\"\"\"//*[@id=\"pag-detalhes\"]/div/div[6]/div[2]/p/text()\"\"\"\n",
    "\n",
    "tree = etree.parse('kabum.html', parser)\n",
    "\n",
    "RAW_MODEL = tree.xpath(XPATH_MODEL)"
   ]
  },
  {
   "cell_type": "code",
   "execution_count": 426,
   "metadata": {},
   "outputs": [
    {
     "data": {
      "text/plain": [
       "{'Preço': 'R$ 749,00',\n",
       " 'Sistema operacional': '',\n",
       " 'Memória RAM': ' 2GB',\n",
       " 'Memória Interna': ' 32GB*',\n",
       " 'Modelo': ' SM-A105M/32DL',\n",
       " 'Cor': ' 16 Milhões',\n",
       " 'Tamanho do Display': ' 6.2\"*',\n",
       " 'Avaliações de clientes': '',\n",
       " 'Marca': ' Samsung'}"
      ]
     },
     "execution_count": 426,
     "metadata": {},
     "output_type": "execute_result"
    }
   ],
   "source": [
    "for p in RAW_MODEL:\n",
    "    if(len(p)):\n",
    "        for key in fields_kabum:\n",
    "            if key in p:\n",
    "                fields_kabum[key] = (p.split(':')[1])\n",
    "fields_kabum"
   ]
  },
  {
   "cell_type": "markdown",
   "metadata": {},
   "source": [
    "# Avenida"
   ]
  },
  {
   "cell_type": "code",
   "execution_count": 475,
   "metadata": {},
   "outputs": [],
   "source": [
    "fields_avenida = {'Preço': '',\n",
    "        'Sistema operacional': '',\n",
    "        'Memória RAM': '',\n",
    "        'Memória Interna': '',\n",
    "        'Modelo': '',\n",
    "        'Cor': '',  \n",
    "        'Tamanho do Display':'',\n",
    "        'Avaliações de clientes': '',\n",
    "        'Marca' : ''\n",
    "       }\n",
    "\n",
    "parser = etree.HTMLParser()\n",
    "XPATH_MODEL = r\"\"\"//*[@id=\"caracteristicas\"]/table/tbody/tr[3]\"\"\"\n",
    "tree = etree.parse('avenida.html', parser)\n",
    "\n",
    "RAW_MODEL = tree.xpath(XPATH_MODEL)"
   ]
  },
  {
   "cell_type": "code",
   "execution_count": 476,
   "metadata": {},
   "outputs": [],
   "source": [
    "for p in RAW_MODEL:\n",
    "    print(p)\n",
    "for p in RAW_MODEL:\n",
    "    if(len(p)):\n",
    "        for key in fields_avenida:\n",
    "            if key in p:\n",
    "                fields_avenida[key] = (p.split(':')[1])\n",
    "#fields_avenida"
   ]
  },
  {
   "cell_type": "markdown",
   "metadata": {},
   "source": [
    "## Cissamagazine"
   ]
  },
  {
   "cell_type": "code",
   "execution_count": 521,
   "metadata": {},
   "outputs": [],
   "source": [
    "fields_cissamagazine = {'Preço': '',\n",
    "        'Sistema operacional': '',\n",
    "        'Memória RAM': '',\n",
    "        'Memória Interna': '',\n",
    "        'Modelo': '',\n",
    "        'Cor': '',  \n",
    "        'Tamanho do Display':'',\n",
    "        'Avaliações de clientes': '',\n",
    "        'Marca' : ''\n",
    "       }\n",
    "\n",
    "\n",
    "parser = etree.HTMLParser()\n",
    "XPATH_DD = r\"\"\"//*[@id=\"caracteristicas\"]/div[2]/div/dl/span/dd/text()\"\"\"\n",
    "XPATH_DT = r\"\"\"//*[@id=\"caracteristicas\"]/div[2]/div/dl/span/dt/text()\"\"\"\n",
    "             \n",
    "tree = etree.parse('./cissamagazine.html', parser)\n",
    "\n",
    "RAW_DD = tree.xpath(XPATH_DD)\n",
    "RAW_DT = tree.xpath(XPATH_DT)\n"
   ]
  },
  {
   "cell_type": "code",
   "execution_count": 527,
   "metadata": {},
   "outputs": [
    {
     "data": {
      "text/plain": [
       "'VersÃ£o'"
      ]
     },
     "execution_count": 527,
     "metadata": {},
     "output_type": "execute_result"
    }
   ],
   "source": [
    "RAW_DT[1].encode('utf-8').decode()"
   ]
  },
  {
   "cell_type": "code",
   "execution_count": 522,
   "metadata": {},
   "outputs": [
    {
     "name": "stdout",
     "output_type": "stream",
     "text": [
      "('Plataforma', 'Android')\n",
      "('VersÃ£o', 'Android 9.0 Pie')\n",
      "('FPS da GravaÃ§Ã£o', '30 fps')\n",
      "('Tamanho da Tela', '6.39\"')\n",
      "('ResoluÃ§Ã£o', '2340 x 1080')\n",
      "('Tipo', 'AMOLED')\n",
      "('NÃºmero de Cores', '16 milhÃµes de cores')\n",
      "('MemÃ³ria Interna', '128 GB')\n",
      "('MemÃ³ria RAM', '6 GB')\n",
      "('MemÃ³ria ExpansÃ\\xadvel', '256 GB')\n",
      "('CÃ¢mera', 'Tripla (48MP + 8MP + 2MP)')\n",
      "('Recursos', 'Autofocus; ')\n",
      "('CÃ¢mera Frontal', ' DetecÃ§Ã£o Facial; ')\n",
      "('Recursos', ' DetecÃ§Ã£o de Sorriso; ')\n",
      "('Rede', ' EstabilizaÃ§Ã£o de Imagem; ')\n",
      "('Conectividade', ' Flash; ')\n",
      "('ProteÃ§Ã£o', ' HDR; ')\n",
      "('Capacidade', ' Panorama; ')\n",
      "('RemovÃ\\xadvel', ' Temporizador; ')\n",
      "('Tipo', ' Abertura F/1.8; ')\n",
      "('Sensores', ' Modo profissional; ')\n",
      "('Processador', ' Modo Burst')\n",
      "('Velocidade (Clock)', '32 MP')\n",
      "('Modelo', 'HDR; ')\n",
      "('GPU', ' DetecÃ§Ã£o Facial; ')\n",
      "('Chips', ' Panorama; ')\n",
      "('Tipo do Chip', ' Temporizador; ')\n",
      "('VersÃ£o', ' Abertura F/2.0')\n",
      "('Altura (cm)', '4G+; ')\n",
      "('Espessura (cm)', ' 4G; ')\n",
      "('Largura (cm)', ' 3G; ')\n",
      "('Peso (g)', ' 2G')\n",
      "('Marca', 'Bluetooth 5.0; ')\n",
      "('Modelo', ' Wi-Fi 802.11 a/b/g/n/ac; ')\n"
     ]
    }
   ],
   "source": [
    "for p in zip(RAW_DT, RAW_DD):\n",
    "    print(p)"
   ]
  },
  {
   "cell_type": "code",
   "execution_count": null,
   "metadata": {},
   "outputs": [],
   "source": []
  }
 ],
 "metadata": {
  "kernelspec": {
   "display_name": "dl",
   "language": "python",
   "name": "myenv"
  },
  "language_info": {
   "codemirror_mode": {
    "name": "ipython",
    "version": 3
   },
   "file_extension": ".py",
   "mimetype": "text/x-python",
   "name": "python",
   "nbconvert_exporter": "python",
   "pygments_lexer": "ipython3",
   "version": "3.7.4"
  }
 },
 "nbformat": 4,
 "nbformat_minor": 4
}
