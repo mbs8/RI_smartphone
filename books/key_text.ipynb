{
 "cells": [
  {
   "cell_type": "code",
   "execution_count": 68,
   "metadata": {},
   "outputs": [],
   "source": [
    "import requests\n",
    "from bs4 import BeautifulSoup\n",
    "import tqdm\n",
    "import time\n",
    "import numpy as np\n",
    "import pandas as pd\n",
    "import nltk   \n",
    "import unicodedata\n",
    "from html.parser import HTMLParser\n",
    "import re\n",
    "\n",
    "saved_links = pd.read_csv('ricardoeletro.csv')\n",
    "true_links = np.array(saved_links[saved_links['label']==1]['url'])\n",
    "url  = true_links[0]\n",
    "code = requests.get(url)\n",
    "plain = code.text"
   ]
  },
  {
   "cell_type": "code",
   "execution_count": 108,
   "metadata": {},
   "outputs": [],
   "source": [
    "def to_ascii(string):\n",
    "    latin_dict = \\\n",
    "        {'\\\\u00e1':'a', '\\\\u00e0':'a', '\\\\u00e2':'a', '\\\\u00e3':'a', '\\\\u00e4':'a', '\\\\u00c1':'A', '\\\\u00c0':'A', \n",
    "         '\\\\u00c2':'A', '\\\\u00c3':'A', '\\\\u00c4':'A', '\\\\u00e9':'e', '\\\\u00e8':'e', '\\\\u00ea':'e', '\\\\u00ea':'e', \n",
    "         '\\\\u00c9':'E', '\\\\u00c8':'E', '\\\\u00ca':'E', '\\\\u00cb':'E', '\\\\u00ed':'i', '\\\\u00ec':'i', '\\\\u00ee':'i', \n",
    "         '\\\\u00ef':'i', '\\\\u00cd':'I', '\\\\u00cc':'I', '\\\\u00ce':'I', '\\\\u00cf':'I', '\\\\u00f3':'o', '\\\\u00f2':'o', \n",
    "         '\\\\u00f4':'o', '\\\\u00f5':'o', '\\\\u00f6':'o', '\\\\u00d3':'O', '\\\\u00d2':'O', '\\\\u00d4':'O', '\\\\u00d5':'O', \n",
    "         '\\\\u00d6':'O', '\\\\u00fa':'u', '\\\\u00f9':'u', '\\\\u00fb':'u', '\\\\u00fc':'u', '\\\\u00da':'U', '\\\\u00d9':'U', \n",
    "         '\\\\u00db':'U', '\\\\u00e7':'c', '\\\\u00c7':'C', '\\\\u00f1':'n', '\\\\u00d1':'N', '\\\\u0026':'E', '\\\\u0027':'\\'',\n",
    "         'á':'a', 'à':'a', 'â':'a', 'ã':'a', 'ä':'a', 'Á':'A', 'À':'A', 'Â':'A', 'Ã':'A', 'Ä':'A', 'é':'e', 'è':'e', \n",
    "         'ê':'e', 'ê':'e', 'É':'E', 'È':'E', 'Ê':'E', 'Ë':'E', 'í':'i', 'ì':'i', 'î':'i', 'ï':'i', 'Í':'I', 'Ì':'I', \n",
    "         'Î':'I', 'Ï':'I', 'ó':'o', 'ò':'o', 'ô':'o', 'õ':'o', 'ö':'o', 'Ó':'O', 'Ò':'O', 'Ô':'O', 'Õ':'O', 'Ö':'O', \n",
    "         'ú':'u', 'ù':'u', 'û':'u', 'ü':'u', 'Ú':'U', 'Ù':'U', 'Û':'U', 'ç':'c', 'Ç':'C', 'ñ':'n', 'Ñ':'N', '&':'E'}\n",
    "    for key in latin_dict:\n",
    "        string = string.replace(key, latin_dict[key])\n",
    "    return string\n",
    "\n",
    "def html_to_np(table):\n",
    "    result = []\n",
    "    all_rows = table.find_all('tr')\n",
    "    for row in all_rows:\n",
    "        result.append([])\n",
    "        all_cols = row.find_all('td')\n",
    "        for col in all_cols:\n",
    "            col_text = [s for s in col.find_all(text=True)]\n",
    "            col_text  = ''.join(col_text) # it should not change anything\n",
    "            result[-1].append(col_text)\n",
    "    return np.array(result)\n",
    "\n"
   ]
  },
  {
   "cell_type": "code",
   "execution_count": 109,
   "metadata": {},
   "outputs": [
    {
     "data": {
      "text/html": [
       "<div>\n",
       "<style scoped>\n",
       "    .dataframe tbody tr th:only-of-type {\n",
       "        vertical-align: middle;\n",
       "    }\n",
       "\n",
       "    .dataframe tbody tr th {\n",
       "        vertical-align: top;\n",
       "    }\n",
       "\n",
       "    .dataframe thead th {\n",
       "        text-align: right;\n",
       "    }\n",
       "</style>\n",
       "<table border=\"1\" class=\"dataframe\">\n",
       "  <thead>\n",
       "    <tr style=\"text-align: right;\">\n",
       "      <th></th>\n",
       "      <th>url</th>\n",
       "      <th>label</th>\n",
       "    </tr>\n",
       "  </thead>\n",
       "  <tbody>\n",
       "    <tr>\n",
       "      <th>198</th>\n",
       "      <td>https://www.ricardoeletro.com.br/Produto/Smart...</td>\n",
       "      <td>1</td>\n",
       "    </tr>\n",
       "    <tr>\n",
       "      <th>199</th>\n",
       "      <td>https://www.ricardoeletro.com.br/Produto/Smart...</td>\n",
       "      <td>1</td>\n",
       "    </tr>\n",
       "    <tr>\n",
       "      <th>200</th>\n",
       "      <td>https://www.ricardoeletro.com.br/Produto/Smart...</td>\n",
       "      <td>1</td>\n",
       "    </tr>\n",
       "    <tr>\n",
       "      <th>201</th>\n",
       "      <td>https://www.ricardoeletro.com.br/Produto/Smart...</td>\n",
       "      <td>1</td>\n",
       "    </tr>\n",
       "    <tr>\n",
       "      <th>202</th>\n",
       "      <td>https://www.ricardoeletro.com.br/Televendas</td>\n",
       "      <td>0</td>\n",
       "    </tr>\n",
       "  </tbody>\n",
       "</table>\n",
       "</div>"
      ],
      "text/plain": [
       "                                                   url  label\n",
       "198  https://www.ricardoeletro.com.br/Produto/Smart...      1\n",
       "199  https://www.ricardoeletro.com.br/Produto/Smart...      1\n",
       "200  https://www.ricardoeletro.com.br/Produto/Smart...      1\n",
       "201  https://www.ricardoeletro.com.br/Produto/Smart...      1\n",
       "202        https://www.ricardoeletro.com.br/Televendas      0"
      ]
     },
     "execution_count": 109,
     "metadata": {},
     "output_type": "execute_result"
    }
   ],
   "source": [
    "saved_links.tail()"
   ]
  },
  {
   "cell_type": "code",
   "execution_count": 110,
   "metadata": {},
   "outputs": [],
   "source": [
    "#plain = (unicodedata.normalize('NFD', plain).encode('ascii', 'ignore'))\n",
    "s = BeautifulSoup(plain, \"html.parser\")\n",
    "plain = to_ascii(s.decode())\n",
    "s = BeautifulSoup(plain, \"html.parser\")"
   ]
  },
  {
   "cell_type": "code",
   "execution_count": 111,
   "metadata": {},
   "outputs": [
    {
     "data": {
      "text/plain": [
       "['Celular DL YC335 Azul, Flip, Dual Chip, Tela de 1.8, Camera,']"
      ]
     },
     "execution_count": 111,
     "metadata": {},
     "output_type": "execute_result"
    }
   ],
   "source": [
    "head_text = s.head.title.find_all(text=True)\n",
    "head_text"
   ]
  },
  {
   "cell_type": "code",
   "execution_count": 112,
   "metadata": {},
   "outputs": [],
   "source": [
    "table = s.find_all(\"table\")[0]\n",
    "table = max(s.find_all(\"table\"),key=len)\n",
    "\n",
    "np_table = (html_to_np(table))\n",
    "att, values = np_table[:,0], np_table[:,1]"
   ]
  },
  {
   "cell_type": "code",
   "execution_count": 113,
   "metadata": {},
   "outputs": [
    {
     "data": {
      "text/plain": [
       "'Celular DL YC335 Azul, Flip, Dual Chip, Tela de 1.8, Camera, Camera Traseira Toques Visualizador de arquivos Suporte a GPS SCREEN_TECHNOLOGY Frequencias NUMBER_OF_SIM_CARD_SLOTS INTERNAL_MEMORY Relsoucao do visor/display interno (pixels) Tamanho do visor (cm) HSDPA (maior velocidade em download) Sincronizacao com PC TV-Out WIFI_CONNECTION Touch Screen Color RAM Dual Chip OPERATING_SYSTEM Formato de Audio FRONT_CAMERA_RESOLUTION Grava video Slot para cartao Cartao Incluso Mensagens Altura Largura Comprimento Dimensoes aproximadas da embalagem (AxLxC) Peso Garantia'"
      ]
     },
     "execution_count": 113,
     "metadata": {},
     "output_type": "execute_result"
    }
   ],
   "source": [
    "X = ' '.join(head_text) + ' '+ ' '.join(att)\n",
    "X"
   ]
  },
  {
   "cell_type": "code",
   "execution_count": 117,
   "metadata": {},
   "outputs": [
    {
     "data": {
      "text/plain": [
       "'Celular DL YC Azul Flip Dual Chip Tela de  Camera Camera Traseira Toques Visualizador de arquivos Suporte a GPS SCREENTECHNOLOGY Frequencias NUMBEROFSIMCARDSLOTS INTERNALMEMORY Relsoucao do visordisplay interno pixels Tamanho do visor cm HSDPA maior velocidade em download Sincronizacao com PC TVOut WIFICONNECTION Touch Screen Color RAM Dual Chip OPERATINGSYSTEM Formato de Audio FRONTCAMERARESOLUTION Grava video Slot para cartao Cartao Incluso Mensagens Altura Largura Comprimento Dimensoes aproximadas da embalagem AxLxC Peso Garantia'"
      ]
     },
     "execution_count": 117,
     "metadata": {},
     "output_type": "execute_result"
    }
   ],
   "source": [
    "regex = re.compile('[^a-zA-Z ]')\n",
    "X = regex.sub('', X)\n",
    "X"
   ]
  },
  {
   "cell_type": "code",
   "execution_count": 132,
   "metadata": {},
   "outputs": [
    {
     "data": {
      "text/plain": [
       "['altura',\n",
       " 'aproximadas',\n",
       " 'arquivos',\n",
       " 'audio',\n",
       " 'axlxc',\n",
       " 'azul',\n",
       " 'camera',\n",
       " 'cartao',\n",
       " 'celular',\n",
       " 'chip',\n",
       " 'color',\n",
       " 'com',\n",
       " 'comprimento',\n",
       " 'dimensoes',\n",
       " 'download',\n",
       " 'dual',\n",
       " 'embalagem',\n",
       " 'flip',\n",
       " 'formato',\n",
       " 'frequencias',\n",
       " 'frontcameraresolution',\n",
       " 'garantia',\n",
       " 'gps',\n",
       " 'grava',\n",
       " 'hsdpa',\n",
       " 'incluso',\n",
       " 'internalmemory',\n",
       " 'interno',\n",
       " 'largura',\n",
       " 'maior',\n",
       " 'mensagens',\n",
       " 'numberofsimcardslots',\n",
       " 'operatingsystem',\n",
       " 'para',\n",
       " 'peso',\n",
       " 'pixels',\n",
       " 'ram',\n",
       " 'relsoucao',\n",
       " 'screen',\n",
       " 'screentechnology',\n",
       " 'sincronizacao',\n",
       " 'slot',\n",
       " 'suporte',\n",
       " 'tamanho',\n",
       " 'tela',\n",
       " 'toques',\n",
       " 'touch',\n",
       " 'traseira',\n",
       " 'tvout',\n",
       " 'velocidade',\n",
       " 'video',\n",
       " 'visor',\n",
       " 'visordisplay',\n",
       " 'visualizador',\n",
       " 'wificonnection']"
      ]
     },
     "execution_count": 132,
     "metadata": {},
     "output_type": "execute_result"
    }
   ],
   "source": [
    "X = [ word.lower() for word in  X.split(' ') if len(word) > 2]\n",
    "X = sorted(list(set(X)))\n",
    "X"
   ]
  }
 ],
 "metadata": {
  "kernelspec": {
   "display_name": "dl",
   "language": "python",
   "name": "myenv"
  },
  "language_info": {
   "codemirror_mode": {
    "name": "ipython",
    "version": 3
   },
   "file_extension": ".py",
   "mimetype": "text/x-python",
   "name": "python",
   "nbconvert_exporter": "python",
   "pygments_lexer": "ipython3",
   "version": "3.7.4"
  }
 },
 "nbformat": 4,
 "nbformat_minor": 4
}
