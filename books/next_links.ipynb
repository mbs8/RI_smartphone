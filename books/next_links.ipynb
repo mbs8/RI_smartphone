{
 "cells": [
  {
   "cell_type": "code",
   "execution_count": null,
   "metadata": {},
   "outputs": [],
   "source": [
    "import requests\n",
    "from bs4 import BeautifulSoup\n",
    "import tqdm\n",
    "import time\n",
    "import numpy as np"
   ]
  },
  {
   "cell_type": "code",
   "execution_count": null,
   "metadata": {},
   "outputs": [],
   "source": [
    "def get_next_links():\n",
    "    \n",
    "    set_links  = set()\n",
    "    next_page  = 1\n",
    "    try:\n",
    "        while(next_page >= 0):\n",
    "            next_links = []\n",
    "            url = fr'https://www.ricardoeletro.com.br/Loja/Celulares-e-Telefones/Smartphones/44-491?p={next_page}'\n",
    "            next_page += 1\n",
    "            time.sleep(1)\n",
    "            code = requests.get(url)\n",
    "            plain = code.text\n",
    "            s = BeautifulSoup(plain, \"html.parser\")\n",
    "\n",
    "            for link in s.findAll('a'):\n",
    "                href = link.get('href')\n",
    "                if href is not None:\n",
    "                    if ('ricardoeletro' in href and href.startswith('https://www.ricardoeletro.com.br/') ):\n",
    "                        next_links.append(href)\n",
    "\n",
    "            if set_links.issuperset(next_links):\n",
    "                next_page = -1\n",
    "\n",
    "            set_links = set_links.union(next_links)\n",
    "            print(\"Iter:\",next_page-1, len(set_links))\n",
    "    except:\n",
    "        print('Error')\n",
    "        \n",
    "    return set_links\n",
    "\n",
    "next_links = get_next_links()\n",
    "next_links = np.array(sorted(next_links))\n",
    "np.save(\"next_links_ricardoeletro\", next_links)"
   ]
  },
  {
   "cell_type": "code",
   "execution_count": null,
   "metadata": {},
   "outputs": [],
   "source": [
    "saved_links = np.load('next_links_ricardoeletro.npy')"
   ]
  }
 ],
 "metadata": {
  "kernelspec": {
   "display_name": "dl",
   "language": "python",
   "name": "dl"
  },
  "language_info": {
   "codemirror_mode": {
    "name": "ipython",
    "version": 3
   },
   "file_extension": ".py",
   "mimetype": "text/x-python",
   "name": "python",
   "nbconvert_exporter": "python",
   "pygments_lexer": "ipython3",
   "version": "3.6.7"
  }
 },
 "nbformat": 4,
 "nbformat_minor": 2
}
