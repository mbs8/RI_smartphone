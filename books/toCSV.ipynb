{
 "cells": [
  {
   "cell_type": "code",
   "execution_count": 152,
   "metadata": {},
   "outputs": [
    {
     "name": "stdout",
     "output_type": "stream",
     "text": [
      "The autoreload extension is already loaded. To reload it, use:\n",
      "  %reload_ext autoreload\n"
     ]
    }
   ],
   "source": [
    "%load_ext autoreload\n",
    "%autoreload 2\n",
    "\n",
    "import requests\n",
    "from bs4 import BeautifulSoup\n",
    "from tqdm import tqdm_notebook as tqdm\n",
    "import time\n",
    "import numpy as np\n",
    "import pandas as pd\n",
    "import nltk   \n",
    "import unicodedata\n",
    "from html.parser import HTMLParser\n",
    "import re\n",
    "from tqdm import tqdm\n",
    "import glob\n",
    "from utils import *\n",
    "import pathlib\n",
    "from sklearn.pipeline import Pipeline\n",
    "from sklearn.naive_bayes import MultinomialNB\n",
    "from sklearn.model_selection import train_test_split\n",
    "from sklearn.feature_extraction.text import CountVectorizer\n",
    "from sklearn.feature_extraction.text import TfidfTransformer\n",
    "import requests\n",
    "\n",
    "store_list    = [\"ricardoeletro\", \"magazineluiza\"]\n",
    "\n",
    "dataset_pages = f\"data/heuristic_pages/*/*\"\n",
    "dataset_links = f\"data/heusristic_links/heusristic_links/*\""
   ]
  },
  {
   "cell_type": "code",
   "execution_count": 4,
   "metadata": {},
   "outputs": [],
   "source": [
    "dataset_data = [(url, pathlib.Path(url).stem.split('_')[0] ) for url in glob.glob(dataset_links) if len(url.split('_'))>3]"
   ]
  },
  {
   "cell_type": "code",
   "execution_count": 5,
   "metadata": {},
   "outputs": [],
   "source": [
    "datasets = []\n",
    "\n",
    "dataset_idx = 0\n",
    "data_raw_s = pd.read_csv(dataset_data[dataset_idx][0])\n",
    "data_raw_s = data_raw_s.dropna().drop_duplicates()\n",
    "data_raw_s['store'] = np.array([dataset_data[dataset_idx][1]] * data_raw_s.shape[0])\n",
    "\n",
    "for dataset_idx in range(1, len(dataset_data)):\n",
    "    data_raw = pd.read_csv(dataset_data[dataset_idx][0])\n",
    "    data_raw = data_raw.dropna().drop_duplicates()\n",
    "    data_raw['store'] = np.array([dataset_data[dataset_idx][1]] * data_raw.shape[0])\n",
    "    data_raw_s = pd.merge(data_raw_s, data_raw, how='outer')\n",
    "    #datasets.append(data_raw)"
   ]
  },
  {
   "cell_type": "code",
   "execution_count": 58,
   "metadata": {},
   "outputs": [],
   "source": [
    "x_pages = [f'data/heuristic_pages/{store}/page_{p_id}.html' for (store, p_id) in zip(data_raw_s['store'], data_raw_s['id'])]\n",
    "y = data_raw_s['label'].values\n",
    "u_class = data_raw_s['store']\n",
    "l = data_raw_s['links'].values"
   ]
  },
  {
   "cell_type": "code",
   "execution_count": 22,
   "metadata": {},
   "outputs": [
    {
     "data": {
      "application/vnd.jupyter.widget-view+json": {
       "model_id": "f6d7489e04b84b7795168f7e61a4e418",
       "version_major": 2,
       "version_minor": 0
      },
      "text/plain": [
       "HBox(children=(IntProgress(value=0, max=2709), HTML(value='')))"
      ]
     },
     "metadata": {},
     "output_type": "display_data"
    },
    {
     "name": "stdout",
     "output_type": "stream",
     "text": [
      "\n",
      "Invalid Links 4\n"
     ]
    }
   ],
   "source": [
    "X, idx_arr = pages_to_matrix(x_pages)\n",
    "y = y[idx_arr]\n",
    "u_class = u_class[idx_arr]\n",
    "l = l[idx_arr]\n",
    "X.shape, y.shape, u_class.shape, l.shape"
   ]
  },
  {
   "cell_type": "code",
   "execution_count": 63,
   "metadata": {},
   "outputs": [],
   "source": [
    "df = pd.DataFrame()\n",
    "df['store'] = u_class\n",
    "df['link'] = l\n",
    "df['text'] = X\n",
    "df['label'] = y\n",
    "df.to_csv(\"text_store_label.csv\", index=False)"
   ]
  },
  {
   "cell_type": "markdown",
   "metadata": {},
   "source": [
    "### Test"
   ]
  },
  {
   "cell_type": "code",
   "execution_count": 136,
   "metadata": {},
   "outputs": [],
   "source": [
    "from sklearn.neighbors import KNeighborsClassifier\n",
    "from sklearn.svm import SVC\n",
    "from sklearn.gaussian_process.kernels import RBF\n",
    "from sklearn.ensemble import RandomForestClassifier, AdaBoostClassifier, GradientBoostingClassifier\n",
    "from sklearn.naive_bayes import GaussianNB\n",
    "from sklearn.naive_bayes import MultinomialNB\n",
    "from sklearn.preprocessing import MinMaxScaler"
   ]
  },
  {
   "cell_type": "code",
   "execution_count": 113,
   "metadata": {},
   "outputs": [],
   "source": [
    "clss = [GaussianNB(), MultinomialNB(), KNeighborsClassifier(), SVC(gamma='auto'), \n",
    "        RandomForestClassifier(n_estimators=200), GradientBoostingClassifier(n_estimators=200)]"
   ]
  },
  {
   "cell_type": "markdown",
   "metadata": {},
   "source": [
    "# T"
   ]
  },
  {
   "cell_type": "code",
   "execution_count": 114,
   "metadata": {},
   "outputs": [],
   "source": [
    "X_train, X_test, y_train, y_test = train_test_split(\n",
    "    X, y, test_size=0.2, random_state=42)\n"
   ]
  },
  {
   "cell_type": "code",
   "execution_count": 142,
   "metadata": {},
   "outputs": [
    {
     "name": "stdout",
     "output_type": "stream",
     "text": [
      "GaussianNB 0.767097966728281\n",
      "MultinomialNB 0.9537892791127541\n",
      "KNeighborsClassifier 0.9759704251386322\n",
      "SVC 0.9593345656192237\n",
      "RandomForestClassifier 0.9796672828096118\n",
      "GradientBoostingClassifier 0.9796672828096118\n"
     ]
    }
   ],
   "source": [
    "CV = CountVectorizer()\n",
    "    \n",
    "for cls in clss:\n",
    "\n",
    "    text_clf = Pipeline([\n",
    "        ('vect', CountVectorizer()),\n",
    "        #('tfidf', TfidfTransformer()),\n",
    "        ('tranf', DenseTransformer()),\n",
    "        ('clf', cls),\n",
    "    ])\n",
    "     \n",
    "    text_clf.fit(X_train, y_train)  \n",
    "    predicted = text_clf.predict(X_test)\n",
    "        \n",
    "    print(cls.__class__.__name__, np.mean(predicted == y_test))"
   ]
  },
  {
   "cell_type": "code",
   "execution_count": 143,
   "metadata": {},
   "outputs": [],
   "source": [
    "class DenseTransformer(MinMaxScaler):\n",
    "\n",
    "    def fit(self, X, y=None, **fit_params):\n",
    "        return self\n",
    "\n",
    "    def transform(self, X, y=None, **fit_params):\n",
    "        return X.todense()"
   ]
  },
  {
   "cell_type": "code",
   "execution_count": 144,
   "metadata": {},
   "outputs": [
    {
     "name": "stdout",
     "output_type": "stream",
     "text": [
      "GaussianNB 0.7689463955637708\n",
      "MultinomialNB 0.9630314232902033\n",
      "KNeighborsClassifier 0.9685767097966729\n",
      "SVC 0.7652495378927912\n",
      "RandomForestClassifier 0.9815157116451017\n",
      "GradientBoostingClassifier 0.9796672828096118\n"
     ]
    }
   ],
   "source": [
    "CV = CountVectorizer()\n",
    "    \n",
    "for cls in clss:\n",
    "    text_clf = Pipeline([\n",
    "        ('vect', CountVectorizer()),\n",
    "        ('tfidf', TfidfTransformer()),\n",
    "        ('tranf', DenseTransformer()),\n",
    "        ('clf', cls),\n",
    "    ])\n",
    "    \n",
    "    \n",
    "    text_clf.fit(X_train, y_train)  \n",
    "    predicted = text_clf.predict(X_test)\n",
    "        \n",
    "    print(cls.__class__.__name__, np.mean(predicted == y_test))"
   ]
  },
  {
   "cell_type": "markdown",
   "metadata": {},
   "source": [
    "# Leave One Out"
   ]
  },
  {
   "cell_type": "code",
   "execution_count": 147,
   "metadata": {},
   "outputs": [],
   "source": [
    "from sklearn.model_selection import LeaveOneGroupOut"
   ]
  },
  {
   "cell_type": "code",
   "execution_count": 162,
   "metadata": {},
   "outputs": [
    {
     "data": {
      "application/vnd.jupyter.widget-view+json": {
       "model_id": "74f36cbe6a82418fbb6c3f22f360599c",
       "version_major": 2,
       "version_minor": 0
      },
      "text/plain": [
       "HBox(children=(IntProgress(value=1, bar_style='info', max=1), HTML(value='')))"
      ]
     },
     "metadata": {},
     "output_type": "display_data"
    },
    {
     "name": "stdout",
     "output_type": "stream",
     "text": [
      "\n"
     ]
    },
    {
     "data": {
      "text/html": [
       "<div>\n",
       "<style scoped>\n",
       "    .dataframe tbody tr th:only-of-type {\n",
       "        vertical-align: middle;\n",
       "    }\n",
       "\n",
       "    .dataframe tbody tr th {\n",
       "        vertical-align: top;\n",
       "    }\n",
       "\n",
       "    .dataframe thead th {\n",
       "        text-align: right;\n",
       "    }\n",
       "</style>\n",
       "<table border=\"1\" class=\"dataframe\">\n",
       "  <thead>\n",
       "    <tr style=\"text-align: right;\">\n",
       "      <th></th>\n",
       "      <th>GaussianNB</th>\n",
       "      <th>MultinomialNB</th>\n",
       "      <th>KNeighborsClassifier</th>\n",
       "      <th>SVC</th>\n",
       "      <th>RandomForestClassifier</th>\n",
       "      <th>GradientBoostingClassifier</th>\n",
       "    </tr>\n",
       "  </thead>\n",
       "  <tbody>\n",
       "    <tr>\n",
       "      <th>count</th>\n",
       "      <td>9.000000</td>\n",
       "      <td>9.000000</td>\n",
       "      <td>9.000000</td>\n",
       "      <td>9.000000</td>\n",
       "      <td>9.000000</td>\n",
       "      <td>9.000000</td>\n",
       "    </tr>\n",
       "    <tr>\n",
       "      <th>mean</th>\n",
       "      <td>0.635668</td>\n",
       "      <td>0.823733</td>\n",
       "      <td>0.761272</td>\n",
       "      <td>0.748537</td>\n",
       "      <td>0.836681</td>\n",
       "      <td>0.827880</td>\n",
       "    </tr>\n",
       "    <tr>\n",
       "      <th>std</th>\n",
       "      <td>0.286603</td>\n",
       "      <td>0.176425</td>\n",
       "      <td>0.132788</td>\n",
       "      <td>0.145035</td>\n",
       "      <td>0.190434</td>\n",
       "      <td>0.241726</td>\n",
       "    </tr>\n",
       "    <tr>\n",
       "      <th>min</th>\n",
       "      <td>0.100503</td>\n",
       "      <td>0.425366</td>\n",
       "      <td>0.561111</td>\n",
       "      <td>0.516667</td>\n",
       "      <td>0.420488</td>\n",
       "      <td>0.425366</td>\n",
       "    </tr>\n",
       "    <tr>\n",
       "      <th>25%</th>\n",
       "      <td>0.464789</td>\n",
       "      <td>0.727520</td>\n",
       "      <td>0.640187</td>\n",
       "      <td>0.636098</td>\n",
       "      <td>0.723077</td>\n",
       "      <td>0.718310</td>\n",
       "    </tr>\n",
       "    <tr>\n",
       "      <th>50%</th>\n",
       "      <td>0.727520</td>\n",
       "      <td>0.902821</td>\n",
       "      <td>0.753846</td>\n",
       "      <td>0.723077</td>\n",
       "      <td>0.910082</td>\n",
       "      <td>0.953271</td>\n",
       "    </tr>\n",
       "    <tr>\n",
       "      <th>75%</th>\n",
       "      <td>0.821317</td>\n",
       "      <td>0.929907</td>\n",
       "      <td>0.874659</td>\n",
       "      <td>0.866485</td>\n",
       "      <td>0.993730</td>\n",
       "      <td>0.994444</td>\n",
       "    </tr>\n",
       "    <tr>\n",
       "      <th>max</th>\n",
       "      <td>0.933333</td>\n",
       "      <td>0.969231</td>\n",
       "      <td>0.931034</td>\n",
       "      <td>0.924765</td>\n",
       "      <td>0.996226</td>\n",
       "      <td>1.000000</td>\n",
       "    </tr>\n",
       "  </tbody>\n",
       "</table>\n",
       "</div>"
      ],
      "text/plain": [
       "       GaussianNB  MultinomialNB  KNeighborsClassifier       SVC  \\\n",
       "count    9.000000       9.000000              9.000000  9.000000   \n",
       "mean     0.635668       0.823733              0.761272  0.748537   \n",
       "std      0.286603       0.176425              0.132788  0.145035   \n",
       "min      0.100503       0.425366              0.561111  0.516667   \n",
       "25%      0.464789       0.727520              0.640187  0.636098   \n",
       "50%      0.727520       0.902821              0.753846  0.723077   \n",
       "75%      0.821317       0.929907              0.874659  0.866485   \n",
       "max      0.933333       0.969231              0.931034  0.924765   \n",
       "\n",
       "       RandomForestClassifier  GradientBoostingClassifier  \n",
       "count                9.000000                    9.000000  \n",
       "mean                 0.836681                    0.827880  \n",
       "std                  0.190434                    0.241726  \n",
       "min                  0.420488                    0.425366  \n",
       "25%                  0.723077                    0.718310  \n",
       "50%                  0.910082                    0.953271  \n",
       "75%                  0.993730                    0.994444  \n",
       "max                  0.996226                    1.000000  "
      ]
     },
     "execution_count": 162,
     "metadata": {},
     "output_type": "execute_result"
    }
   ],
   "source": [
    "acc_results = []\n",
    "header = [cls.__class__.__name__ for cls in clss]\n",
    "for train_index, test_index in tqdm(logo.split(X, y, u_class)):\n",
    "\n",
    "    X_train, X_test = X[train_index], X[test_index]\n",
    "    y_train, y_test = y[train_index], y[test_index]\n",
    "    \n",
    "    stores_results = []\n",
    "    \n",
    "    for cls in clss:\n",
    "        text_clf = Pipeline([\n",
    "            ('vect', CountVectorizer()),\n",
    "            ('tfidf', TfidfTransformer()),\n",
    "            ('tranf', DenseTransformer()),\n",
    "            ('clf', cls),\n",
    "        ])\n",
    "\n",
    "\n",
    "        text_clf.fit(X_train, y_train)  \n",
    "        predicted = text_clf.predict(X_test)\n",
    "        acc = np.mean(predicted == y_test)\n",
    "        stores_results.append(acc)\n",
    "    acc_results.append(stores_results)\n",
    "acc_results = pd.DataFrame(acc_results, columns=header)\n",
    "acc_results.describe()"
   ]
  },
  {
   "cell_type": "code",
   "execution_count": 164,
   "metadata": {},
   "outputs": [
    {
     "data": {
      "application/vnd.jupyter.widget-view+json": {
       "model_id": "48ea0f3326ac4e048b67454c13d2dbfd",
       "version_major": 2,
       "version_minor": 0
      },
      "text/plain": [
       "HBox(children=(IntProgress(value=1, bar_style='info', max=1), HTML(value='')))"
      ]
     },
     "metadata": {},
     "output_type": "display_data"
    },
    {
     "name": "stdout",
     "output_type": "stream",
     "text": [
      "\n"
     ]
    },
    {
     "data": {
      "text/html": [
       "<div>\n",
       "<style scoped>\n",
       "    .dataframe tbody tr th:only-of-type {\n",
       "        vertical-align: middle;\n",
       "    }\n",
       "\n",
       "    .dataframe tbody tr th {\n",
       "        vertical-align: top;\n",
       "    }\n",
       "\n",
       "    .dataframe thead th {\n",
       "        text-align: right;\n",
       "    }\n",
       "</style>\n",
       "<table border=\"1\" class=\"dataframe\">\n",
       "  <thead>\n",
       "    <tr style=\"text-align: right;\">\n",
       "      <th></th>\n",
       "      <th>GaussianNB</th>\n",
       "      <th>MultinomialNB</th>\n",
       "      <th>KNeighborsClassifier</th>\n",
       "      <th>SVC</th>\n",
       "      <th>RandomForestClassifier</th>\n",
       "      <th>GradientBoostingClassifier</th>\n",
       "    </tr>\n",
       "  </thead>\n",
       "  <tbody>\n",
       "    <tr>\n",
       "      <th>count</th>\n",
       "      <td>9.000000</td>\n",
       "      <td>9.000000</td>\n",
       "      <td>9.000000</td>\n",
       "      <td>9.000000</td>\n",
       "      <td>9.000000</td>\n",
       "      <td>9.000000</td>\n",
       "    </tr>\n",
       "    <tr>\n",
       "      <th>mean</th>\n",
       "      <td>0.598109</td>\n",
       "      <td>0.822047</td>\n",
       "      <td>0.774460</td>\n",
       "      <td>0.786776</td>\n",
       "      <td>0.866772</td>\n",
       "      <td>0.869259</td>\n",
       "    </tr>\n",
       "    <tr>\n",
       "      <th>std</th>\n",
       "      <td>0.290799</td>\n",
       "      <td>0.195329</td>\n",
       "      <td>0.188376</td>\n",
       "      <td>0.185893</td>\n",
       "      <td>0.202482</td>\n",
       "      <td>0.206566</td>\n",
       "    </tr>\n",
       "    <tr>\n",
       "      <th>min</th>\n",
       "      <td>0.110553</td>\n",
       "      <td>0.425366</td>\n",
       "      <td>0.421463</td>\n",
       "      <td>0.419512</td>\n",
       "      <td>0.425366</td>\n",
       "      <td>0.425366</td>\n",
       "    </tr>\n",
       "    <tr>\n",
       "      <th>25%</th>\n",
       "      <td>0.415888</td>\n",
       "      <td>0.690141</td>\n",
       "      <td>0.723077</td>\n",
       "      <td>0.718310</td>\n",
       "      <td>0.723077</td>\n",
       "      <td>0.718310</td>\n",
       "    </tr>\n",
       "    <tr>\n",
       "      <th>50%</th>\n",
       "      <td>0.586341</td>\n",
       "      <td>0.924528</td>\n",
       "      <td>0.847411</td>\n",
       "      <td>0.803738</td>\n",
       "      <td>0.976636</td>\n",
       "      <td>0.994444</td>\n",
       "    </tr>\n",
       "    <tr>\n",
       "      <th>75%</th>\n",
       "      <td>0.803774</td>\n",
       "      <td>0.969231</td>\n",
       "      <td>0.859296</td>\n",
       "      <td>0.949749</td>\n",
       "      <td>0.996226</td>\n",
       "      <td>0.996226</td>\n",
       "    </tr>\n",
       "    <tr>\n",
       "      <th>max</th>\n",
       "      <td>0.977778</td>\n",
       "      <td>1.000000</td>\n",
       "      <td>1.000000</td>\n",
       "      <td>0.996226</td>\n",
       "      <td>1.000000</td>\n",
       "      <td>1.000000</td>\n",
       "    </tr>\n",
       "  </tbody>\n",
       "</table>\n",
       "</div>"
      ],
      "text/plain": [
       "       GaussianNB  MultinomialNB  KNeighborsClassifier       SVC  \\\n",
       "count    9.000000       9.000000              9.000000  9.000000   \n",
       "mean     0.598109       0.822047              0.774460  0.786776   \n",
       "std      0.290799       0.195329              0.188376  0.185893   \n",
       "min      0.110553       0.425366              0.421463  0.419512   \n",
       "25%      0.415888       0.690141              0.723077  0.718310   \n",
       "50%      0.586341       0.924528              0.847411  0.803738   \n",
       "75%      0.803774       0.969231              0.859296  0.949749   \n",
       "max      0.977778       1.000000              1.000000  0.996226   \n",
       "\n",
       "       RandomForestClassifier  GradientBoostingClassifier  \n",
       "count                9.000000                    9.000000  \n",
       "mean                 0.866772                    0.869259  \n",
       "std                  0.202482                    0.206566  \n",
       "min                  0.425366                    0.425366  \n",
       "25%                  0.723077                    0.718310  \n",
       "50%                  0.976636                    0.994444  \n",
       "75%                  0.996226                    0.996226  \n",
       "max                  1.000000                    1.000000  "
      ]
     },
     "execution_count": 164,
     "metadata": {},
     "output_type": "execute_result"
    }
   ],
   "source": [
    "acc_results = []\n",
    "header = [cls.__class__.__name__ for cls in clss]\n",
    "for train_index, test_index in tqdm(logo.split(X, y, u_class)):\n",
    "\n",
    "    X_train, X_test = X[train_index], X[test_index]\n",
    "    y_train, y_test = y[train_index], y[test_index]\n",
    "    \n",
    "    stores_results = []\n",
    "    \n",
    "    for cls in clss:\n",
    "        text_clf = Pipeline([\n",
    "            ('vect', CountVectorizer()),\n",
    "            #('tfidf', TfidfTransformer()),\n",
    "            ('tranf', DenseTransformer()),\n",
    "            ('clf', cls),\n",
    "        ])\n",
    "\n",
    "\n",
    "        text_clf.fit(X_train, y_train)  \n",
    "        predicted = text_clf.predict(X_test)\n",
    "        acc = np.mean(predicted == y_test)\n",
    "        stores_results.append(acc)\n",
    "    acc_results.append(stores_results)\n",
    "acc_results = pd.DataFrame(acc_results, columns=header)\n",
    "acc_results.describe()"
   ]
  }
 ],
 "metadata": {
  "kernelspec": {
   "display_name": "dl",
   "language": "python",
   "name": "dl"
  },
  "language_info": {
   "codemirror_mode": {
    "name": "ipython",
    "version": 3
   },
   "file_extension": ".py",
   "mimetype": "text/x-python",
   "name": "python",
   "nbconvert_exporter": "python",
   "pygments_lexer": "ipython3",
   "version": "3.6.7"
  }
 },
 "nbformat": 4,
 "nbformat_minor": 2
}
