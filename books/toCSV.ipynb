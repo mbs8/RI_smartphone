{
 "cells": [
  {
   "cell_type": "code",
   "execution_count": 22,
   "metadata": {},
   "outputs": [
    {
     "name": "stdout",
     "output_type": "stream",
     "text": [
      "The autoreload extension is already loaded. To reload it, use:\n",
      "  %reload_ext autoreload\n"
     ]
    }
   ],
   "source": [
    "%load_ext autoreload\n",
    "%autoreload 2\n",
    "\n",
    "import requests\n",
    "from bs4 import BeautifulSoup\n",
    "from tqdm import tqdm_notebook as tqdm\n",
    "import time\n",
    "import numpy as np\n",
    "import pandas as pd\n",
    "import nltk   \n",
    "import unicodedata\n",
    "from html.parser import HTMLParser\n",
    "import re\n",
    "from tqdm import tqdm\n",
    "import glob\n",
    "from utils import *\n",
    "import pathlib\n",
    "from sklearn.pipeline import Pipeline\n",
    "from sklearn.naive_bayes import MultinomialNB\n",
    "from sklearn.model_selection import train_test_split\n",
    "from sklearn.feature_extraction.text import CountVectorizer\n",
    "from sklearn.feature_extraction.text import TfidfTransformer\n",
    "import requests\n",
    "\n",
    "store_list    = [\"ricardoeletro\", \"magazineluiza\"]\n",
    "\n",
    "dataset_pages = f\"data/heuristic_pages/*/*\"\n",
    "dataset_links = f\"data/heusristic_links/heusristic_links/*\""
   ]
  },
  {
   "cell_type": "code",
   "execution_count": 5,
   "metadata": {},
   "outputs": [],
   "source": [
    "dataset_data = [(url, pathlib.Path(url).stem.split('_')[0] ) for url in glob.glob(dataset_links) if len(url.split('_'))>3]"
   ]
  },
  {
   "cell_type": "code",
   "execution_count": null,
   "metadata": {},
   "outputs": [],
   "source": [
    "datasets = []\n",
    "\n",
    "dataset_idx = 0\n",
    "data_raw_s = pd.read_csv(dataset_data[dataset_idx][0])\n",
    "data_raw_s = data_raw_s.dropna().drop_duplicates()\n",
    "data_raw_s['store'] = np.array([dataset_data[dataset_idx][1]] * data_raw_s.shape[0])\n",
    "\n",
    "for dataset_idx in range(1, len(dataset_data)):\n",
    "    data_raw = pd.read_csv(dataset_data[dataset_idx][0])\n",
    "    data_raw = data_raw.dropna().drop_duplicates()\n",
    "    data_raw['store'] = np.array([dataset_data[dataset_idx][1]] * data_raw.shape[0])\n",
    "    data_raw_s = pd.merge(data_raw_s, data_raw, how='outer')\n",
    "    #datasets.append(data_raw)"
   ]
  },
  {
   "cell_type": "code",
   "execution_count": 58,
   "metadata": {},
   "outputs": [],
   "source": [
    "x_pages = [f'data/heuristic_pages/{store}/page_{p_id}.html' for (store, p_id) in zip(data_raw_s['store'], data_raw_s['id'])]\n",
    "y = data_raw_s['label'].values\n",
    "u_class = data_raw_s['store']\n",
    "l = data_raw_s['links'].values"
   ]
  },
  {
   "cell_type": "code",
   "execution_count": 22,
   "metadata": {},
   "outputs": [
    {
     "data": {
      "application/vnd.jupyter.widget-view+json": {
       "model_id": "f6d7489e04b84b7795168f7e61a4e418",
       "version_major": 2,
       "version_minor": 0
      },
      "text/plain": [
       "HBox(children=(IntProgress(value=0, max=2709), HTML(value='')))"
      ]
     },
     "metadata": {},
     "output_type": "display_data"
    },
    {
     "name": "stdout",
     "output_type": "stream",
     "text": [
      "\n",
      "Invalid Links 4\n"
     ]
    }
   ],
   "source": [
    "X, idx_arr = pages_to_matrix(x_pages)\n",
    "y = y[idx_arr]\n",
    "u_class = u_class[idx_arr]\n",
    "l = l[idx_arr]\n",
    "X.shape, y.shape, u_class.shape, l.shape"
   ]
  },
  {
   "cell_type": "code",
   "execution_count": 63,
   "metadata": {},
   "outputs": [],
   "source": [
    "df = pd.DataFrame()\n",
    "df['store'] = u_class\n",
    "df['link'] = l\n",
    "df['text'] = X\n",
    "df['label'] = y\n",
    "df.to_csv(\"text_store_label.csv\", index=False)"
   ]
  },
  {
   "cell_type": "markdown",
   "metadata": {},
   "source": [
    "### Test"
   ]
  },
  {
   "cell_type": "code",
   "execution_count": 17,
   "metadata": {},
   "outputs": [],
   "source": [
    "from sklearn.neighbors import KNeighborsClassifier\n",
    "from sklearn.svm import SVC\n",
    "from sklearn.gaussian_process.kernels import RBF\n",
    "from sklearn.ensemble import RandomForestClassifier, AdaBoostClassifier, GradientBoostingClassifier\n",
    "from sklearn.naive_bayes import GaussianNB\n",
    "from sklearn.naive_bayes import MultinomialNB\n",
    "from sklearn.preprocessing import MinMaxScaler"
   ]
  },
  {
   "cell_type": "code",
   "execution_count": 54,
   "metadata": {},
   "outputs": [],
   "source": [
    "df = pd.read_csv('text_store_label.csv')\n",
    "df = df.fillna(\" \")\n",
    "u_class = df['store'].values\n",
    "l  = df['link'].values\n",
    "X  = df['text'].values\n",
    "y  = df['label'].values\n",
    "\n",
    "pass"
   ]
  },
  {
   "cell_type": "code",
   "execution_count": 55,
   "metadata": {},
   "outputs": [],
   "source": [
    "clss = [GaussianNB(), MultinomialNB(), KNeighborsClassifier(), SVC(gamma='auto'), \n",
    "        RandomForestClassifier(n_estimators=200), GradientBoostingClassifier(n_estimators=200)]"
   ]
  },
  {
   "cell_type": "markdown",
   "metadata": {},
   "source": [
    "# T"
   ]
  },
  {
   "cell_type": "code",
   "execution_count": 56,
   "metadata": {},
   "outputs": [],
   "source": [
    "X_train, X_test, y_train, y_test = train_test_split(\n",
    "    X, y, test_size=0.2, random_state=42)\n"
   ]
  },
  {
   "cell_type": "code",
   "execution_count": 58,
   "metadata": {},
   "outputs": [
    {
     "name": "stdout",
     "output_type": "stream",
     "text": [
      "GaussianNB 0.950381679389313\n",
      "MultinomialNB 0.9580152671755725\n",
      "KNeighborsClassifier 0.9847328244274809\n",
      "SVC 0.9713740458015268\n",
      "RandomForestClassifier 0.9904580152671756\n",
      "GradientBoostingClassifier 0.9904580152671756\n"
     ]
    }
   ],
   "source": [
    "CV = CountVectorizer()\n",
    "    \n",
    "for cls in clss:\n",
    "\n",
    "    text_clf = Pipeline([\n",
    "        ('vect', CountVectorizer()),\n",
    "        #('tfidf', TfidfTransformer()),\n",
    "        ('tranf', DenseTransformer()),\n",
    "        ('clf', cls),\n",
    "    ])\n",
    "     \n",
    "    text_clf.fit(X_train, y_train)  \n",
    "    predicted = text_clf.predict(X_test)\n",
    "        \n",
    "    print(cls.__class__.__name__, np.mean(predicted == y_test))"
   ]
  },
  {
   "cell_type": "code",
   "execution_count": 59,
   "metadata": {},
   "outputs": [
    {
     "name": "stdout",
     "output_type": "stream",
     "text": [
      "GaussianNB 0.9751908396946565\n",
      "MultinomialNB 0.9732824427480916\n",
      "KNeighborsClassifier 0.982824427480916\n",
      "SVC 0.8187022900763359\n",
      "RandomForestClassifier 0.9885496183206107\n",
      "GradientBoostingClassifier 0.9904580152671756\n"
     ]
    }
   ],
   "source": [
    "CV = CountVectorizer()\n",
    "    \n",
    "for cls in clss:\n",
    "    text_clf = Pipeline([\n",
    "        ('vect', CountVectorizer()),\n",
    "        ('tfidf', TfidfTransformer()),\n",
    "        ('tranf', DenseTransformer()),\n",
    "        ('clf', cls),\n",
    "    ])\n",
    "    \n",
    "    \n",
    "    text_clf.fit(X_train, y_train)  \n",
    "    predicted = text_clf.predict(X_test)\n",
    "        \n",
    "    print(cls.__class__.__name__, np.mean(predicted == y_test))"
   ]
  },
  {
   "cell_type": "markdown",
   "metadata": {},
   "source": [
    "# Leave One Out"
   ]
  },
  {
   "cell_type": "code",
   "execution_count": 62,
   "metadata": {},
   "outputs": [],
   "source": [
    "from sklearn.model_selection import LeaveOneGroupOut\n",
    "logo = LeaveOneGroupOut()"
   ]
  },
  {
   "cell_type": "code",
   "execution_count": 63,
   "metadata": {},
   "outputs": [
    {
     "data": {
      "application/vnd.jupyter.widget-view+json": {
       "model_id": "63663fb149d6457a9ca6ed1b41c0cba0",
       "version_major": 2,
       "version_minor": 0
      },
      "text/plain": [
       "HBox(children=(IntProgress(value=1, bar_style='info', max=1), HTML(value='')))"
      ]
     },
     "metadata": {},
     "output_type": "display_data"
    },
    {
     "name": "stdout",
     "output_type": "stream",
     "text": [
      "\n"
     ]
    },
    {
     "data": {
      "text/html": [
       "<div>\n",
       "<style scoped>\n",
       "    .dataframe tbody tr th:only-of-type {\n",
       "        vertical-align: middle;\n",
       "    }\n",
       "\n",
       "    .dataframe tbody tr th {\n",
       "        vertical-align: top;\n",
       "    }\n",
       "\n",
       "    .dataframe thead th {\n",
       "        text-align: right;\n",
       "    }\n",
       "</style>\n",
       "<table border=\"1\" class=\"dataframe\">\n",
       "  <thead>\n",
       "    <tr style=\"text-align: right;\">\n",
       "      <th></th>\n",
       "      <th>GaussianNB</th>\n",
       "      <th>MultinomialNB</th>\n",
       "      <th>KNeighborsClassifier</th>\n",
       "      <th>SVC</th>\n",
       "      <th>RandomForestClassifier</th>\n",
       "      <th>GradientBoostingClassifier</th>\n",
       "    </tr>\n",
       "  </thead>\n",
       "  <tbody>\n",
       "    <tr>\n",
       "      <th>count</th>\n",
       "      <td>10.000000</td>\n",
       "      <td>10.000000</td>\n",
       "      <td>10.000000</td>\n",
       "      <td>10.000000</td>\n",
       "      <td>10.000000</td>\n",
       "      <td>10.000000</td>\n",
       "    </tr>\n",
       "    <tr>\n",
       "      <th>mean</th>\n",
       "      <td>0.747006</td>\n",
       "      <td>0.879460</td>\n",
       "      <td>0.750223</td>\n",
       "      <td>0.750118</td>\n",
       "      <td>0.871736</td>\n",
       "      <td>0.914445</td>\n",
       "    </tr>\n",
       "    <tr>\n",
       "      <th>std</th>\n",
       "      <td>0.221189</td>\n",
       "      <td>0.142182</td>\n",
       "      <td>0.116524</td>\n",
       "      <td>0.149049</td>\n",
       "      <td>0.154113</td>\n",
       "      <td>0.154761</td>\n",
       "    </tr>\n",
       "    <tr>\n",
       "      <th>min</th>\n",
       "      <td>0.353846</td>\n",
       "      <td>0.547554</td>\n",
       "      <td>0.550000</td>\n",
       "      <td>0.516667</td>\n",
       "      <td>0.547554</td>\n",
       "      <td>0.547554</td>\n",
       "    </tr>\n",
       "    <tr>\n",
       "      <th>25%</th>\n",
       "      <td>0.591898</td>\n",
       "      <td>0.859021</td>\n",
       "      <td>0.684528</td>\n",
       "      <td>0.631680</td>\n",
       "      <td>0.775184</td>\n",
       "      <td>0.947577</td>\n",
       "    </tr>\n",
       "    <tr>\n",
       "      <th>50%</th>\n",
       "      <td>0.816533</td>\n",
       "      <td>0.939256</td>\n",
       "      <td>0.758200</td>\n",
       "      <td>0.781136</td>\n",
       "      <td>0.945109</td>\n",
       "      <td>0.989600</td>\n",
       "    </tr>\n",
       "    <tr>\n",
       "      <th>75%</th>\n",
       "      <td>0.916903</td>\n",
       "      <td>0.966813</td>\n",
       "      <td>0.827767</td>\n",
       "      <td>0.860122</td>\n",
       "      <td>0.989439</td>\n",
       "      <td>0.995106</td>\n",
       "    </tr>\n",
       "    <tr>\n",
       "      <th>max</th>\n",
       "      <td>0.990654</td>\n",
       "      <td>0.990654</td>\n",
       "      <td>0.924765</td>\n",
       "      <td>0.924765</td>\n",
       "      <td>0.996226</td>\n",
       "      <td>1.000000</td>\n",
       "    </tr>\n",
       "  </tbody>\n",
       "</table>\n",
       "</div>"
      ],
      "text/plain": [
       "       GaussianNB  MultinomialNB  KNeighborsClassifier        SVC  \\\n",
       "count   10.000000      10.000000             10.000000  10.000000   \n",
       "mean     0.747006       0.879460              0.750223   0.750118   \n",
       "std      0.221189       0.142182              0.116524   0.149049   \n",
       "min      0.353846       0.547554              0.550000   0.516667   \n",
       "25%      0.591898       0.859021              0.684528   0.631680   \n",
       "50%      0.816533       0.939256              0.758200   0.781136   \n",
       "75%      0.916903       0.966813              0.827767   0.860122   \n",
       "max      0.990654       0.990654              0.924765   0.924765   \n",
       "\n",
       "       RandomForestClassifier  GradientBoostingClassifier  \n",
       "count               10.000000                   10.000000  \n",
       "mean                 0.871736                    0.914445  \n",
       "std                  0.154113                    0.154761  \n",
       "min                  0.547554                    0.547554  \n",
       "25%                  0.775184                    0.947577  \n",
       "50%                  0.945109                    0.989600  \n",
       "75%                  0.989439                    0.995106  \n",
       "max                  0.996226                    1.000000  "
      ]
     },
     "execution_count": 63,
     "metadata": {},
     "output_type": "execute_result"
    }
   ],
   "source": [
    "acc_results = []\n",
    "header = [cls.__class__.__name__ for cls in clss]\n",
    "for train_index, test_index in tqdm(logo.split(X, y, u_class)):\n",
    "\n",
    "    X_train, X_test = X[train_index], X[test_index]\n",
    "    y_train, y_test = y[train_index], y[test_index]\n",
    "    \n",
    "    stores_results = []\n",
    "    \n",
    "    for cls in clss:\n",
    "        text_clf = Pipeline([\n",
    "            ('vect', CountVectorizer()),\n",
    "            ('tfidf', TfidfTransformer()),\n",
    "            ('tranf', DenseTransformer()),\n",
    "            ('clf', cls),\n",
    "        ])\n",
    "\n",
    "\n",
    "        text_clf.fit(X_train, y_train)  \n",
    "        predicted = text_clf.predict(X_test)\n",
    "        acc = np.mean(predicted == y_test)\n",
    "        stores_results.append(acc)\n",
    "    acc_results.append(stores_results)\n",
    "acc_results = pd.DataFrame(acc_results, columns=header)\n",
    "acc_results.describe()"
   ]
  },
  {
   "cell_type": "code",
   "execution_count": 65,
   "metadata": {},
   "outputs": [
    {
     "data": {
      "application/vnd.jupyter.widget-view+json": {
       "model_id": "7c729f15620744708b098e6d6d87cd08",
       "version_major": 2,
       "version_minor": 0
      },
      "text/plain": [
       "HBox(children=(IntProgress(value=1, bar_style='info', max=1), HTML(value='')))"
      ]
     },
     "metadata": {},
     "output_type": "display_data"
    },
    {
     "data": {
      "text/html": [
       "<div>\n",
       "<style scoped>\n",
       "    .dataframe tbody tr th:only-of-type {\n",
       "        vertical-align: middle;\n",
       "    }\n",
       "\n",
       "    .dataframe tbody tr th {\n",
       "        vertical-align: top;\n",
       "    }\n",
       "\n",
       "    .dataframe thead th {\n",
       "        text-align: right;\n",
       "    }\n",
       "</style>\n",
       "<table border=\"1\" class=\"dataframe\">\n",
       "  <thead>\n",
       "    <tr style=\"text-align: right;\">\n",
       "      <th></th>\n",
       "      <th>GaussianNB</th>\n",
       "      <th>MultinomialNB</th>\n",
       "      <th>KNeighborsClassifier</th>\n",
       "      <th>SVC</th>\n",
       "      <th>RandomForestClassifier</th>\n",
       "      <th>GradientBoostingClassifier</th>\n",
       "    </tr>\n",
       "  </thead>\n",
       "  <tbody>\n",
       "    <tr>\n",
       "      <th>count</th>\n",
       "      <td>10.000000</td>\n",
       "      <td>10.000000</td>\n",
       "      <td>10.000000</td>\n",
       "      <td>10.000000</td>\n",
       "      <td>10.000000</td>\n",
       "      <td>10.000000</td>\n",
       "    </tr>\n",
       "    <tr>\n",
       "      <th>mean</th>\n",
       "      <td>0.761671</td>\n",
       "      <td>0.877777</td>\n",
       "      <td>0.790874</td>\n",
       "      <td>0.804606</td>\n",
       "      <td>0.889923</td>\n",
       "      <td>0.915698</td>\n",
       "    </tr>\n",
       "    <tr>\n",
       "      <th>std</th>\n",
       "      <td>0.244803</td>\n",
       "      <td>0.145558</td>\n",
       "      <td>0.152899</td>\n",
       "      <td>0.174059</td>\n",
       "      <td>0.164545</td>\n",
       "      <td>0.155355</td>\n",
       "    </tr>\n",
       "    <tr>\n",
       "      <th>min</th>\n",
       "      <td>0.323077</td>\n",
       "      <td>0.547554</td>\n",
       "      <td>0.542120</td>\n",
       "      <td>0.512228</td>\n",
       "      <td>0.547554</td>\n",
       "      <td>0.547554</td>\n",
       "    </tr>\n",
       "    <tr>\n",
       "      <th>25%</th>\n",
       "      <td>0.595227</td>\n",
       "      <td>0.885123</td>\n",
       "      <td>0.725406</td>\n",
       "      <td>0.719502</td>\n",
       "      <td>0.776640</td>\n",
       "      <td>0.950711</td>\n",
       "    </tr>\n",
       "    <tr>\n",
       "      <th>50%</th>\n",
       "      <td>0.838847</td>\n",
       "      <td>0.922230</td>\n",
       "      <td>0.808087</td>\n",
       "      <td>0.881512</td>\n",
       "      <td>0.992272</td>\n",
       "      <td>0.989600</td>\n",
       "    </tr>\n",
       "    <tr>\n",
       "      <th>75%</th>\n",
       "      <td>0.959287</td>\n",
       "      <td>0.953008</td>\n",
       "      <td>0.880353</td>\n",
       "      <td>0.934316</td>\n",
       "      <td>0.996002</td>\n",
       "      <td>0.995106</td>\n",
       "    </tr>\n",
       "    <tr>\n",
       "      <th>max</th>\n",
       "      <td>0.995327</td>\n",
       "      <td>1.000000</td>\n",
       "      <td>1.000000</td>\n",
       "      <td>0.996226</td>\n",
       "      <td>1.000000</td>\n",
       "      <td>1.000000</td>\n",
       "    </tr>\n",
       "  </tbody>\n",
       "</table>\n",
       "</div>"
      ],
      "text/plain": [
       "       GaussianNB  MultinomialNB  KNeighborsClassifier        SVC  \\\n",
       "count   10.000000      10.000000             10.000000  10.000000   \n",
       "mean     0.761671       0.877777              0.790874   0.804606   \n",
       "std      0.244803       0.145558              0.152899   0.174059   \n",
       "min      0.323077       0.547554              0.542120   0.512228   \n",
       "25%      0.595227       0.885123              0.725406   0.719502   \n",
       "50%      0.838847       0.922230              0.808087   0.881512   \n",
       "75%      0.959287       0.953008              0.880353   0.934316   \n",
       "max      0.995327       1.000000              1.000000   0.996226   \n",
       "\n",
       "       RandomForestClassifier  GradientBoostingClassifier  \n",
       "count               10.000000                   10.000000  \n",
       "mean                 0.889923                    0.915698  \n",
       "std                  0.164545                    0.155355  \n",
       "min                  0.547554                    0.547554  \n",
       "25%                  0.776640                    0.950711  \n",
       "50%                  0.992272                    0.989600  \n",
       "75%                  0.996002                    0.995106  \n",
       "max                  1.000000                    1.000000  "
      ]
     },
     "execution_count": 65,
     "metadata": {},
     "output_type": "execute_result"
    }
   ],
   "source": [
    "acc_results = []\n",
    "header = [cls.__class__.__name__ for cls in clss]\n",
    "for train_index, test_index in tqdm(logo.split(X, y, u_class)):\n",
    "\n",
    "    X_train, X_test = X[train_index], X[test_index]\n",
    "    y_train, y_test = y[train_index], y[test_index]\n",
    "    \n",
    "    stores_results = []\n",
    "    \n",
    "    for cls in clss:\n",
    "        text_clf = Pipeline([\n",
    "            ('vect', CountVectorizer()),\n",
    "            #('tfidf', TfidfTransformer()),\n",
    "            ('tranf', DenseTransformer()),\n",
    "            ('clf', cls),\n",
    "        ])\n",
    "\n",
    "\n",
    "        text_clf.fit(X_train, y_train)  \n",
    "        predicted = text_clf.predict(X_test)\n",
    "        acc = np.mean(predicted == y_test)\n",
    "        stores_results.append(acc)\n",
    "    acc_results.append(stores_results)\n",
    "acc_results = pd.DataFrame(acc_results, columns=header)\n",
    "acc_results.describe()"
   ]
  },
  {
   "cell_type": "markdown",
   "metadata": {},
   "source": [
    "## Final CLF"
   ]
  },
  {
   "cell_type": "code",
   "execution_count": 66,
   "metadata": {},
   "outputs": [
    {
     "data": {
      "text/plain": [
       "sklearn.ensemble.gradient_boosting.GradientBoostingClassifier"
      ]
     },
     "execution_count": 66,
     "metadata": {},
     "output_type": "execute_result"
    }
   ],
   "source": [
    "text_clf = Pipeline([\n",
    "    ('vect', CountVectorizer()),\n",
    "    #('tfidf', TfidfTransformer()),\n",
    "    ('tranf', DenseTransformer()),\n",
    "    ('clf', GradientBoostingClassifier),\n",
    "])\n",
    "\n",
    "\n",
    "text_clf.fit(X_train, y_train)  \n",
    "predicted = text_clf.predict(X_test)\n",
    "acc = np.mean(predicted == y_test)\n",
    "stores_results.append(acc)\n",
    "acc_results.append(stores_results)"
   ]
  },
  {
   "cell_type": "markdown",
   "metadata": {},
   "source": [
    "# Link Classifier"
   ]
  },
  {
   "cell_type": "code",
   "execution_count": 75,
   "metadata": {},
   "outputs": [],
   "source": [
    "import re"
   ]
  },
  {
   "cell_type": "code",
   "execution_count": 119,
   "metadata": {},
   "outputs": [],
   "source": [
    "link_x = [re.sub(r'https.*.com', '', li).replace(r'.br', '') for li in l]\n"
   ]
  },
  {
   "cell_type": "code",
   "execution_count": 120,
   "metadata": {},
   "outputs": [],
   "source": [
    "re_letter = re.compile('[^a-zA-Z ]')\n",
    "\n",
    "\n",
    "re_letter_s = [re_letter.sub(' ',lx) for lx in link_x]\n",
    "re_letter_s = [re.sub(r'\\b\\w{1,3}\\b', '', re_l)for re_l in re_letter_s]"
   ]
  },
  {
   "cell_type": "code",
   "execution_count": 127,
   "metadata": {},
   "outputs": [
    {
     "data": {
      "application/vnd.jupyter.widget-view+json": {
       "model_id": "f3c001b1bcac4f518c7578e53da54617",
       "version_major": 2,
       "version_minor": 0
      },
      "text/plain": [
       "HBox(children=(IntProgress(value=1, bar_style='info', max=1), HTML(value='')))"
      ]
     },
     "metadata": {},
     "output_type": "display_data"
    },
    {
     "data": {
      "text/html": [
       "<div>\n",
       "<style scoped>\n",
       "    .dataframe tbody tr th:only-of-type {\n",
       "        vertical-align: middle;\n",
       "    }\n",
       "\n",
       "    .dataframe tbody tr th {\n",
       "        vertical-align: top;\n",
       "    }\n",
       "\n",
       "    .dataframe thead th {\n",
       "        text-align: right;\n",
       "    }\n",
       "</style>\n",
       "<table border=\"1\" class=\"dataframe\">\n",
       "  <thead>\n",
       "    <tr style=\"text-align: right;\">\n",
       "      <th></th>\n",
       "      <th>GaussianNB</th>\n",
       "      <th>MultinomialNB</th>\n",
       "      <th>KNeighborsClassifier</th>\n",
       "      <th>SVC</th>\n",
       "      <th>RandomForestClassifier</th>\n",
       "      <th>GradientBoostingClassifier</th>\n",
       "    </tr>\n",
       "  </thead>\n",
       "  <tbody>\n",
       "    <tr>\n",
       "      <th>count</th>\n",
       "      <td>10.000000</td>\n",
       "      <td>10.000000</td>\n",
       "      <td>10.000000</td>\n",
       "      <td>10.000000</td>\n",
       "      <td>10.000000</td>\n",
       "      <td>10.000000</td>\n",
       "    </tr>\n",
       "    <tr>\n",
       "      <th>mean</th>\n",
       "      <td>0.747184</td>\n",
       "      <td>0.743445</td>\n",
       "      <td>0.750544</td>\n",
       "      <td>0.741398</td>\n",
       "      <td>0.769654</td>\n",
       "      <td>0.664245</td>\n",
       "    </tr>\n",
       "    <tr>\n",
       "      <th>std</th>\n",
       "      <td>0.203964</td>\n",
       "      <td>0.321598</td>\n",
       "      <td>0.166346</td>\n",
       "      <td>0.143948</td>\n",
       "      <td>0.171269</td>\n",
       "      <td>0.268284</td>\n",
       "    </tr>\n",
       "    <tr>\n",
       "      <th>min</th>\n",
       "      <td>0.430518</td>\n",
       "      <td>0.192935</td>\n",
       "      <td>0.468665</td>\n",
       "      <td>0.516667</td>\n",
       "      <td>0.476839</td>\n",
       "      <td>0.295775</td>\n",
       "    </tr>\n",
       "    <tr>\n",
       "      <th>25%</th>\n",
       "      <td>0.609456</td>\n",
       "      <td>0.512032</td>\n",
       "      <td>0.689229</td>\n",
       "      <td>0.631680</td>\n",
       "      <td>0.649306</td>\n",
       "      <td>0.453826</td>\n",
       "    </tr>\n",
       "    <tr>\n",
       "      <th>50%</th>\n",
       "      <td>0.742134</td>\n",
       "      <td>0.922354</td>\n",
       "      <td>0.784992</td>\n",
       "      <td>0.751184</td>\n",
       "      <td>0.756794</td>\n",
       "      <td>0.683968</td>\n",
       "    </tr>\n",
       "    <tr>\n",
       "      <th>75%</th>\n",
       "      <td>0.908333</td>\n",
       "      <td>0.945881</td>\n",
       "      <td>0.880839</td>\n",
       "      <td>0.840573</td>\n",
       "      <td>0.935275</td>\n",
       "      <td>0.918485</td>\n",
       "    </tr>\n",
       "    <tr>\n",
       "      <th>max</th>\n",
       "      <td>1.000000</td>\n",
       "      <td>0.990654</td>\n",
       "      <td>0.934169</td>\n",
       "      <td>0.924765</td>\n",
       "      <td>0.957746</td>\n",
       "      <td>0.985149</td>\n",
       "    </tr>\n",
       "  </tbody>\n",
       "</table>\n",
       "</div>"
      ],
      "text/plain": [
       "       GaussianNB  MultinomialNB  KNeighborsClassifier        SVC  \\\n",
       "count   10.000000      10.000000             10.000000  10.000000   \n",
       "mean     0.747184       0.743445              0.750544   0.741398   \n",
       "std      0.203964       0.321598              0.166346   0.143948   \n",
       "min      0.430518       0.192935              0.468665   0.516667   \n",
       "25%      0.609456       0.512032              0.689229   0.631680   \n",
       "50%      0.742134       0.922354              0.784992   0.751184   \n",
       "75%      0.908333       0.945881              0.880839   0.840573   \n",
       "max      1.000000       0.990654              0.934169   0.924765   \n",
       "\n",
       "       RandomForestClassifier  GradientBoostingClassifier  \n",
       "count               10.000000                   10.000000  \n",
       "mean                 0.769654                    0.664245  \n",
       "std                  0.171269                    0.268284  \n",
       "min                  0.476839                    0.295775  \n",
       "25%                  0.649306                    0.453826  \n",
       "50%                  0.756794                    0.683968  \n",
       "75%                  0.935275                    0.918485  \n",
       "max                  0.957746                    0.985149  "
      ]
     },
     "execution_count": 127,
     "metadata": {},
     "output_type": "execute_result"
    }
   ],
   "source": [
    "acc_results = []\n",
    "header = [cls.__class__.__name__ for cls in clss]\n",
    "for train_index, test_index in tqdm(logo.split(l, y, u_class)):\n",
    "\n",
    "    X_train, X_test = l[train_index], l[test_index]\n",
    "    y_train, y_test = y[train_index], y[test_index]\n",
    "    count_vect = CountVectorizer()\n",
    "    \n",
    "    X_train = count_vect.fit_transform(X_train)\n",
    "    X_test  = count_vect.transform(X_test)\n",
    "    stores_results = []\n",
    "    \n",
    "    for cls in clss:\n",
    "        \n",
    "        text_clf = Pipeline([\n",
    "            #('tfidf', TfidfTransformer()),\n",
    "            ('tranf', DenseTransformer()),\n",
    "            ('clf', cls),\n",
    "        ])\n",
    "        \n",
    "\n",
    "\n",
    "        text_clf.fit(X_train, y_train)  \n",
    "        predicted = text_clf.predict(X_test)\n",
    "        acc = np.mean(predicted == y_test)\n",
    "        stores_results.append(acc)\n",
    "    acc_results.append(stores_results)\n",
    "acc_results = pd.DataFrame(acc_results, columns=header)\n",
    "acc_results.describe()"
   ]
  },
  {
   "cell_type": "code",
   "execution_count": null,
   "metadata": {},
   "outputs": [],
   "source": []
  }
 ],
 "metadata": {
  "kernelspec": {
   "display_name": "dl",
   "language": "python",
   "name": "dl"
  },
  "language_info": {
   "codemirror_mode": {
    "name": "ipython",
    "version": 3
   },
   "file_extension": ".py",
   "mimetype": "text/x-python",
   "name": "python",
   "nbconvert_exporter": "python",
   "pygments_lexer": "ipython3",
   "version": "3.6.7"
  }
 },
 "nbformat": 4,
 "nbformat_minor": 2
}
