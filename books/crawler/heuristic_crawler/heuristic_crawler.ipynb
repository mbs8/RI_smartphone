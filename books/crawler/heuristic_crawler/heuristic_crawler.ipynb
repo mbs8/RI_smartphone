{
 "cells": [
  {
   "cell_type": "code",
   "execution_count": 11,
   "metadata": {},
   "outputs": [],
   "source": [
    "%run ../utils.ipynb\n",
    "from bs4 import BeautifulSoup\n",
    "import requests\n",
    "import sys\n",
    "import time\n",
    "import pandas as pd\n",
    "import numpy as np\n",
    "import urllib.robotparser as urobot\n",
    "from tqdm import tqdm_notebook as tqdm\n",
    "import validators\n",
    "import os\n",
    "import threading\n",
    "\n",
    "header = {'User-Agent': 'Mozilla/5.0 (Macintosh; Intel Mac OS X 10_14_5) AppleWebKit/605.1.15 (KHTML, like Gecko) Safari/605.1.15'}\n",
    "\n",
    "urls = [\n",
    "        \"https://www.magazineluiza.com.br\",\n",
    "        \"https://www.saraiva.com.br\",\n",
    "        \"https://www.amazon.com.br\",\n",
    "        \"https://www.taqi.com.br\",\n",
    "        \"https://www.kabum.com.br\",\n",
    "        \"https://www.ibyte.com.br\",\n",
    "        \"https://www.cissamagazine.com.br\",\n",
    "        \"https://www.promobit.com.br\",\n",
    "        \"https://www.havan.com.br\",\n",
    "        \"https://www.avenida.com.br\"]\n",
    "\n",
    "#urls = [\"https://www.avenida.com.br\"]"
   ]
  },
  {
   "cell_type": "code",
   "execution_count": 12,
   "metadata": {},
   "outputs": [],
   "source": [
    "#Class definition of the bfs_crawler\n",
    "class bfs_crawler:\n",
    "    def __init__(self, url):\n",
    "        self.url = url                \n",
    "        self.robotParser = getRobot(url)      #robot parser to check if a link is valid or not\n",
    "        self.links_list = []                  #list of allowed links\n",
    "        self.invalid_links = []                    #list of invalid links\n",
    "        self.file_name  = set_file_name(url)  #name of the files generate by the crawler \n",
    "        \n",
    "#     def __init__(self):\n",
    "#         self.url = None\n",
    "#         self.robotParser = None\n",
    "#         self.links_list = []\n",
    "    \n",
    "    def get_links(self):\n",
    "        actual_link = self.url\n",
    "        link_count = 0\n",
    "        index = 0\n",
    "        number_of_links = 1000\n",
    "        visited_links = [self.url]\n",
    "        \n",
    "        while (len(self.links_list) < number_of_links):\n",
    "            try:\n",
    "                req = requests.get(actual_link, headers=header)\n",
    "                if(req.status_code == 200):    \n",
    "                    soup = BeautifulSoup(req.text)\n",
    "                    pageLinks = soup.findAll(\"a\", href=True)\n",
    "                    \n",
    "                    for a in pageLinks:\n",
    "                        #formata o link na tentativa de obter um link válido\n",
    "                        link = format_link(self.url, a[\"href\"])  \n",
    "                        #verifica se o link é valido\n",
    "                        if(not validators.url(link)):\n",
    "                            self.invalid_links.append(link)\n",
    "                            \n",
    "                        #adiciona na lista de links do crawler caso seja um link não visitado, válido e que o robots.txt permita\n",
    "                        elif(self.robotParser.can_fetch(\"*\", link) and link not in visited_links):\n",
    "                            #print(\"{} - {}\".format(link_count, link))\n",
    "                            self.links_list.append(link)\n",
    "                            visited_links.append(link)\n",
    "                            link_count += 1\n",
    "                        \n",
    "                    \n",
    "            except Exception:\n",
    "                self.invalid_links.append(link)\n",
    "            finally: \n",
    "                if(index >= len(self.links_list) or len(self.links_list) >= number_of_links):\n",
    "                    print(\"END\")\n",
    "                    return\n",
    "                actual_link = self.links_list[index]\n",
    "                print(\"Link Atual: {}\".format(actual_link))\n",
    "                index += 1\n",
    "                time.sleep(1)\n",
    "                \n",
    "    #saves the links as csv \n",
    "    def save_as_csv(self):\n",
    "        folders = [\"links\", \"invalid_links\"]\n",
    "        for folder in folders:\n",
    "            if not os.path.exists(folder):\n",
    "                os.makedirs(folder)\n",
    "        \n",
    "        #saves valid links\n",
    "        ID = np.arange(len(self.links_list))\n",
    "        dictionary = {'id' : ID, 'links' : self.links_list}\n",
    "        df = pd.DataFrame(dictionary)\n",
    "        df.to_csv(('links/' + self.file_name + '.csv'),header=True, index=False, encoding='utf-8')\n",
    "        \n",
    "        #saves invalid links\n",
    "        ID = np.arange(len(self.invalid_links))\n",
    "        dictionary = {'id' : ID, 'links' : self.invalid_links}\n",
    "        df = pd.DataFrame(dictionary)\n",
    "        df.to_csv(('invalid_links/' + self.file_name + '.csv'),header=True, index=False, encoding='utf-8')\n",
    "    \n",
    "    #save the robots from a url\n",
    "    def save_robot(self):\n",
    "        robot_url = self.url + \"/robots.txt\"\n",
    "        req = requests.get(robot_url,headers=header)\n",
    "        content = req.text\n",
    "        save_file(content, \"robots\", (self.file_name + \".txt\"))\n",
    "    \n",
    "    #getters and setters methods\n",
    "    def get_url(self):\n",
    "        return self.url\n",
    "    def set_url(self, url):\n",
    "        self.url = url\n",
    "    def get_links_list(self):\n",
    "        return self.links_list\n",
    "    def set_links_list(self, links):\n",
    "        self.links_list = links"
   ]
  },
  {
   "cell_type": "code",
   "execution_count": 13,
   "metadata": {
    "scrolled": false
   },
   "outputs": [],
   "source": [
    "#Saves the links from each site\n",
    "def save_links(crawler):\n",
    "    crawler = bfs_crawler(url)\n",
    "    crawler.save_robot()\n",
    "    crawler.get_links()\n",
    "    crawler.save_as_csv()\n",
    "    #print(crawler.robotParser.can_fetch(\"*\", \"https://www.shopfacil.com.br\"))"
   ]
  },
  {
   "cell_type": "markdown",
   "metadata": {},
   "source": [
    "# Parallel saves the links in .csv "
   ]
  },
  {
   "cell_type": "code",
   "execution_count": null,
   "metadata": {},
   "outputs": [],
   "source": [
    "threads = []\n",
    "for url in urls:\n",
    "    crawler = bfs_crawler(url)\n",
    "    thread = threading.Thread(target=save_links, args=(crawler,))\n",
    "    threads.append(thread)\n",
    "    thread.start()\n",
    "    time.sleep(0.2)"
   ]
  },
  {
   "cell_type": "markdown",
   "metadata": {},
   "source": [
    "# Saves the links from one site"
   ]
  },
  {
   "cell_type": "code",
   "execution_count": 14,
   "metadata": {
    "scrolled": true
   },
   "outputs": [
    {
     "name": "stdout",
     "output_type": "stream",
     "text": [
      "Link Atual: http://www.taqi.com.br/\n",
      "Link Atual: http://www.taqi.com.br/sub/central-atendimento\n",
      "Link Atual: http://www.taqi.com.br/javascript:void(0);\n",
      "Link Atual: http://www.taqi.com.br/perfil/login?redirectURL=/index.jsp\n",
      "Link Atual: http://www.taqi.com.br/perfil/login?newUser=true&redirectURL=/index.jsp\n",
      "Link Atual: http://www.taqi.com.br/listadepresentes\n",
      "Link Atual: http://www.taqi.com.br/newTemplate/perfil/login;jsessionid=0zzKdPZT9ZBQWw2Nhg0QDLXCp1qlJYTs8MsX5h2HtMvvv5w2kTqW!764376371?newUser=true\n",
      "Link Atual: http://www.taqi.com.br/taqi/material-de-construcao/cat60087\n",
      "Link Atual: http://www.taqi.com.br/taqi/construcao/portas-janelas/cat60143\n",
      "Link Atual: http://www.taqi.com.br/taqi/construcao/portas-janelas/porta/cat60145\n",
      "Link Atual: http://www.taqi.com.br/taqi/construcao/portas-janelas/janela/cat60144\n",
      "Link Atual: http://www.taqi.com.br/taqi/construcao/portas-janelas/portao/cat60147\n",
      "Link Atual: http://www.taqi.com.br/taqi/construcao/portas-janelas/fechadura-e-puxador/cat60109\n",
      "Link Atual: http://www.taqi.com.br/taqi/construcao/portas-janelas/batentes-guarnicoes/cat60148\n",
      "Link Atual: http://www.taqi.com.br/taqi/construcao/portas-janelas/dobradica-e-acessorios/cat15790667\n",
      "Link Atual: http://www.taqi.com.br/taqi/construcao/pisos-e-revestimentos/cat60088\n",
      "Link Atual: http://www.taqi.com.br/taqi/construcao/pisos-e-revestimentos/piso-laminado/cat60092\n",
      "Link Atual: http://www.taqi.com.br/taqi/construcao/pisos-e-revestimentos/pisos-vinilicos/cat102461262\n",
      "Link Atual: http://www.taqi.com.br/taqi/construcao/pisos-e-revestimentos/porcelanato/cat640003\n",
      "Link Atual: http://www.taqi.com.br/taqi/construcao/pisos-e-revestimentos/piso-ceramico/cat370007\n",
      "Link Atual: http://www.taqi.com.br/taqi/construcao/pisos-e-revestimentos/revestimento-de-parede/cat15790665\n",
      "Link Atual: http://www.taqi.com.br/taqi/construcao/pisos-e-revestimentos/rodapes/cat102461263\n",
      "Link Atual: http://www.taqi.com.br/taqi/construcao/pisos-e-revestimentos/argamassas/cat60185\n",
      "Link Atual: http://www.taqi.com.br/taqi/construcao/pisos-e-revestimentos/rejuntes/cat102461261\n",
      "Link Atual: http://www.taqi.com.br/taqi/construcao/pisos-e-revestimentos/acabamentos-de-piso/cat60094\n",
      "Link Atual: http://www.taqi.com.br/taqi/construcao/pisos-e-revestimentos/forracao/cat15790666\n",
      "Link Atual: http://www.taqi.com.br/taqi/construcao/pisos-e-revestimentos/pisos-pvc/cat111840069\n",
      "Link Atual: http://www.taqi.com.br/taqi/construcao/tintas-acessorios/cat60096\n",
      "Link Atual: http://www.taqi.com.br/taqi/construcao/tintas-acessorios/tintas/cat370010\n",
      "Link Atual: http://www.taqi.com.br/taqi/construcao/tintas-acessorios/seladores-fundos/cat102461264\n",
      "Link Atual: http://www.taqi.com.br/taqi/construcao/tintas-acessorios/pinceis-rolos-acessorios/cat60097\n",
      "Link Atual: http://www.taqi.com.br/taqi/construcao/tintas-acessorios/solventes-e-complementos/cat60100\n",
      "Link Atual: http://www.taqi.com.br/taqi/construcao/banheiro/cat15790668\n",
      "END\n"
     ]
    }
   ],
   "source": [
    "url = urls[3]\n",
    "crawler = bfs_crawler(url)\n",
    "save_links(url)"
   ]
  },
  {
   "cell_type": "code",
   "execution_count": null,
   "metadata": {},
   "outputs": [],
   "source": []
  }
 ],
 "metadata": {
  "kernelspec": {
   "display_name": "Python 3",
   "language": "python",
   "name": "python3"
  },
  "language_info": {
   "codemirror_mode": {
    "name": "ipython",
    "version": 3
   },
   "file_extension": ".py",
   "mimetype": "text/x-python",
   "name": "python",
   "nbconvert_exporter": "python",
   "pygments_lexer": "ipython3",
   "version": "3.7.0"
  }
 },
 "nbformat": 4,
 "nbformat_minor": 2
}
