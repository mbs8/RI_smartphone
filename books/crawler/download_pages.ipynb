{
 "cells": [
  {
   "cell_type": "code",
   "execution_count": 34,
   "metadata": {},
   "outputs": [],
   "source": [
    "%run utils.ipynb\n",
    "import threading\n",
    "import requests\n",
    "import validators\n",
    "import time\n",
    "import os\n",
    "import pandas as pd\n",
    "from tqdm import tqdm_notebook as tqdm\n",
    "\n",
    "#change the DIRECTORY to get the correct crawler\n",
    "DIRECTORY = \"bfs_crawler/links/\"              \n",
    "header = {'User-Agent': 'Mozilla/5.0 (Macintosh; Intel Mac OS X 10_14_5) AppleWebKit/605.1.15 (KHTML, like Gecko) Safari/605.1.15'}\n",
    "FILE_NAMES = [\"amazon.csv\",\n",
    "              \"avenida.csv\",\n",
    "              \"havan.csv\",\n",
    "              \"cissamagazine.csv\",\n",
    "              \"ibyte.csv\",\n",
    "              \"kabum.csv\",\n",
    "              \"magazineluiza.csv\",\n",
    "              \"promobit.csv\",\n",
    "              \"taqi.csv\",\n",
    "              \"colombo.csv\"]\n",
    "\n",
    "#sets the correct path to the .csv files\n",
    "FILE_NAMES = [DIRECTORY + x for x in FILE_NAMES]"
   ]
  },
  {
   "cell_type": "code",
   "execution_count": 35,
   "metadata": {},
   "outputs": [],
   "source": [
    "#download all the pages from the .csv\n",
    "def download_pages(file):\n",
    "    LINK_COLUMN = \"links\"\n",
    "    ID_COLUMN = 'id'\n",
    "    PAGE_NAME = \"page_{}.html\"\n",
    "    SITE_NAME = file.split(\".\")[0].split(\"/\")[-1]\n",
    "    PAGES_DIRECTORY = \"pages/\" + SITE_NAME\n",
    "    INVALID_PAGES_DIRECTORY = \"invalid_pages/\"\n",
    "    \n",
    "    df = pd.read_csv(file)\n",
    "    links = df[LINK_COLUMN]\n",
    "    identifiers = df[ID_COLUMN]\n",
    "    valid_links = 0\n",
    "    index = 0\n",
    "    total_links = len(links)\n",
    "    invalid_pages = []\n",
    "    \n",
    "    print(\"Starts downloading from: {}\".format(file))\n",
    "    \n",
    "    for link in tqdm(links):\n",
    "        try:\n",
    "            req = requests.get(link, headers=header)\n",
    "            if(req.status_code == 200):\n",
    "                valid_links += 1\n",
    "                save_file(req.text, PAGES_DIRECTORY, PAGE_NAME.format(identifiers[index]))\n",
    "            else:\n",
    "                invalid_pages.append((identifiers[index], link))\n",
    "                \n",
    "        except:\n",
    "            print(\"error: \" + link)\n",
    "            invalid_pages.append((identifiers[index], link))\n",
    "            \n",
    "        finally:\n",
    "            index += 1\n",
    "            time.sleep(1)\n",
    "    \n",
    "    #saves the invalid links to a .csv file\n",
    "    if not os.path.exists(INVALID_PAGES_DIRECTORY):\n",
    "        os.makedirs(INVALID_PAGES_DIRECTORY)\n",
    "    df = pd.DataFrame(invalid_pages, columns=['id', 'links'])\n",
    "    df.to_csv((INVALID_PAGES_DIRECTORY + SITE_NAME + '.csv'),header=True, index=False, encoding='utf-8')\n",
    "    \n",
    "    #saves the stats from each url in .csv file\n",
    "    content = \"{},{},{}\".format(SITE_NAME,valid_links,total_links)\n",
    "    save_file(content, \"./\", \".csv\", \"a\")\n",
    "    \n",
    "    print(\"Finished downloading from: {}\".format(file))\n",
    "    print(\"Valid links/Total links: {}/{}\".format(valid_links, total_links))"
   ]
  },
  {
   "cell_type": "markdown",
   "metadata": {},
   "source": [
    "# Parallel downloads"
   ]
  },
  {
   "cell_type": "code",
   "execution_count": 11,
   "metadata": {
    "scrolled": false
   },
   "outputs": [
    {
     "data": {
      "application/vnd.jupyter.widget-view+json": {
       "model_id": "7e9e9d910fc84accbb61d915bf236eae",
       "version_major": 2,
       "version_minor": 0
      },
      "text/plain": [
       "HBox(children=(IntProgress(value=0, max=10), HTML(value='')))"
      ]
     },
     "metadata": {},
     "output_type": "display_data"
    },
    {
     "name": "stdout",
     "output_type": "stream",
     "text": [
      "Starts downloading from: bfs_crawler/links/amazon.csv\n"
     ]
    },
    {
     "data": {
      "application/vnd.jupyter.widget-view+json": {
       "model_id": "089ee9daf581417ebf2d0b9e0b3f1547",
       "version_major": 2,
       "version_minor": 0
      },
      "text/plain": [
       "HBox(children=(IntProgress(value=0, max=1027), HTML(value='')))"
      ]
     },
     "metadata": {},
     "output_type": "display_data"
    },
    {
     "name": "stdout",
     "output_type": "stream",
     "text": [
      "Starts downloading from: bfs_crawler/links/avenida.csv\n"
     ]
    },
    {
     "data": {
      "application/vnd.jupyter.widget-view+json": {
       "model_id": "e6f074457d894f34b79d965d9ce205cf",
       "version_major": 2,
       "version_minor": 0
      },
      "text/plain": [
       "HBox(children=(IntProgress(value=0, max=1007), HTML(value='')))"
      ]
     },
     "metadata": {},
     "output_type": "display_data"
    },
    {
     "name": "stdout",
     "output_type": "stream",
     "text": [
      "Starts downloading from: bfs_crawler/links/havan.csv\n"
     ]
    },
    {
     "data": {
      "application/vnd.jupyter.widget-view+json": {
       "model_id": "d21b6162f7864c6fb3af3a8212ae87da",
       "version_major": 2,
       "version_minor": 0
      },
      "text/plain": [
       "HBox(children=(IntProgress(value=0, max=1027), HTML(value='')))"
      ]
     },
     "metadata": {},
     "output_type": "display_data"
    },
    {
     "name": "stdout",
     "output_type": "stream",
     "text": [
      "Starts downloading from: bfs_crawler/links/cissamagazine.csv\n"
     ]
    },
    {
     "data": {
      "application/vnd.jupyter.widget-view+json": {
       "model_id": "7e459be268144077aef846ca17c16e25",
       "version_major": 2,
       "version_minor": 0
      },
      "text/plain": [
       "HBox(children=(IntProgress(value=0, max=1109), HTML(value='')))"
      ]
     },
     "metadata": {},
     "output_type": "display_data"
    },
    {
     "name": "stdout",
     "output_type": "stream",
     "text": [
      "Starts downloading from: bfs_crawler/links/ibyte.csv\n"
     ]
    },
    {
     "data": {
      "application/vnd.jupyter.widget-view+json": {
       "model_id": "ea98c290bcba417bac6ee7a03847a397",
       "version_major": 2,
       "version_minor": 0
      },
      "text/plain": [
       "HBox(children=(IntProgress(value=0, max=1005), HTML(value='')))"
      ]
     },
     "metadata": {},
     "output_type": "display_data"
    },
    {
     "name": "stdout",
     "output_type": "stream",
     "text": [
      "Starts downloading from: bfs_crawler/links/kabum.csv\n"
     ]
    },
    {
     "data": {
      "application/vnd.jupyter.widget-view+json": {
       "model_id": "9faa4240b157455e8aed94f9bf018e32",
       "version_major": 2,
       "version_minor": 0
      },
      "text/plain": [
       "HBox(children=(IntProgress(value=0, max=1035), HTML(value='')))"
      ]
     },
     "metadata": {},
     "output_type": "display_data"
    },
    {
     "name": "stdout",
     "output_type": "stream",
     "text": [
      "Starts downloading from: bfs_crawler/links/magazineluiza.csv\n"
     ]
    },
    {
     "data": {
      "application/vnd.jupyter.widget-view+json": {
       "model_id": "3811dce89c844898b801877b8474e4d2",
       "version_major": 2,
       "version_minor": 0
      },
      "text/plain": [
       "HBox(children=(IntProgress(value=0, max=1015), HTML(value='')))"
      ]
     },
     "metadata": {},
     "output_type": "display_data"
    },
    {
     "name": "stdout",
     "output_type": "stream",
     "text": [
      "Starts downloading from: bfs_crawler/links/promobit.csv\n"
     ]
    },
    {
     "data": {
      "application/vnd.jupyter.widget-view+json": {
       "model_id": "15d2f7d8b590453eaa01c6ebf0097742",
       "version_major": 2,
       "version_minor": 0
      },
      "text/plain": [
       "HBox(children=(IntProgress(value=0, max=1017), HTML(value='')))"
      ]
     },
     "metadata": {},
     "output_type": "display_data"
    },
    {
     "name": "stdout",
     "output_type": "stream",
     "text": [
      "Starts downloading from: bfs_crawler/links/ricardoeletro.csv\n"
     ]
    },
    {
     "data": {
      "application/vnd.jupyter.widget-view+json": {
       "model_id": "22426994eea64bbe9a5008fff91e831a",
       "version_major": 2,
       "version_minor": 0
      },
      "text/plain": [
       "HBox(children=(IntProgress(value=1, bar_style='info', max=1), HTML(value='')))"
      ]
     },
     "metadata": {},
     "output_type": "display_data"
    },
    {
     "name": "stdout",
     "output_type": "stream",
     "text": [
      "Finished downloading from: bfs_crawler/links/ricardoeletro.csv\n",
      "Total links / valid_links: 0/0\n",
      "Starts downloading from: bfs_crawler/links/saraiva.csv\n"
     ]
    },
    {
     "data": {
      "application/vnd.jupyter.widget-view+json": {
       "model_id": "7d8d98592111497da6cadf28c527640a",
       "version_major": 2,
       "version_minor": 0
      },
      "text/plain": [
       "HBox(children=(IntProgress(value=0, max=1054), HTML(value='')))"
      ]
     },
     "metadata": {},
     "output_type": "display_data"
    },
    {
     "name": "stdout",
     "output_type": "stream",
     "text": [
      "error: http://www.internetsegura.org/\n"
     ]
    }
   ],
   "source": [
    "#starts the download of all the pages\n",
    "threads = []\n",
    "for file in tqdm(FILE_NAMES):\n",
    "    thread = threading.Thread(target=download_pages, args=(file,))\n",
    "    threads.append(thread)\n",
    "    thread.start()\n",
    "    time.sleep(0.2)"
   ]
  },
  {
   "cell_type": "markdown",
   "metadata": {},
   "source": [
    "# Single Download"
   ]
  },
  {
   "cell_type": "code",
   "execution_count": null,
   "metadata": {
    "scrolled": false
   },
   "outputs": [
    {
     "name": "stdout",
     "output_type": "stream",
     "text": [
      "Starts downloading from: bfs_crawler/links/colombo.csv\n"
     ]
    },
    {
     "data": {
      "application/vnd.jupyter.widget-view+json": {
       "model_id": "447255829b9342d49df2ac5f13d23484",
       "version_major": 2,
       "version_minor": 0
      },
      "text/plain": [
       "HBox(children=(IntProgress(value=0, max=1034), HTML(value='')))"
      ]
     },
     "metadata": {},
     "output_type": "display_data"
    }
   ],
   "source": [
    "url = FILE_NAMES[9]\n",
    "download_pages(url)"
   ]
  },
  {
   "cell_type": "code",
   "execution_count": null,
   "metadata": {},
   "outputs": [],
   "source": []
  }
 ],
 "metadata": {
  "kernelspec": {
   "display_name": "Python 3",
   "language": "python",
   "name": "python3"
  },
  "language_info": {
   "codemirror_mode": {
    "name": "ipython",
    "version": 3
   },
   "file_extension": ".py",
   "mimetype": "text/x-python",
   "name": "python",
   "nbconvert_exporter": "python",
   "pygments_lexer": "ipython3",
   "version": "3.7.0"
  }
 },
 "nbformat": 4,
 "nbformat_minor": 2
}
