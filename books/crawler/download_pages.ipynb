{
 "cells": [
  {
   "cell_type": "code",
   "execution_count": 1,
   "metadata": {},
   "outputs": [],
   "source": [
    "%run utils.ipynb\n",
    "import threading\n",
    "import requests\n",
    "import validators\n",
    "import time\n",
    "import os\n",
    "import pandas as pd\n",
    "from tqdm import tqdm_notebook as tqdm\n",
    "import random\n",
    "\n",
    "#change the DIRECTORY to get the correct crawler\n",
    "DIRECTORY = \"classifier_crawler/links/\"              \n",
    "header = {'User-Agent': 'Mozilla/5.0 (Macintosh; Intel Mac OS X 10_14_5) AppleWebKit/605.1.15 (KHTML, like Gecko) Safari/605.1.15'}\n",
    "FILE_NAMES = [\"amazon.csv\",\n",
    "              \"avenida.csv\",\n",
    "              #\"havan.csv\",\n",
    "              \"cissamagazine.csv\",\n",
    "              #\"ibyte.csv\",\n",
    "              \"kabum.csv\",\n",
    "              #\"magazineluiza.csv\",\n",
    "              \"ricardoeletro.csv\",\n",
    "              #\"taqi.csv\",\n",
    "              #\"colombo.csv\"\n",
    "             ]\n",
    "\n",
    "#sets the correct path to the .csv files\n",
    "FILE_NAMES = [DIRECTORY + x for x in FILE_NAMES]\n",
    "\n",
    "#to control concurrent executions\n",
    "lock = threading.Lock()"
   ]
  },
  {
   "cell_type": "code",
   "execution_count": 2,
   "metadata": {},
   "outputs": [],
   "source": [
    "#download all the pages from the .csv\n",
    "def download_pages(file):\n",
    "    LINK_COLUMN = \"links\"\n",
    "    ID_COLUMN = 'id'\n",
    "    PAGE_NAME = \"page_{}.html\"\n",
    "    SITE_NAME = file.split(\".\")[0].split(\"/\")[-1]\n",
    "    PAGES_DIRECTORY = \"pages/\" + SITE_NAME\n",
    "    INVALID_PAGES_DIRECTORY = \"invalid_pages/\"\n",
    "    \n",
    "    df = pd.read_csv(file)\n",
    "    links = df[LINK_COLUMN]\n",
    "    identifiers = df[ID_COLUMN]\n",
    "    valid_links = 0\n",
    "    index = 0\n",
    "    total_links = len(links)\n",
    "    invalid_pages = []\n",
    "    \n",
    "    print(\"Starts downloading from: {}\".format(file))\n",
    "    \n",
    "    for link in tqdm(links):\n",
    "        try:\n",
    "            req = requests.get(link, headers=header)\n",
    "            if(req.status_code == 200):\n",
    "                valid_links += 1\n",
    "                save_file(req.text, PAGES_DIRECTORY, PAGE_NAME.format(identifiers[index]))\n",
    "            else:\n",
    "                invalid_pages.append((identifiers[index], link))\n",
    "                \n",
    "        except:\n",
    "            #print(\"error: \" + link)\n",
    "            invalid_pages.append((identifiers[index], link))\n",
    "            \n",
    "        finally:\n",
    "            index += 1\n",
    "            time.sleep(random.randint(1,3))\n",
    "    \n",
    "    #saves the invalid links to a .csv file\n",
    "    if not os.path.exists(INVALID_PAGES_DIRECTORY):\n",
    "        os.makedirs(INVALID_PAGES_DIRECTORY)\n",
    "    df = pd.DataFrame(invalid_pages, columns=['id', 'links'])\n",
    "    df.to_csv((INVALID_PAGES_DIRECTORY + SITE_NAME + '.csv'),header=True, index=False, encoding='utf-8')\n",
    "    \n",
    "    #saves the stats from each url in .csv file\n",
    "    with lock:\n",
    "        content = \"{},{},{}\\n\".format(SITE_NAME,valid_links,total_links)\n",
    "        save_file(content, \"./\", \"stats.csv\", mode=\"a\")\n",
    "    \n",
    "    print(\"Finished downloading from: {}\".format(file))\n",
    "    print(\"Valid links/Total links: {}/{}\".format(valid_links, total_links))"
   ]
  },
  {
   "cell_type": "markdown",
   "metadata": {},
   "source": [
    "# Parallel downloads"
   ]
  },
  {
   "cell_type": "code",
   "execution_count": 3,
   "metadata": {
    "scrolled": false
   },
   "outputs": [
    {
     "data": {
      "application/vnd.jupyter.widget-view+json": {
       "model_id": "3010a29f9fe94560a9dd8133536b2d22",
       "version_major": 2,
       "version_minor": 0
      },
      "text/plain": [
       "HBox(children=(IntProgress(value=0, max=5), HTML(value='')))"
      ]
     },
     "metadata": {},
     "output_type": "display_data"
    },
    {
     "name": "stdout",
     "output_type": "stream",
     "text": [
      "Starts downloading from: classifier_crawler/links/amazon.csv\n"
     ]
    },
    {
     "data": {
      "application/vnd.jupyter.widget-view+json": {
       "model_id": "33a413c754554df48cf868ebe23988f5",
       "version_major": 2,
       "version_minor": 0
      },
      "text/plain": [
       "HBox(children=(IntProgress(value=0, max=1000), HTML(value='')))"
      ]
     },
     "metadata": {},
     "output_type": "display_data"
    },
    {
     "name": "stdout",
     "output_type": "stream",
     "text": [
      "Starts downloading from: classifier_crawler/links/avenida.csv\n"
     ]
    },
    {
     "data": {
      "application/vnd.jupyter.widget-view+json": {
       "model_id": "23135018f44344548b02bec4f1158ea7",
       "version_major": 2,
       "version_minor": 0
      },
      "text/plain": [
       "HBox(children=(IntProgress(value=0, max=1000), HTML(value='')))"
      ]
     },
     "metadata": {},
     "output_type": "display_data"
    },
    {
     "name": "stdout",
     "output_type": "stream",
     "text": [
      "Starts downloading from: classifier_crawler/links/cissamagazine.csv\n"
     ]
    },
    {
     "data": {
      "application/vnd.jupyter.widget-view+json": {
       "model_id": "bd148658303a465dbbe191567a2bb52e",
       "version_major": 2,
       "version_minor": 0
      },
      "text/plain": [
       "HBox(children=(IntProgress(value=0, max=1000), HTML(value='')))"
      ]
     },
     "metadata": {},
     "output_type": "display_data"
    },
    {
     "name": "stdout",
     "output_type": "stream",
     "text": [
      "Starts downloading from: classifier_crawler/links/kabum.csv\n"
     ]
    },
    {
     "data": {
      "application/vnd.jupyter.widget-view+json": {
       "model_id": "4c766bed6bcd45dd8479d3b10ef394a0",
       "version_major": 2,
       "version_minor": 0
      },
      "text/plain": [
       "HBox(children=(IntProgress(value=0, max=1000), HTML(value='')))"
      ]
     },
     "metadata": {},
     "output_type": "display_data"
    },
    {
     "name": "stdout",
     "output_type": "stream",
     "text": [
      "Starts downloading from: classifier_crawler/links/ricardoeletro.csv\n"
     ]
    },
    {
     "data": {
      "application/vnd.jupyter.widget-view+json": {
       "model_id": "d1db38d4014c4700bd259f5847bc7a10",
       "version_major": 2,
       "version_minor": 0
      },
      "text/plain": [
       "HBox(children=(IntProgress(value=0, max=1000), HTML(value='')))"
      ]
     },
     "metadata": {},
     "output_type": "display_data"
    },
    {
     "name": "stdout",
     "output_type": "stream",
     "text": [
      "Finished downloading from: classifier_crawler/links/cissamagazine.csv\n",
      "Valid links/Total links: 936/1000\n",
      "Finished downloading from: classifier_crawler/links/avenida.csv\n",
      "Valid links/Total links: 1000/1000\n",
      "Finished downloading from: classifier_crawler/links/kabum.csv\n",
      "Valid links/Total links: 1000/1000\n",
      "\n",
      "Finished downloading from: classifier_crawler/links/amazon.csv\n",
      "Valid links/Total links: 982/1000\n",
      "\n",
      "Finished downloading from: classifier_crawler/links/ricardoeletro.csv\n",
      "Valid links/Total links: 772/1000\n"
     ]
    }
   ],
   "source": [
    "#starts the download of all the pages\n",
    "threads = []\n",
    "for file in tqdm(FILE_NAMES):\n",
    "    thread = threading.Thread(target=download_pages, args=(file,))\n",
    "    threads.append(thread)\n",
    "    thread.start()\n",
    "    time.sleep(0.2)"
   ]
  },
  {
   "cell_type": "markdown",
   "metadata": {},
   "source": [
    "# Single Download"
   ]
  },
  {
   "cell_type": "code",
   "execution_count": null,
   "metadata": {
    "scrolled": false
   },
   "outputs": [],
   "source": [
    "url = FILE_NAMES[0]\n",
    "download_pages(url)"
   ]
  }
 ],
 "metadata": {
  "kernelspec": {
   "display_name": "Python 3",
   "language": "python",
   "name": "python3"
  },
  "language_info": {
   "codemirror_mode": {
    "name": "ipython",
    "version": 3
   },
   "file_extension": ".py",
   "mimetype": "text/x-python",
   "name": "python",
   "nbconvert_exporter": "python",
   "pygments_lexer": "ipython3",
   "version": "3.7.0"
  }
 },
 "nbformat": 4,
 "nbformat_minor": 2
}
