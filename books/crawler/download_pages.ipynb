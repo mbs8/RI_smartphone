{
 "cells": [
  {
   "cell_type": "code",
   "execution_count": 2,
   "metadata": {},
   "outputs": [],
   "source": [
    "%run utils.ipynb\n",
    "import threading\n",
    "import requests\n",
    "import validators\n",
    "import time\n",
    "import os\n",
    "import pandas as pd\n",
    "from tqdm import tqdm_notebook as tqdm\n",
    "\n",
    "#change the DIRECTORY to get the correct crawler\n",
    "DIRECTORY = \"heuristic_crawler/links/\"              \n",
    "header = {'User-Agent': 'Mozilla/5.0 (Macintosh; Intel Mac OS X 10_14_5) AppleWebKit/605.1.15 (KHTML, like Gecko) Safari/605.1.15'}\n",
    "FILE_NAMES = [\"amazon.csv\",\n",
    "              \"avenida.csv\",\n",
    "              \"havan.csv\",\n",
    "              \"cissamagazine.csv\",\n",
    "              \"ibyte.csv\",\n",
    "              \"kabum.csv\",\n",
    "              \"magazineluiza.csv\",\n",
    "              \"promobit.csv\",\n",
    "              \"taqi.csv\",\n",
    "              \"colombo.csv\"]\n",
    "\n",
    "#sets the correct path to the .csv files\n",
    "FILE_NAMES = [DIRECTORY + x for x in FILE_NAMES]\n",
    "\n",
    "#to control concurrent executions\n",
    "lock = threading.Lock()"
   ]
  },
  {
   "cell_type": "code",
   "execution_count": 5,
   "metadata": {},
   "outputs": [
    {
     "name": "stdout",
     "output_type": "stream",
     "text": [
      "\n",
      "Finished downloading from: heuristic_crawler/links/avenida.csv\n",
      "Valid links/Total links: 1018/1018\n",
      "\n",
      "Finished downloading from: heuristic_crawler/links/kabum.csv\n",
      "Valid links/Total links: 1001/1002\n"
     ]
    }
   ],
   "source": [
    "#download all the pages from the .csv\n",
    "def download_pages(file):\n",
    "    LINK_COLUMN = \"links\"\n",
    "    ID_COLUMN = 'id'\n",
    "    PAGE_NAME = \"page_{}.html\"\n",
    "    SITE_NAME = file.split(\".\")[0].split(\"/\")[-1]\n",
    "    PAGES_DIRECTORY = \"pages/\" + SITE_NAME\n",
    "    INVALID_PAGES_DIRECTORY = \"invalid_pages/\"\n",
    "    \n",
    "    df = pd.read_csv(file)\n",
    "    links = df[LINK_COLUMN]\n",
    "    identifiers = df[ID_COLUMN]\n",
    "    valid_links = 0\n",
    "    index = 0\n",
    "    total_links = len(links)\n",
    "    invalid_pages = []\n",
    "    \n",
    "    print(\"Starts downloading from: {}\".format(file))\n",
    "    \n",
    "    for link in tqdm(links):\n",
    "        try:\n",
    "            req = requests.get(link, headers=header)\n",
    "            if(req.status_code == 200):\n",
    "                valid_links += 1\n",
    "                save_file(req.text, PAGES_DIRECTORY, PAGE_NAME.format(identifiers[index]))\n",
    "            else:\n",
    "                invalid_pages.append((identifiers[index], link))\n",
    "                \n",
    "        except:\n",
    "            #print(\"error: \" + link)\n",
    "            invalid_pages.append((identifiers[index], link))\n",
    "            \n",
    "        finally:\n",
    "            index += 1\n",
    "            time.sleep(1)\n",
    "    \n",
    "    #saves the invalid links to a .csv file\n",
    "    if not os.path.exists(INVALID_PAGES_DIRECTORY):\n",
    "        os.makedirs(INVALID_PAGES_DIRECTORY)\n",
    "    df = pd.DataFrame(invalid_pages, columns=['id', 'links'])\n",
    "    df.to_csv((INVALID_PAGES_DIRECTORY + SITE_NAME + '.csv'),header=True, index=False, encoding='utf-8')\n",
    "    \n",
    "    #saves the stats from each url in .csv file\n",
    "    with lock:\n",
    "        content = \"{},{},{}\\n\".format(SITE_NAME,valid_links,total_links)\n",
    "        save_file(content, \"./\", \"stats.csv\", mode=\"a\")\n",
    "    \n",
    "    print(\"Finished downloading from: {}\".format(file))\n",
    "    print(\"Valid links/Total links: {}/{}\".format(valid_links, total_links))"
   ]
  },
  {
   "cell_type": "markdown",
   "metadata": {},
   "source": [
    "# Parallel downloads"
   ]
  },
  {
   "cell_type": "code",
   "execution_count": 4,
   "metadata": {
    "scrolled": false
   },
   "outputs": [
    {
     "data": {
      "application/vnd.jupyter.widget-view+json": {
       "model_id": "0ed3d86b8d744554b35928ad2fe187e2",
       "version_major": 2,
       "version_minor": 0
      },
      "text/plain": [
       "HBox(children=(IntProgress(value=0, max=10), HTML(value='')))"
      ]
     },
     "metadata": {},
     "output_type": "display_data"
    },
    {
     "name": "stdout",
     "output_type": "stream",
     "text": [
      "Starts downloading from: heuristic_crawler/links/amazon.csv\n"
     ]
    },
    {
     "data": {
      "application/vnd.jupyter.widget-view+json": {
       "model_id": "ac49f9af9aee44959e10e70cfb130133",
       "version_major": 2,
       "version_minor": 0
      },
      "text/plain": [
       "HBox(children=(IntProgress(value=0, max=1025), HTML(value='')))"
      ]
     },
     "metadata": {},
     "output_type": "display_data"
    },
    {
     "name": "stdout",
     "output_type": "stream",
     "text": [
      "Starts downloading from: heuristic_crawler/links/avenida.csv\n"
     ]
    },
    {
     "data": {
      "application/vnd.jupyter.widget-view+json": {
       "model_id": "0c674a93d054421184ef1737b3dbb01b",
       "version_major": 2,
       "version_minor": 0
      },
      "text/plain": [
       "HBox(children=(IntProgress(value=0, max=1018), HTML(value='')))"
      ]
     },
     "metadata": {},
     "output_type": "display_data"
    },
    {
     "name": "stdout",
     "output_type": "stream",
     "text": [
      "Starts downloading from: heuristic_crawler/links/havan.csv\n"
     ]
    },
    {
     "data": {
      "application/vnd.jupyter.widget-view+json": {
       "model_id": "ab23030c36604138b4c88d8520be4275",
       "version_major": 2,
       "version_minor": 0
      },
      "text/plain": [
       "HBox(children=(IntProgress(value=0, max=1007), HTML(value='')))"
      ]
     },
     "metadata": {},
     "output_type": "display_data"
    },
    {
     "name": "stdout",
     "output_type": "stream",
     "text": [
      "Starts downloading from: heuristic_crawler/links/cissamagazine.csv\n"
     ]
    },
    {
     "data": {
      "application/vnd.jupyter.widget-view+json": {
       "model_id": "82e25c9033304d4281a449efb7677656",
       "version_major": 2,
       "version_minor": 0
      },
      "text/plain": [
       "HBox(children=(IntProgress(value=0, max=1036), HTML(value='')))"
      ]
     },
     "metadata": {},
     "output_type": "display_data"
    },
    {
     "name": "stdout",
     "output_type": "stream",
     "text": [
      "Starts downloading from: heuristic_crawler/links/ibyte.csv\n"
     ]
    },
    {
     "data": {
      "application/vnd.jupyter.widget-view+json": {
       "model_id": "992789e9ba35454eb42f00cc8349a192",
       "version_major": 2,
       "version_minor": 0
      },
      "text/plain": [
       "HBox(children=(IntProgress(value=0, max=1001), HTML(value='')))"
      ]
     },
     "metadata": {},
     "output_type": "display_data"
    },
    {
     "name": "stdout",
     "output_type": "stream",
     "text": [
      "Starts downloading from: heuristic_crawler/links/kabum.csv\n"
     ]
    },
    {
     "data": {
      "application/vnd.jupyter.widget-view+json": {
       "model_id": "e80685e06c4d44eeb2010a63cfe11871",
       "version_major": 2,
       "version_minor": 0
      },
      "text/plain": [
       "HBox(children=(IntProgress(value=0, max=1002), HTML(value='')))"
      ]
     },
     "metadata": {},
     "output_type": "display_data"
    },
    {
     "name": "stdout",
     "output_type": "stream",
     "text": [
      "Starts downloading from: heuristic_crawler/links/magazineluiza.csv\n"
     ]
    },
    {
     "data": {
      "application/vnd.jupyter.widget-view+json": {
       "model_id": "ee776b100e9944cba40b1768900e8617",
       "version_major": 2,
       "version_minor": 0
      },
      "text/plain": [
       "HBox(children=(IntProgress(value=0, max=1003), HTML(value='')))"
      ]
     },
     "metadata": {},
     "output_type": "display_data"
    },
    {
     "name": "stdout",
     "output_type": "stream",
     "text": [
      "Starts downloading from: heuristic_crawler/links/promobit.csv\n"
     ]
    },
    {
     "data": {
      "application/vnd.jupyter.widget-view+json": {
       "model_id": "1d2c4bbf403642c3b6bf818decc8a981",
       "version_major": 2,
       "version_minor": 0
      },
      "text/plain": [
       "HBox(children=(IntProgress(value=0, max=1004), HTML(value='')))"
      ]
     },
     "metadata": {},
     "output_type": "display_data"
    },
    {
     "name": "stdout",
     "output_type": "stream",
     "text": [
      "Starts downloading from: heuristic_crawler/links/taqi.csv\n"
     ]
    },
    {
     "data": {
      "application/vnd.jupyter.widget-view+json": {
       "model_id": "8de59948570e466e8f62761375dd306d",
       "version_major": 2,
       "version_minor": 0
      },
      "text/plain": [
       "HBox(children=(IntProgress(value=0, max=1001), HTML(value='')))"
      ]
     },
     "metadata": {},
     "output_type": "display_data"
    },
    {
     "name": "stdout",
     "output_type": "stream",
     "text": [
      "Starts downloading from: heuristic_crawler/links/colombo.csv\n"
     ]
    },
    {
     "data": {
      "application/vnd.jupyter.widget-view+json": {
       "model_id": "af7e41b1dbe446cdb77b00e90b34756f",
       "version_major": 2,
       "version_minor": 0
      },
      "text/plain": [
       "HBox(children=(IntProgress(value=0, max=1005), HTML(value='')))"
      ]
     },
     "metadata": {},
     "output_type": "display_data"
    },
    {
     "name": "stdout",
     "output_type": "stream",
     "text": [
      "Finished downloading from: heuristic_crawler/links/colombo.csv\n",
      "Valid links/Total links: 878/1005\n",
      "Finished downloading from: heuristic_crawler/links/havan.csv\n",
      "Valid links/Total links: 1007/1007\n",
      "Finished downloading from: heuristic_crawler/links/amazon.csv\n",
      "Valid links/Total links: 1025/1025\n",
      "Finished downloading from: heuristic_crawler/links/cissamagazine.csv\n",
      "Valid links/Total links: 1034/1036\n",
      "Finished downloading from: heuristic_crawler/links/taqi.csv\n",
      "Valid links/Total links: 999/1001\n",
      "Finished downloading from: heuristic_crawler/links/ibyte.csv\n",
      "Valid links/Total links: 1001/1001\n",
      "Finished downloading from: heuristic_crawler/links/magazineluiza.csv\n",
      "Valid links/Total links: 995/1003\n",
      "Finished downloading from: heuristic_crawler/links/promobit.csv\n",
      "Valid links/Total links: 972/1004\n"
     ]
    }
   ],
   "source": [
    "#starts the download of all the pages\n",
    "threads = []\n",
    "for file in tqdm(FILE_NAMES):\n",
    "    thread = threading.Thread(target=download_pages, args=(file,))\n",
    "    threads.append(thread)\n",
    "    thread.start()\n",
    "    time.sleep(0.2)"
   ]
  },
  {
   "cell_type": "markdown",
   "metadata": {},
   "source": [
    "# Single Download"
   ]
  },
  {
   "cell_type": "code",
   "execution_count": null,
   "metadata": {
    "scrolled": false
   },
   "outputs": [],
   "source": [
    "url = FILE_NAMES[0]\n",
    "download_pages(url)"
   ]
  }
 ],
 "metadata": {
  "kernelspec": {
   "display_name": "Python 3",
   "language": "python",
   "name": "python3"
  },
  "language_info": {
   "codemirror_mode": {
    "name": "ipython",
    "version": 3
   },
   "file_extension": ".py",
   "mimetype": "text/x-python",
   "name": "python",
   "nbconvert_exporter": "python",
   "pygments_lexer": "ipython3",
   "version": "3.7.0"
  }
 },
 "nbformat": 4,
 "nbformat_minor": 2
}
