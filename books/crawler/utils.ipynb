{
 "cells": [
  {
   "cell_type": "code",
   "execution_count": 48,
   "metadata": {},
   "outputs": [],
   "source": [
    "import urllib\n",
    "import urllib.robotparser as urobot\n",
    "import time\n",
    "import os"
   ]
  },
  {
   "cell_type": "code",
   "execution_count": 49,
   "metadata": {},
   "outputs": [],
   "source": [
    "#function to parse the robots.txt of a url\n",
    "def getRobot(url):\n",
    "    try:\n",
    "        robotLink = url + \"/robots.txt\"\n",
    "        header = {'User-Agent': 'Mozilla/5.0 (Macintosh; Intel Mac OS X 10_14_5) AppleWebKit/605.1.15 (KHTML, like Gecko) Safari/605.1.15'}\n",
    "        rp = urobot.RobotFileParser()\n",
    "        rp.set_url(robotLink)\n",
    "        rp.read()\n",
    "        \n",
    "        return rp         \n",
    "    except Exception:\n",
    "        return None"
   ]
  },
  {
   "cell_type": "code",
   "execution_count": 50,
   "metadata": {},
   "outputs": [],
   "source": [
    "#function to set the CSV file name matching the URL\n",
    "def set_file_name(url):\n",
    "    file_name = url.split(\".\")\n",
    "    return file_name[1]"
   ]
  },
  {
   "cell_type": "code",
   "execution_count": 51,
   "metadata": {},
   "outputs": [],
   "source": [
    "#save files to a directory\n",
    "# ex: save_file(\"string or content to save\", \"firstDir/secondDir\", \"file_name.txt\")\n",
    "def save_file(content, directory, file_name):\n",
    "    if not os.path.exists(directory):\n",
    "        os.makedirs(directory)\n",
    "    with open(os.path.join(directory, file_name), \"w\") as handle:\n",
    "        handle.write(content)"
   ]
  }
 ],
 "metadata": {
  "kernelspec": {
   "display_name": "Python 3",
   "language": "python",
   "name": "python3"
  },
  "language_info": {
   "codemirror_mode": {
    "name": "ipython",
    "version": 3
   },
   "file_extension": ".py",
   "mimetype": "text/x-python",
   "name": "python",
   "nbconvert_exporter": "python",
   "pygments_lexer": "ipython3",
   "version": "3.7.0"
  }
 },
 "nbformat": 4,
 "nbformat_minor": 2
}
