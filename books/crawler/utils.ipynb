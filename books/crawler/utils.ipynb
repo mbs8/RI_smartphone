{
 "cells": [
  {
   "cell_type": "code",
   "execution_count": 21,
   "metadata": {},
   "outputs": [],
   "source": [
    "import urllib\n",
    "import urllib.robotparser as urobot\n",
    "import time\n",
    "import os"
   ]
  },
  {
   "cell_type": "code",
   "execution_count": 22,
   "metadata": {},
   "outputs": [],
   "source": [
    "#function to parse the robots.txt of a url\n",
    "def getRobot(url):\n",
    "    try:\n",
    "        robotLink = url + \"/robots.txt\"\n",
    "        rp = urobot.RobotFileParser()\n",
    "        rp.set_url(robotLink)\n",
    "        rp.read()\n",
    "        \n",
    "        return rp         \n",
    "    except Exception:\n",
    "        return None"
   ]
  },
  {
   "cell_type": "code",
   "execution_count": 23,
   "metadata": {},
   "outputs": [],
   "source": [
    "#function to set the CSV file name matching the URL\n",
    "def set_file_name(url):\n",
    "    file_name = url.split(\".\")\n",
    "    return file_name[1]"
   ]
  },
  {
   "cell_type": "code",
   "execution_count": 24,
   "metadata": {},
   "outputs": [],
   "source": [
    "#save files to a directory\n",
    "# ex: save_file(\"string or content to save\", \"firstDir/secondDir\", \"file_name.txt\", \"a\")\n",
    "def save_file(content, directory, file_name, mode=\"w\"):\n",
    "    file_name = file_name\n",
    "    if not os.path.exists(directory):\n",
    "        os.makedirs(directory)\n",
    "    with open(os.path.join(directory, file_name), mode) as handle:\n",
    "        handle.write(content)"
   ]
  },
  {
   "cell_type": "code",
   "execution_count": 25,
   "metadata": {},
   "outputs": [],
   "source": [
    "def format_link(url, link):\n",
    "    url = url.split(\"https://\")[1]\n",
    "    if(\"\\\"\" in link):\n",
    "        link = link.split(\"\\\"\")[1]\n",
    "    if(\"\\'\" in link):\n",
    "        link = link.split(\"\\'\")[1]\n",
    "        print(link)\n",
    "    if('http' not in link):\n",
    "        link = link.split(\"/\")\n",
    "        link = list(filter(lambda a: a!='', link))\n",
    "        link = \"/\".join(link)\n",
    "        if(url not in link):\n",
    "            link = \"http://\" + url + \"/\" + link\n",
    "        else:\n",
    "            link = \"http://\" + link\n",
    "    return link"
   ]
  },
  {
   "cell_type": "code",
   "execution_count": 26,
   "metadata": {},
   "outputs": [],
   "source": [
    "#appends a determined extension to all files in directory\n",
    "def add_extension(DIRECTORY, EXTENSION):\n",
    "\n",
    "    files = os.listdir(DIRECTORY)\n",
    "\n",
    "    #in case of mac removes the hidden .DS_Store file from the list\n",
    "    if(\".DS_Store\" in files):\n",
    "        files.remove(\".DS_Store\")\n",
    "    print(files)\n",
    "\n",
    "    for file in files:\n",
    "        if(EXTENSION not in file):\n",
    "            os.rename(DIRECTORY+file, DIRECTORY+file+EXTENSION)"
   ]
  }
 ],
 "metadata": {
  "kernelspec": {
   "display_name": "Python 3",
   "language": "python",
   "name": "python3"
  },
  "language_info": {
   "codemirror_mode": {
    "name": "ipython",
    "version": 3
   },
   "file_extension": ".py",
   "mimetype": "text/x-python",
   "name": "python",
   "nbconvert_exporter": "python",
   "pygments_lexer": "ipython3",
   "version": "3.7.0"
  }
 },
 "nbformat": 4,
 "nbformat_minor": 2
}
